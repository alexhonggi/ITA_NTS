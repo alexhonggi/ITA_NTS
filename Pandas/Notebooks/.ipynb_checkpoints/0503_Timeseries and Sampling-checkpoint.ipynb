{
 "cells": [
  {
   "cell_type": "code",
   "execution_count": 12,
   "id": "6296f9f4-c6da-470f-89ae-63fef4aa8c06",
   "metadata": {},
   "outputs": [],
   "source": [
    "import numpy as np\n",
    "import pandas as pd\n",
    "import datetime\n",
    "# reference: https://pandas.pydata.org/docs/user_guide/timeseries.html"
   ]
  },
  {
   "cell_type": "markdown",
   "id": "50028404-e27d-4424-b5fc-34a012d97fe5",
   "metadata": {},
   "source": [
    "## Time Series"
   ]
  },
  {
   "cell_type": "code",
   "execution_count": 17,
   "id": "87855f97-1c76-4d90-9aaa-85a648e4c71c",
   "metadata": {},
   "outputs": [
    {
     "data": {
      "text/plain": [
       "0               1/1/2018\n",
       "1             2018-01-01\n",
       "2    2018-01-01 00:00:00\n",
       "dtype: object"
      ]
     },
     "execution_count": 17,
     "metadata": {},
     "output_type": "execute_result"
    }
   ],
   "source": [
    "dts = pd.Series(\n",
    "    [\"1/1/2018\", np.datetime64(\"2018-01-01\"), datetime.datetime(2018, 1, 1)]\n",
    ")\n",
    "dts"
   ]
  },
  {
   "cell_type": "code",
   "execution_count": 19,
   "id": "b14b1a50-89e2-4260-86a4-9326b6857564",
   "metadata": {},
   "outputs": [
    {
     "data": {
      "text/plain": [
       "0   2018-01-01\n",
       "1   2018-01-01\n",
       "2   2018-01-01\n",
       "dtype: datetime64[ns]"
      ]
     },
     "execution_count": 19,
     "metadata": {},
     "output_type": "execute_result"
    }
   ],
   "source": [
    "dts.astype('datetime64[ns]')"
   ]
  },
  {
   "cell_type": "markdown",
   "id": "40da5776-f721-4728-9003-edf70914c865",
   "metadata": {},
   "source": [
    "### timezone 조작"
   ]
  },
  {
   "cell_type": "code",
   "execution_count": 27,
   "id": "e0cd6a8c-bc73-4a0d-9205-0de2af71bab9",
   "metadata": {},
   "outputs": [
    {
     "data": {
      "text/plain": [
       "DatetimeIndex(['2024-01-01 00:00:00', '2024-01-01 01:00:00',\n",
       "               '2024-01-01 02:00:00', '2024-01-01 03:00:00',\n",
       "               '2024-01-01 04:00:00', '2024-01-01 05:00:00',\n",
       "               '2024-01-01 06:00:00', '2024-01-01 07:00:00',\n",
       "               '2024-01-01 08:00:00', '2024-01-01 09:00:00'],\n",
       "              dtype='datetime64[ns]', freq='h')"
      ]
     },
     "execution_count": 27,
     "metadata": {},
     "output_type": "execute_result"
    }
   ],
   "source": [
    "ts_tz = pd.date_range(\"1/1/2024\", periods=10, freq=\"h\")\n",
    "ts_tz"
   ]
  },
  {
   "cell_type": "code",
   "execution_count": 28,
   "id": "a030bc9c-85b1-4121-a212-0be4f3e7d134",
   "metadata": {},
   "outputs": [
    {
     "data": {
      "text/plain": [
       "DatetimeIndex(['2024-01-01 00:00:00+00:00', '2024-01-01 01:00:00+00:00',\n",
       "               '2024-01-01 02:00:00+00:00', '2024-01-01 03:00:00+00:00',\n",
       "               '2024-01-01 04:00:00+00:00', '2024-01-01 05:00:00+00:00',\n",
       "               '2024-01-01 06:00:00+00:00', '2024-01-01 07:00:00+00:00',\n",
       "               '2024-01-01 08:00:00+00:00', '2024-01-01 09:00:00+00:00'],\n",
       "              dtype='datetime64[ns, UTC]', freq='h')"
      ]
     },
     "execution_count": 28,
     "metadata": {},
     "output_type": "execute_result"
    }
   ],
   "source": [
    "ts_utc = ts_tz.tz_localize(\"UTC\")\n",
    "ts_utc"
   ]
  },
  {
   "cell_type": "code",
   "execution_count": 29,
   "id": "f499c21d-ae14-4663-8835-14ab9a338c86",
   "metadata": {},
   "outputs": [
    {
     "data": {
      "text/plain": [
       "DatetimeIndex(['2024-01-01 09:00:00+09:00', '2024-01-01 10:00:00+09:00',\n",
       "               '2024-01-01 11:00:00+09:00', '2024-01-01 12:00:00+09:00',\n",
       "               '2024-01-01 13:00:00+09:00', '2024-01-01 14:00:00+09:00',\n",
       "               '2024-01-01 15:00:00+09:00', '2024-01-01 16:00:00+09:00',\n",
       "               '2024-01-01 17:00:00+09:00', '2024-01-01 18:00:00+09:00'],\n",
       "              dtype='datetime64[ns, Asia/Seoul]', freq='h')"
      ]
     },
     "execution_count": 29,
     "metadata": {},
     "output_type": "execute_result"
    }
   ],
   "source": [
    "ts_utc.tz_convert(\"Asia/Seoul\")"
   ]
  },
  {
   "cell_type": "markdown",
   "id": "7341fd97-d3a1-44ad-bec3-d464dbcc7418",
   "metadata": {},
   "source": [
    "## Sampling"
   ]
  },
  {
   "cell_type": "code",
   "execution_count": 30,
   "id": "13183152-8795-4acf-8441-5523df2bb6e7",
   "metadata": {},
   "outputs": [],
   "source": [
    "rng = pd.date_range(\"1/1/2012\", periods=100, freq=\"s\")"
   ]
  },
  {
   "cell_type": "code",
   "execution_count": 31,
   "id": "3c581ff1-f845-4465-8fb7-356b5dfa29a3",
   "metadata": {},
   "outputs": [
    {
     "data": {
      "text/plain": [
       "2012-01-01 00:00:00    380\n",
       "2012-01-01 00:00:01    264\n",
       "2012-01-01 00:00:02    248\n",
       "2012-01-01 00:00:03    342\n",
       "2012-01-01 00:00:04    362\n",
       "                      ... \n",
       "2012-01-01 00:01:35    333\n",
       "2012-01-01 00:01:36     79\n",
       "2012-01-01 00:01:37    205\n",
       "2012-01-01 00:01:38    193\n",
       "2012-01-01 00:01:39     80\n",
       "Freq: s, Length: 100, dtype: int64"
      ]
     },
     "execution_count": 31,
     "metadata": {},
     "output_type": "execute_result"
    }
   ],
   "source": [
    "ts = pd.Series(np.random.randint(0, 500, len(rng)), index=rng)\n",
    "ts"
   ]
  },
  {
   "cell_type": "code",
   "execution_count": 32,
   "id": "d8803fd6-d420-4577-b37e-1e78d181276d",
   "metadata": {},
   "outputs": [
    {
     "data": {
      "text/plain": [
       "2012-01-01    25627\n",
       "Freq: 5min, dtype: int64"
      ]
     },
     "execution_count": 32,
     "metadata": {},
     "output_type": "execute_result"
    }
   ],
   "source": [
    "ts.resample(\"5Min\").sum()"
   ]
  },
  {
   "cell_type": "code",
   "execution_count": 36,
   "id": "87818e31-504d-497a-becf-ec96a090a9de",
   "metadata": {},
   "outputs": [
    {
     "data": {
      "text/plain": [
       "<pandas.core.resample.DatetimeIndexResampler object at 0x10c394710>"
      ]
     },
     "execution_count": 36,
     "metadata": {},
     "output_type": "execute_result"
    }
   ],
   "source": [
    "ts.resample(\"10s\")"
   ]
  },
  {
   "cell_type": "code",
   "execution_count": 37,
   "id": "20a0053d-dbe0-4d90-b92b-546f6ec405bd",
   "metadata": {},
   "outputs": [
    {
     "data": {
      "text/html": [
       "<div>\n",
       "<style scoped>\n",
       "    .dataframe tbody tr th:only-of-type {\n",
       "        vertical-align: middle;\n",
       "    }\n",
       "\n",
       "    .dataframe tbody tr th {\n",
       "        vertical-align: top;\n",
       "    }\n",
       "\n",
       "    .dataframe thead th {\n",
       "        text-align: right;\n",
       "    }\n",
       "</style>\n",
       "<table border=\"1\" class=\"dataframe\">\n",
       "  <thead>\n",
       "    <tr style=\"text-align: right;\">\n",
       "      <th></th>\n",
       "      <th>min</th>\n",
       "      <th>max</th>\n",
       "    </tr>\n",
       "  </thead>\n",
       "  <tbody>\n",
       "    <tr>\n",
       "      <th>2012-01-01 00:00:00</th>\n",
       "      <td>248</td>\n",
       "      <td>451</td>\n",
       "    </tr>\n",
       "    <tr>\n",
       "      <th>2012-01-01 00:00:10</th>\n",
       "      <td>19</td>\n",
       "      <td>482</td>\n",
       "    </tr>\n",
       "    <tr>\n",
       "      <th>2012-01-01 00:00:20</th>\n",
       "      <td>92</td>\n",
       "      <td>479</td>\n",
       "    </tr>\n",
       "    <tr>\n",
       "      <th>2012-01-01 00:00:30</th>\n",
       "      <td>3</td>\n",
       "      <td>480</td>\n",
       "    </tr>\n",
       "    <tr>\n",
       "      <th>2012-01-01 00:00:40</th>\n",
       "      <td>25</td>\n",
       "      <td>422</td>\n",
       "    </tr>\n",
       "    <tr>\n",
       "      <th>2012-01-01 00:00:50</th>\n",
       "      <td>14</td>\n",
       "      <td>456</td>\n",
       "    </tr>\n",
       "    <tr>\n",
       "      <th>2012-01-01 00:01:00</th>\n",
       "      <td>7</td>\n",
       "      <td>440</td>\n",
       "    </tr>\n",
       "    <tr>\n",
       "      <th>2012-01-01 00:01:10</th>\n",
       "      <td>42</td>\n",
       "      <td>452</td>\n",
       "    </tr>\n",
       "    <tr>\n",
       "      <th>2012-01-01 00:01:20</th>\n",
       "      <td>46</td>\n",
       "      <td>497</td>\n",
       "    </tr>\n",
       "    <tr>\n",
       "      <th>2012-01-01 00:01:30</th>\n",
       "      <td>52</td>\n",
       "      <td>333</td>\n",
       "    </tr>\n",
       "  </tbody>\n",
       "</table>\n",
       "</div>"
      ],
      "text/plain": [
       "                     min  max\n",
       "2012-01-01 00:00:00  248  451\n",
       "2012-01-01 00:00:10   19  482\n",
       "2012-01-01 00:00:20   92  479\n",
       "2012-01-01 00:00:30    3  480\n",
       "2012-01-01 00:00:40   25  422\n",
       "2012-01-01 00:00:50   14  456\n",
       "2012-01-01 00:01:00    7  440\n",
       "2012-01-01 00:01:10   42  452\n",
       "2012-01-01 00:01:20   46  497\n",
       "2012-01-01 00:01:30   52  333"
      ]
     },
     "execution_count": 37,
     "metadata": {},
     "output_type": "execute_result"
    }
   ],
   "source": [
    "ts.resample(\"10s\").agg(['min', 'max'])"
   ]
  }
 ],
 "metadata": {
  "kernelspec": {
   "display_name": "Python 3 (ipykernel)",
   "language": "python",
   "name": "python3"
  },
  "language_info": {
   "codemirror_mode": {
    "name": "ipython",
    "version": 3
   },
   "file_extension": ".py",
   "mimetype": "text/x-python",
   "name": "python",
   "nbconvert_exporter": "python",
   "pygments_lexer": "ipython3",
   "version": "3.11.9"
  }
 },
 "nbformat": 4,
 "nbformat_minor": 5
}

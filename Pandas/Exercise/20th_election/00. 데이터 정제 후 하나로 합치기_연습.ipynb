{
 "cells": [
  {
   "cell_type": "markdown",
   "id": "3a2fbb14",
   "metadata": {},
   "source": [
    "reference : 『파이썬으로 데이터 주무르기, 민형기, 비제이퍼블릭』 선관위 대선 결과 : http://info.nec.go.kr/main/showDocument.xhtml?electionId=0000000000&topMenuId=VC&secondMenuId=VCCP09"
   ]
  },
  {
   "cell_type": "code",
   "execution_count": null,
   "id": "1c813aee",
   "metadata": {},
   "outputs": [],
   "source": [
    "import pandas as pd\n",
    "import numpy as np"
   ]
  },
  {
   "cell_type": "code",
   "execution_count": null,
   "id": "335d494f",
   "metadata": {},
   "outputs": [],
   "source": [
    "df = pd.read_excel('./raw_data/서울.xlsx', skiprows=6 )"
   ]
  },
  {
   "cell_type": "code",
   "execution_count": null,
   "id": "216439c5",
   "metadata": {},
   "outputs": [],
   "source": [
    "df.head()"
   ]
  },
  {
   "cell_type": "code",
   "execution_count": null,
   "id": "4fa6e018",
   "metadata": {},
   "outputs": [],
   "source": [
    "df = df.iloc[::2, :5]"
   ]
  },
  {
   "cell_type": "code",
   "execution_count": null,
   "id": "ebfbaeb5",
   "metadata": {},
   "outputs": [],
   "source": [
    "df.head()"
   ]
  },
  {
   "cell_type": "code",
   "execution_count": null,
   "id": "490164a3",
   "metadata": {
    "scrolled": true
   },
   "outputs": [],
   "source": [
    "df.drop(0, inplace=True)"
   ]
  },
  {
   "cell_type": "code",
   "execution_count": null,
   "id": "182df5ab",
   "metadata": {},
   "outputs": [],
   "source": [
    "df.columns"
   ]
  },
  {
   "cell_type": "code",
   "execution_count": null,
   "id": "f1dc7516",
   "metadata": {},
   "outputs": [],
   "source": [
    "df.rename(columns = {'Unnamed: 0':'군구','Unnamed: 1':'선거인수','Unnamed: 2':'투표수','더불어민주당\\n이재명':'이재명','국민의힘\\n윤석열':'윤석열'}, inplace=True)"
   ]
  },
  {
   "cell_type": "code",
   "execution_count": null,
   "id": "4c5752b6",
   "metadata": {},
   "outputs": [],
   "source": [
    "df.head(5)"
   ]
  },
  {
   "cell_type": "code",
   "execution_count": null,
   "id": "2fa0dc1d",
   "metadata": {},
   "outputs": [],
   "source": [
    "df = df.assign(시도=lambda x: '서울')"
   ]
  },
  {
   "cell_type": "code",
   "execution_count": null,
   "id": "b26f5f14",
   "metadata": {},
   "outputs": [],
   "source": [
    "df.columns"
   ]
  },
  {
   "cell_type": "code",
   "execution_count": null,
   "id": "39fd423c",
   "metadata": {
    "scrolled": true
   },
   "outputs": [],
   "source": [
    "df = df.reindex(columns=['시도', '군구', '선거인수','투표수','이재명','윤석열'])\n",
    "df.head()"
   ]
  },
  {
   "cell_type": "code",
   "execution_count": null,
   "id": "b04481b4",
   "metadata": {},
   "outputs": [],
   "source": [
    "df = pd.read_excel('./raw_data/서울.xlsx', skiprows=6 )"
   ]
  },
  {
   "cell_type": "code",
   "execution_count": null,
   "id": "9f703223",
   "metadata": {},
   "outputs": [],
   "source": [
    "df = df.iloc[::2, :5]\\\n",
    ".drop(0)\\\n",
    ".rename(columns = {'Unnamed: 0':'군구','Unnamed: 1':'선거인수','Unnamed: 2':'투표수','더불어민주당\\n이재명':'이재명','국민의힘\\n윤석열':'윤석열'}).assign(시도=lambda x: '서울')\\\n",
    ".reindex(columns=['시도', '군구', '선거인수','투표수','이재명','윤석열'])"
   ]
  },
  {
   "cell_type": "code",
   "execution_count": null,
   "id": "d449e374",
   "metadata": {},
   "outputs": [],
   "source": [
    "df.head()"
   ]
  },
  {
   "cell_type": "code",
   "execution_count": null,
   "id": "879cb330",
   "metadata": {},
   "outputs": [],
   "source": []
  }
 ],
 "metadata": {
  "kernelspec": {
   "display_name": "Python 3 (ipykernel)",
   "language": "python",
   "name": "python3"
  },
  "language_info": {
   "codemirror_mode": {
    "name": "ipython",
    "version": 3
   },
   "file_extension": ".py",
   "mimetype": "text/x-python",
   "name": "python",
   "nbconvert_exporter": "python",
   "pygments_lexer": "ipython3",
   "version": "3.12.4"
  }
 },
 "nbformat": 4,
 "nbformat_minor": 5
}

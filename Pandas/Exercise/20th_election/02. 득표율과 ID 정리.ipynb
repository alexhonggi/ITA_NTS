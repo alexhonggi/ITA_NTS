{
 "cells": [
  {
   "cell_type": "markdown",
   "id": "ea0b2f38",
   "metadata": {},
   "source": [
    "reference : 『파이썬으로 데이터 주무르기, 민형기, 비제이퍼블릭』"
   ]
  },
  {
   "cell_type": "code",
   "execution_count": null,
   "id": "09d6f202",
   "metadata": {},
   "outputs": [],
   "source": [
    "import pandas as pd\n",
    "import numpy as np"
   ]
  },
  {
   "cell_type": "code",
   "execution_count": null,
   "id": "0431c8c0",
   "metadata": {},
   "outputs": [],
   "source": [
    "df = pd.read_csv('20th_elec_result.csv')"
   ]
  },
  {
   "cell_type": "code",
   "execution_count": null,
   "id": "4796aa42",
   "metadata": {},
   "outputs": [],
   "source": [
    "df.head()"
   ]
  },
  {
   "cell_type": "code",
   "execution_count": null,
   "id": "760215b6",
   "metadata": {},
   "outputs": [],
   "source": [
    "df = df.drop('Unnamed: 0', axis=1)"
   ]
  },
  {
   "cell_type": "code",
   "execution_count": null,
   "id": "1a4a6dd4",
   "metadata": {},
   "outputs": [],
   "source": [
    "df.head()"
   ]
  },
  {
   "cell_type": "code",
   "execution_count": null,
   "id": "7906f2b6",
   "metadata": {},
   "outputs": [],
   "source": [
    "# 득표율 계산\n",
    "df['이재명_득표율'] = df['이재명']/df['투표수']*100\n",
    "df['윤석열_득표율'] = df['윤석열']/df['투표수']*100\n",
    "df.head()"
   ]
  },
  {
   "cell_type": "markdown",
   "id": "2faa7224",
   "metadata": {},
   "source": [
    "### ID 정리하기"
   ]
  },
  {
   "cell_type": "code",
   "execution_count": null,
   "id": "bee40fea",
   "metadata": {},
   "outputs": [],
   "source": [
    "sido_candi =  df['시도']\n",
    "sido_candi = [name[:2] if name[:2] in ['서울','부산','대구','광주','인천','대전','울산']\n",
    "                       else '' for name in sido_candi]\n",
    "sido_candi"
   ]
  },
  {
   "cell_type": "code",
   "execution_count": null,
   "id": "b654b0b4",
   "metadata": {},
   "outputs": [],
   "source": [
    "def cut_char_sigu(name):\n",
    "    return name if len(name)==2 else name[:-1]"
   ]
  },
  {
   "cell_type": "code",
   "execution_count": null,
   "id": "12d45ebb",
   "metadata": {},
   "outputs": [],
   "source": [
    "import re\n",
    "\n",
    "sigun_candi = ['']*len(df)\n",
    "\n",
    "for n in df.index:\n",
    "    each = df['군구'][n]\n",
    "    if each[:2] in ['수원', '성남','안양','안산','고양', '용인','청주','천안','전주','포항','창원']:\n",
    "        sigun_candi[n] = re.split('시', each)[0]+' '+ \\\n",
    "        cut_char_sigu(re.split('시', each)[1])\n",
    "    else:\n",
    "        sigun_candi[n] = cut_char_sigu(each)\n",
    "        \n",
    "sigun_candi"
   ]
  },
  {
   "cell_type": "code",
   "execution_count": null,
   "id": "c64170f4",
   "metadata": {},
   "outputs": [],
   "source": [
    "ID_candi = [sido_candi[n]+' '+sigun_candi[n] for n in range(0,len(sigun_candi))]\n",
    "\n",
    "ID_candi = [name[1:] if name[0]==' ' else name for name in ID_candi]\n",
    "ID_candi = [name[:2] if name[:2]=='세종' else name for name in ID_candi]\n",
    "\n",
    "ID_candi"
   ]
  },
  {
   "cell_type": "code",
   "execution_count": null,
   "id": "91a4743d",
   "metadata": {},
   "outputs": [],
   "source": [
    "df['ID'] = ID_candi"
   ]
  },
  {
   "cell_type": "code",
   "execution_count": null,
   "id": "d737eb8c",
   "metadata": {},
   "outputs": [],
   "source": [
    "df.head()"
   ]
  },
  {
   "cell_type": "markdown",
   "id": "c07dd72a",
   "metadata": {},
   "source": [
    "###  몇몇 문제되는 ID 정리하기"
   ]
  },
  {
   "cell_type": "code",
   "execution_count": null,
   "id": "6ac041df",
   "metadata": {},
   "outputs": [],
   "source": [
    "df[df['ID'] == '고성']"
   ]
  },
  {
   "cell_type": "code",
   "execution_count": null,
   "id": "7e14bb3e",
   "metadata": {},
   "outputs": [],
   "source": [
    "df.loc[83, 'ID'] = '고성(강원)'\n",
    "df.loc[142, 'ID'] = '고성(경남)'\n",
    "\n",
    "df[df['군구'] == '고성군']"
   ]
  },
  {
   "cell_type": "code",
   "execution_count": null,
   "id": "21f0ea5f",
   "metadata": {},
   "outputs": [],
   "source": [
    "df[df['시도'] == '경상남도']"
   ]
  },
  {
   "cell_type": "code",
   "execution_count": null,
   "id": "bb49c37e",
   "metadata": {},
   "outputs": [],
   "source": [
    "df.loc[137, 'ID'] = '창원 합포'\n",
    "df.loc[138, 'ID'] = '창원 회원'\n",
    "\n",
    "df[df['시도'] == '경상남도']"
   ]
  },
  {
   "cell_type": "code",
   "execution_count": null,
   "id": "1d008f88",
   "metadata": {},
   "outputs": [],
   "source": [
    "df[df['군구'] == '부천시']"
   ]
  },
  {
   "cell_type": "markdown",
   "id": "8ece650b",
   "metadata": {},
   "source": [
    "#### 부천은 (소사, 오정, 원미)를 편의상 득표수를 3으로 나눈다."
   ]
  },
  {
   "cell_type": "code",
   "execution_count": null,
   "id": "180f30a8",
   "metadata": {},
   "outputs": [],
   "source": [
    "df.tail()"
   ]
  },
  {
   "cell_type": "code",
   "execution_count": null,
   "id": "42f6df79",
   "metadata": {},
   "outputs": [],
   "source": [
    "lee_tmp = df.loc[103, '이재명']/3\n",
    "yun_tmp = df.loc[103, '윤석열']/3\n",
    "pop_tmp = df.loc[103, '투표수']/3\n",
    "realpop_tmp = df.loc[103, '선거인수']/3\n",
    "\n",
    "rate_lee_tmp = df.loc[103, '이재명_득표율']\n",
    "rate_yun_tmp = df.loc[103, '윤석열_득표율']\n",
    "\n",
    "\n",
    "df.loc[250] = ['경기도', '부천시', realpop_tmp, pop_tmp, lee_tmp, yun_tmp, rate_lee_tmp, rate_yun_tmp, '부천 소사']\n",
    "df.loc[251] = ['경기도', '부천시', realpop_tmp, pop_tmp, lee_tmp, yun_tmp, rate_lee_tmp, rate_yun_tmp, '부천 오정']\n",
    "df.loc[252] = ['경기도', '부천시', realpop_tmp, pop_tmp, lee_tmp, yun_tmp, rate_lee_tmp, rate_yun_tmp, '부천 원미']"
   ]
  },
  {
   "cell_type": "code",
   "execution_count": null,
   "id": "2146502c",
   "metadata": {},
   "outputs": [],
   "source": [
    "df.tail()"
   ]
  },
  {
   "cell_type": "code",
   "execution_count": null,
   "id": "3e686214",
   "metadata": {},
   "outputs": [],
   "source": [
    "df.drop(103, inplace=True)"
   ]
  },
  {
   "cell_type": "code",
   "execution_count": null,
   "id": "77abadd0",
   "metadata": {},
   "outputs": [],
   "source": [
    "df[df['군구']=='부천시']"
   ]
  },
  {
   "cell_type": "code",
   "execution_count": null,
   "id": "d8235878",
   "metadata": {},
   "outputs": [],
   "source": [
    "df.info()"
   ]
  },
  {
   "cell_type": "code",
   "execution_count": null,
   "id": "a5c88679",
   "metadata": {},
   "outputs": [],
   "source": [
    "df.to_csv('20th_elec_result2.csv')"
   ]
  },
  {
   "cell_type": "code",
   "execution_count": null,
   "id": "a94143f7",
   "metadata": {},
   "outputs": [],
   "source": []
  }
 ],
 "metadata": {
  "kernelspec": {
   "display_name": "Python 3 (ipykernel)",
   "language": "python",
   "name": "python3"
  },
  "language_info": {
   "codemirror_mode": {
    "name": "ipython",
    "version": 3
   },
   "file_extension": ".py",
   "mimetype": "text/x-python",
   "name": "python",
   "nbconvert_exporter": "python",
   "pygments_lexer": "ipython3",
   "version": "3.12.4"
  }
 },
 "nbformat": 4,
 "nbformat_minor": 5
}

{
 "cells": [
  {
   "cell_type": "code",
   "execution_count": null,
   "id": "da96feee",
   "metadata": {},
   "outputs": [],
   "source": [
    "import pandas as pd\n",
    "import numpy as np\n",
    "import matplotlib.pyplot as plt"
   ]
  },
  {
   "cell_type": "code",
   "execution_count": null,
   "id": "d9584120",
   "metadata": {},
   "outputs": [],
   "source": [
    "draw_korea = pd.read_csv('05. draw_korea.csv', encoding='utf-8')"
   ]
  },
  {
   "cell_type": "code",
   "execution_count": null,
   "id": "b7c78cff",
   "metadata": {},
   "outputs": [],
   "source": [
    "draw_korea.columns\n",
    "draw_korea=draw_korea.drop('Unnamed: 0',axis=1)"
   ]
  },
  {
   "cell_type": "code",
   "execution_count": null,
   "id": "6dd10b2d",
   "metadata": {},
   "outputs": [],
   "source": [
    "draw_korea.head()"
   ]
  },
  {
   "cell_type": "code",
   "execution_count": null,
   "id": "6a4da1b8",
   "metadata": {},
   "outputs": [],
   "source": [
    "elec_result = pd.read_csv('20th_elec_result2.csv')\n",
    "elec_result=elec_result.drop('Unnamed: 0',axis=1)\n",
    "elec_result.head()"
   ]
  },
  {
   "cell_type": "markdown",
   "id": "78fb4226",
   "metadata": {},
   "source": [
    "#### draw_korea 와 elec_result 간의 ID 일치 여부 확인"
   ]
  },
  {
   "cell_type": "code",
   "execution_count": null,
   "id": "2afda257",
   "metadata": {},
   "outputs": [],
   "source": [
    "set(draw_korea['ID'].unique()) - set(elec_result['ID'].unique())"
   ]
  },
  {
   "cell_type": "code",
   "execution_count": null,
   "id": "017a3e52",
   "metadata": {},
   "outputs": [],
   "source": [
    "set(elec_result['ID'].unique()) - set(draw_korea['ID'].unique())"
   ]
  },
  {
   "cell_type": "markdown",
   "id": "afe22719",
   "metadata": {},
   "source": [
    "#### 인천 남구 -> 인천 미추홀로 변경, -> draw_korea ID 변경"
   ]
  },
  {
   "cell_type": "code",
   "execution_count": null,
   "id": "51d68125",
   "metadata": {},
   "outputs": [],
   "source": [
    "draw_korea[draw_korea['ID'] == '인천 남구']"
   ]
  },
  {
   "cell_type": "code",
   "execution_count": null,
   "id": "6c22a0ee",
   "metadata": {},
   "outputs": [],
   "source": [
    "draw_korea.loc[85,'ID'] = '인천 미추홀'"
   ]
  },
  {
   "cell_type": "code",
   "execution_count": null,
   "id": "879b2198",
   "metadata": {},
   "outputs": [],
   "source": [
    "set(draw_korea['ID'].unique()) - set(elec_result['ID'].unique())"
   ]
  },
  {
   "cell_type": "code",
   "execution_count": null,
   "id": "0db27305",
   "metadata": {},
   "outputs": [],
   "source": [
    "set(elec_result['ID'].unique()) - set(draw_korea['ID'].unique())"
   ]
  },
  {
   "cell_type": "markdown",
   "id": "c03d6068",
   "metadata": {},
   "source": [
    "### 선거 결과와 지도 데이터 합치기 준비 끝"
   ]
  },
  {
   "cell_type": "code",
   "execution_count": null,
   "id": "57d5d7ed",
   "metadata": {},
   "outputs": [],
   "source": [
    "final_elec_data = pd.merge(elec_result, draw_korea, how='left', on=['ID'])\n",
    "final_elec_data.head()"
   ]
  },
  {
   "cell_type": "code",
   "execution_count": null,
   "id": "b5050c1f",
   "metadata": {},
   "outputs": [],
   "source": [
    "final_elec_data['이재명_vs_윤석열'] = final_elec_data['이재명_득표율']-final_elec_data['윤석열_득표율']\n",
    "final_elec_data.head()"
   ]
  },
  {
   "cell_type": "markdown",
   "id": "59689d6b",
   "metadata": {},
   "source": [
    "### 시각화"
   ]
  },
  {
   "cell_type": "code",
   "execution_count": null,
   "id": "f211c078",
   "metadata": {},
   "outputs": [],
   "source": [
    "BORDER_LINES = [\n",
    "    [(5, 1), (5,2), (7,2), (7,3), (11,3), (11,0)], # 인천\n",
    "    [(5,4), (5,5), (2,5), (2,7), (4,7), (4,9), (7,9), \n",
    "     (7,7), (9,7), (9,5), (10,5), (10,4), (5,4)], # 서울\n",
    "    [(1,7), (1,8), (3,8), (3,10), (10,10), (10,7), \n",
    "     (12,7), (12,6), (11,6), (11,5), (12, 5), (12,4), \n",
    "     (11,4), (11,3)], # 경기도\n",
    "    [(8,10), (8,11), (6,11), (6,12)], # 강원도\n",
    "    [(12,5), (13,5), (13,4), (14,4), (14,5), (15,5), \n",
    "     (15,4), (16,4), (16,2)], # 충청북도\n",
    "    [(16,4), (17,4), (17,5), (16,5), (16,6), (19,6), \n",
    "     (19,5), (20,5), (20,4), (21,4), (21,3), (19,3), (19,1)], # 전라북도\n",
    "    [(13,5), (13,6), (16,6)], # 대전시\n",
    "    [(13,5), (14,5)], #세종시\n",
    "    [(21,2), (21,3), (22,3), (22,4), (24,4), (24,2), (21,2)], #광주\n",
    "    [(20,5), (21,5), (21,6), (23,6)], #전라남도\n",
    "    [(10,8), (12,8), (12,9), (14,9), (14,8), (16,8), (16,6)], #충청북도\n",
    "    [(14,9), (14,11), (14,12), (13,12), (13,13)], #경상북도\n",
    "    [(15,8), (17,8), (17,10), (16,10), (16,11), (14,11)], #대구\n",
    "    [(17,9), (18,9), (18,8), (19,8), (19,9), (20,9), (20,10), (21,10)], #부산\n",
    "    [(16,11), (16,13)], #울산\n",
    "    [(27,5), (27,6), (25,6)],\n",
    "]"
   ]
  },
  {
   "cell_type": "code",
   "execution_count": null,
   "id": "4210202b",
   "metadata": {},
   "outputs": [],
   "source": [
    "# 한글 폰트용\n",
    "%matplotlib inline\n",
    "\n",
    "path = \"c:/Windows/Fonts/malgun.ttf\"\n",
    "import platform\n",
    "from matplotlib import font_manager, rc\n",
    "if platform.system() == 'Darwin':\n",
    "    rc('font', family='AppleGothic')\n",
    "elif platform.system() == 'Windows':\n",
    "    font_name = font_manager.FontProperties(fname=path).get_name()\n",
    "    rc('font', family=font_name)\n",
    "else:\n",
    "    print('Unknown system... sorry~~~~')    \n",
    "\n",
    "plt.rcParams['axes.unicode_minus'] = False"
   ]
  },
  {
   "cell_type": "code",
   "execution_count": null,
   "id": "9aa0bfe2",
   "metadata": {},
   "outputs": [],
   "source": [
    "def drawKorea(targetData, blockedMap, cmapname):\n",
    "    gamma = 0.75\n",
    "\n",
    "    whitelabelmin = 20.\n",
    "\n",
    "    datalabel = targetData\n",
    "\n",
    "    tmp_max = max([ np.abs(min(blockedMap[targetData])), \n",
    "                                  np.abs(max(blockedMap[targetData]))])\n",
    "    vmin, vmax = -tmp_max, tmp_max\n",
    "\n",
    "    mapdata = blockedMap.pivot_table(index='y', columns='x', values=targetData)\n",
    "    masked_mapdata = np.ma.masked_where(np.isnan(mapdata), mapdata)\n",
    "    \n",
    "    plt.figure(figsize=(9, 11))\n",
    "    plt.pcolor(masked_mapdata, vmin=vmin, vmax=vmax, cmap=cmapname, \n",
    "               edgecolor='#aaaaaa', linewidth=0.5)\n",
    "\n",
    "    # 지역 이름 표시\n",
    "    for idx, row in blockedMap.iterrows():\n",
    "        # 광역시는 구 이름이 겹치는 경우가 많아서 시단위 이름도 같이 표시한다. \n",
    "        #(중구, 서구)\n",
    "        if len(row['ID'].split())==2:\n",
    "            dispname = '{}\\n{}'.format(row['ID'].split()[0], row['ID'].split()[1])\n",
    "        elif row['ID'][:2]=='고성':\n",
    "            dispname = '고성'\n",
    "        else:\n",
    "            dispname = row['ID']\n",
    "\n",
    "        # 서대문구, 서귀포시 같이 이름이 3자 이상인 경우에 작은 글자로 표시한다.\n",
    "        if len(dispname.splitlines()[-1]) >= 3:\n",
    "            fontsize, linespacing = 10.0, 1.1\n",
    "        else:\n",
    "            fontsize, linespacing = 11, 1.\n",
    "\n",
    "        annocolor = 'white' if np.abs(row[targetData]) > whitelabelmin else 'black'\n",
    "        plt.annotate(dispname, (row['x']+0.5, row['y']+0.5), weight='bold',\n",
    "                     fontsize=fontsize, ha='center', va='center', color=annocolor,\n",
    "                     linespacing=linespacing)\n",
    "\n",
    "    # 시도 경계 그린다.\n",
    "    for path in BORDER_LINES:\n",
    "        ys, xs = zip(*path)\n",
    "        plt.plot(xs, ys, c='black', lw=2)\n",
    "\n",
    "    plt.gca().invert_yaxis()\n",
    "\n",
    "    plt.axis('off')\n",
    "\n",
    "    cb = plt.colorbar(shrink=.2, aspect=10)\n",
    "    cb.set_label(datalabel)\n",
    "\n",
    "    plt.tight_layout()\n",
    "    plt.show()"
   ]
  },
  {
   "cell_type": "code",
   "execution_count": null,
   "id": "7104a6c8",
   "metadata": {},
   "outputs": [],
   "source": [
    "drawKorea('이재명_vs_윤석열', final_elec_data, 'RdBu')"
   ]
  },
  {
   "cell_type": "code",
   "execution_count": null,
   "id": "b3f9821e",
   "metadata": {},
   "outputs": [],
   "source": []
  }
 ],
 "metadata": {
  "kernelspec": {
   "display_name": "Python 3 (ipykernel)",
   "language": "python",
   "name": "python3"
  },
  "language_info": {
   "codemirror_mode": {
    "name": "ipython",
    "version": 3
   },
   "file_extension": ".py",
   "mimetype": "text/x-python",
   "name": "python",
   "nbconvert_exporter": "python",
   "pygments_lexer": "ipython3",
   "version": "3.12.4"
  }
 },
 "nbformat": 4,
 "nbformat_minor": 5
}

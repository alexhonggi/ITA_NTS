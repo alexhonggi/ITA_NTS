{
 "cells": [
  {
   "cell_type": "markdown",
   "id": "8e7989bc",
   "metadata": {},
   "source": [
    "reference : 『파이썬으로 데이터 주무르기, 민형기, 비제이퍼블릭』\n",
    "선관위 대선 결과 : http://info.nec.go.kr/main/showDocument.xhtml?electionId=0000000000&topMenuId=VC&secondMenuId=VCCP09"
   ]
  },
  {
   "cell_type": "code",
   "execution_count": null,
   "id": "61170a2a",
   "metadata": {},
   "outputs": [],
   "source": [
    "import pandas as pd\n",
    "import numpy as np"
   ]
  },
  {
   "cell_type": "code",
   "execution_count": null,
   "id": "fa2b4400",
   "metadata": {},
   "outputs": [],
   "source": [
    "sido_list = ['서울','부산','인천','대구','대전','광주','울산','세종'\\\n",
    "            ,'강원도','경기도','경상남도','경상북도','전라남도','전라북도','제주도','충청남도','충청북도']"
   ]
  },
  {
   "cell_type": "code",
   "execution_count": null,
   "id": "db6c584e",
   "metadata": {},
   "outputs": [],
   "source": [
    "len(sido_list)"
   ]
  },
  {
   "cell_type": "code",
   "execution_count": null,
   "id": "5add4de3",
   "metadata": {},
   "outputs": [],
   "source": [
    "def preprocess_dataframe(sido):\n",
    "    df = pd.read_excel(f'./raw_data/{sido}.xlsx', skiprows=6 )\n",
    "\n",
    "    df = df.iloc[::2, :5]\\\n",
    "    .drop(0)\\\n",
    "    .rename(columns = {'Unnamed: 0':'군구','Unnamed: 1':'선거인수','Unnamed: 2':'투표수','더불어민주당\\n이재명':'이재명','국민의힘\\n윤석열':'윤석열'})\\\n",
    "    .assign(시도=lambda x: f'{sido}')\\\n",
    "    .reindex(columns=['시도', '군구', '선거인수','투표수','이재명','윤석열'])\n",
    "    \n",
    "    df['시도']=df['시도'].str.strip()\n",
    "    df['군구']=df['군구'].str.strip()\n",
    "       \n",
    "    return df"
   ]
  },
  {
   "cell_type": "code",
   "execution_count": null,
   "id": "053bc963",
   "metadata": {},
   "outputs": [],
   "source": [
    "list_df = []\n",
    "\n",
    "data_cnt=0\n",
    "for sido in sido_list:\n",
    "    df_temp = preprocess_dataframe(sido)\n",
    "    data_cnt += len(df_temp.index)\n",
    "    #print(len(df_temp.index))\n",
    "    list_df.append(df_temp)"
   ]
  },
  {
   "cell_type": "code",
   "execution_count": null,
   "id": "6835cb45",
   "metadata": {},
   "outputs": [],
   "source": [
    "list_df[1].head()"
   ]
  },
  {
   "cell_type": "code",
   "execution_count": null,
   "id": "040b9750",
   "metadata": {},
   "outputs": [],
   "source": [
    "df_all = pd.concat(list_df, axis=0)\n",
    "print(len(df_all.index), data_cnt)"
   ]
  },
  {
   "cell_type": "code",
   "execution_count": null,
   "id": "15e336a6",
   "metadata": {},
   "outputs": [],
   "source": [
    "df_all = df_all.reset_index(drop=True)"
   ]
  },
  {
   "cell_type": "code",
   "execution_count": null,
   "id": "f65096d6",
   "metadata": {},
   "outputs": [],
   "source": [
    "df_all.head()"
   ]
  },
  {
   "cell_type": "code",
   "execution_count": null,
   "id": "3eba11ef",
   "metadata": {},
   "outputs": [],
   "source": [
    "df_all['선거인수'] = df_all['선거인수'].str.replace(',','').astype('int32')\n",
    "df_all['투표수'] = df_all['투표수'].str.replace(',','').astype('int32')\n",
    "df_all['이재명'] = df_all['이재명'].str.replace(',','').astype('int32')\n",
    "df_all['윤석열'] = df_all['윤석열'].str.replace(',','').astype('int32')"
   ]
  },
  {
   "cell_type": "code",
   "execution_count": null,
   "id": "f8972ea0",
   "metadata": {},
   "outputs": [],
   "source": [
    "df_all.info()"
   ]
  },
  {
   "cell_type": "code",
   "execution_count": null,
   "id": "420676b9",
   "metadata": {},
   "outputs": [],
   "source": [
    "df_all.head()"
   ]
  },
  {
   "cell_type": "code",
   "execution_count": null,
   "id": "aede676d",
   "metadata": {},
   "outputs": [],
   "source": [
    "df_all.to_csv('20th_elec_result.csv')"
   ]
  },
  {
   "cell_type": "code",
   "execution_count": null,
   "id": "3b2588bd",
   "metadata": {},
   "outputs": [],
   "source": []
  }
 ],
 "metadata": {
  "kernelspec": {
   "display_name": "Python 3 (ipykernel)",
   "language": "python",
   "name": "python3"
  },
  "language_info": {
   "codemirror_mode": {
    "name": "ipython",
    "version": 3
   },
   "file_extension": ".py",
   "mimetype": "text/x-python",
   "name": "python",
   "nbconvert_exporter": "python",
   "pygments_lexer": "ipython3",
   "version": "3.12.4"
  }
 },
 "nbformat": 4,
 "nbformat_minor": 5
}

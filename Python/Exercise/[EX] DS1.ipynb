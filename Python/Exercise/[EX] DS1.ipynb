{
 "cells": [
  {
   "cell_type": "markdown",
   "id": "f18df83c",
   "metadata": {},
   "source": [
    "# 리스트(List)"
   ]
  },
  {
   "cell_type": "markdown",
   "id": "543fde9b",
   "metadata": {},
   "source": [
    "## 예제 1"
   ]
  },
  {
   "cell_type": "code",
   "execution_count": null,
   "id": "6a43c70b",
   "metadata": {},
   "outputs": [],
   "source": [
    "my_first_list = [0, 1, 2, 3, 4, 5]\n",
    "print(type(my_first_list))\n",
    "print(len(my_first_list))\n",
    "for item in my_first_list:\n",
    "    print(item, end=\" \")"
   ]
  },
  {
   "cell_type": "markdown",
   "id": "8d4132c7",
   "metadata": {},
   "source": [
    "## 예제 2"
   ]
  },
  {
   "cell_type": "code",
   "execution_count": null,
   "id": "6a41a3e5",
   "metadata": {},
   "outputs": [],
   "source": [
    "my_first_list = [0, 1, 2, 3, 4, 5]\n",
    "print(my_first_list[0]) # 맨 처음 원소 인덱싱\n",
    "print(my_first_list[-1]) # 마지막 원소 인덱싱\n",
    "print(my_first_list[-3]) # 뒤에서 세번째 원소 인덱싱\n",
    "#print(my_first_list[6]) # 인덱싱 에러 (범위 밖)"
   ]
  },
  {
   "cell_type": "markdown",
   "id": "08431be4",
   "metadata": {},
   "source": [
    "## 예제 3"
   ]
  },
  {
   "cell_type": "code",
   "execution_count": null,
   "id": "a4e1866a",
   "metadata": {},
   "outputs": [],
   "source": [
    "my_first_list = [0, 1, 2, 3, 4, 5]\n",
    "print(my_first_list[0:3]) # 0 이상 3 미만 인덱스의 원소들 슬라이싱\n",
    "print(type(my_first_list[0:3])) # 슬라이싱의 결과는 리스트\n",
    "print(my_first_list[2:3]) # 2 이상 3 미만 (즉, 두번째 원소 only)\n",
    "print(type(my_first_list[2:3])) # 슬라이싱의 결과는 리스트\n",
    "print(my_first_list[:])     # 전체 원소\n",
    "print(type(my_first_list[:])) # 슬라이싱의 결과는 리스트\n"
   ]
  },
  {
   "cell_type": "markdown",
   "id": "4dbcad73",
   "metadata": {},
   "source": [
    "## 예제 4"
   ]
  },
  {
   "cell_type": "code",
   "execution_count": null,
   "id": "d1d15e8a",
   "metadata": {},
   "outputs": [],
   "source": [
    "my_first_list = [0, 1, 2, 3, 4, 5]\n",
    "print(my_first_list[2:5])     # 전체 원소\n",
    "print(my_first_list[2:5:1])  # 위와 동치 (하나씩 건너뛰며 순회)\n",
    "print(my_first_list[2:5:2]) \n",
    "print(my_first_list[5:2])      # 5 이상 2 미만에 걸치는 구간 없음\n",
    "print(my_first_list[5:2:-1])  # step을 음수로 표현하면 해결\n",
    "print(my_first_list[-1::-2])   # 맨 뒤부터 처음까지 2칸씩 건너기"
   ]
  },
  {
   "cell_type": "markdown",
   "id": "d1a0fc37",
   "metadata": {},
   "source": [
    "## 예제 5"
   ]
  },
  {
   "cell_type": "code",
   "execution_count": null,
   "id": "7490d084",
   "metadata": {},
   "outputs": [],
   "source": [
    "my_second_list = [\"a\", None, 3, 4.01, [5]]\n",
    "print(my_second_list)\n",
    "for value in my_second_list:\n",
    "    print(value, end=\" \")\n",
    "print(my_second_list[-1])"
   ]
  },
  {
   "cell_type": "markdown",
   "id": "89a01da0",
   "metadata": {},
   "source": [
    "## 예제 6"
   ]
  },
  {
   "cell_type": "code",
   "execution_count": null,
   "id": "f7652f38",
   "metadata": {},
   "outputs": [],
   "source": [
    "my_first_list = [0, 1, 2, 3, 4, 5]\n",
    "print(my_first_list) \n",
    "my_first_list[0] = \"Start\" # 0번째 원소 재할당\n",
    "print(my_first_list) # 수정된 리스트 출력\n",
    "my_first_list[3:] = \"0\" # 3번째 이후 구간은 “0” 원소 하나로 재할당\n",
    "print(my_first_list)\n",
    "del(my_first_list[0]) # 빌트인 함수 del을 활용한 0번째 원소 제거\n",
    "print(my_first_list) "
   ]
  },
  {
   "cell_type": "markdown",
   "id": "440f066f",
   "metadata": {},
   "source": [
    "## 예제 7"
   ]
  },
  {
   "cell_type": "code",
   "execution_count": null,
   "id": "c07ddab0",
   "metadata": {},
   "outputs": [],
   "source": [
    "string_example = \"Hello\"\n",
    "print(string_example[0])\n",
    "print(string_example[2:])\n",
    "#string_example[0] = 'h' # 자료형 오류\n",
    "string_example = 'h' + string_example[1:] # 문자열 연산자 ‘+’과 슬라이싱을 활용\n",
    "list_example = list(string_example) # 리스트 내장 함수를 활용하여 형 변환\n",
    "list_example[0] = 'h' # 리스트 0번째 값 수정\n",
    "string_example = \"\".join(list_example) # 문자열 자료형의 join 메소드를 활용 (list -> str)"
   ]
  },
  {
   "cell_type": "markdown",
   "id": "6e8f67e8",
   "metadata": {},
   "source": [
    "## 예제 8"
   ]
  },
  {
   "cell_type": "code",
   "execution_count": null,
   "id": "ca927f48",
   "metadata": {},
   "outputs": [],
   "source": [
    "help(list) # 이렇게 자료형 자체를 검색할 수도 있고\n",
    "my_first_list = [0, 1, 2, 3, 4, 5]\n",
    "help(my_first_list) # 변수를 검색할 수 있다"
   ]
  },
  {
   "cell_type": "markdown",
   "id": "c8cc6055",
   "metadata": {},
   "source": [
    "## 예제 9"
   ]
  },
  {
   "cell_type": "code",
   "execution_count": null,
   "id": "104b44d3",
   "metadata": {},
   "outputs": [],
   "source": [
    "hobby = [\"Book\", \"Movie\", \"Bike\", \"Golf\"]\n",
    "print(f\"hobby: {hobby}\")\n",
    "hobby.append(\"Travel\") # 마지막 자리 원소 추가\n",
    "print(f\"hobby(1): {hobby}\")\n",
    "print(hobby.pop()) # 마지막 원소 추출 및 반환\n",
    "print(f\"hobby(2): {hobby}\")\n",
    "hobby.append(\"Book\") # \"Book\" 중복 추가\n",
    "print(f\"hobby(3): {hobby}\")\n",
    "print(f\"How many 'Book'?: {hobby.count('Book')}\") # \"Book\" 원소 카운트\n",
    "print(f\"Where is the first 'Book'?: {hobby.index('Book')}\") # \"Book\"이 존재하는 가장 낮은 인덱스(위치)를 반환 \n",
    "hobby.remove(\"Book\")\n",
    "print(f\"hobby(4): {hobby}\")\n",
    "hobby.sort()\n",
    "print(f\"hobby(5): {hobby}\")\n",
    "hobby.reverse()\n",
    "print(f\"hobby(6): {hobby}\")\n",
    "hobby.sort(reverse=True)\n",
    "print(f\"hobby(7): {hobby}\")\n",
    "hobby.insert(2, \"Jogging\") # 두번째 자리에 \"Jogging\" 원소를 삽입\n",
    "print(f\"hobby(8): {hobby}\")\n",
    "hobby.extend([\"Singing\", \"Dancing\"]) # hobby 리스트 뒤에 해당 리스트를 연장\n",
    "print(f\"hobby(9): {hobby}\")"
   ]
  },
  {
   "cell_type": "markdown",
   "id": "60500b8f",
   "metadata": {},
   "source": [
    "## 예제 10"
   ]
  },
  {
   "cell_type": "code",
   "execution_count": null,
   "id": "d9538f22",
   "metadata": {},
   "outputs": [],
   "source": [
    "print([\"Hi\"] + [\"There\"]) \n",
    "print([\"Hi\"] * 3)"
   ]
  },
  {
   "cell_type": "markdown",
   "id": "aff7727d",
   "metadata": {},
   "source": [
    "## 예제 11"
   ]
  },
  {
   "cell_type": "code",
   "execution_count": null,
   "id": "0bdc4a8c",
   "metadata": {},
   "outputs": [],
   "source": [
    "hobby_list = [\"Book\", \"Movie\", \"Bike\", \"Golf\"]\n",
    "hobby_str = \", \".join(hobby_list) # list -> str\n",
    "print(hobby_str)\n",
    "new_hobby_list = hobby_str.split(\", \") # str -> list\n",
    "print(new_hobby_list)"
   ]
  },
  {
   "cell_type": "markdown",
   "id": "f60527c1",
   "metadata": {},
   "source": [
    "## 예제 12"
   ]
  },
  {
   "cell_type": "code",
   "execution_count": null,
   "id": "ae39a665",
   "metadata": {},
   "outputs": [],
   "source": [
    "hobby_list = [\"Book\", \"Movie\", \"Bike\", \"Golf\"]\n",
    "hobby_str = \", \".join(hobby_list) # list -> str\n",
    "print(hobby_str)\n",
    "new_hobby_list = hobby_str.split(\", \") # str -> list\n",
    "print(new_hobby_list)"
   ]
  },
  {
   "cell_type": "markdown",
   "id": "4e29a17f",
   "metadata": {},
   "source": [
    "## 예제 13"
   ]
  },
  {
   "cell_type": "code",
   "execution_count": null,
   "id": "cb8cc26a",
   "metadata": {},
   "outputs": [],
   "source": [
    "print((1), (1,), ())\n",
    "print(type((1)), type((1,)), type(()))"
   ]
  },
  {
   "cell_type": "markdown",
   "id": "73b68283",
   "metadata": {},
   "source": [
    "## 예제 14"
   ]
  },
  {
   "cell_type": "code",
   "execution_count": null,
   "id": "21e61b5e",
   "metadata": {},
   "outputs": [],
   "source": [
    "my_first_tuple = (0, 1, 2, 3, 4, 5)\n",
    "print(type(my_first_tuple))\n",
    "print(len(my_first_tuple))\n",
    "for item in my_first_tuple:\n",
    "    print(item, end=\" \")\n",
    "print(\"\\n\"+str(my_first_tuple[3]))\n",
    "print(my_first_tuple[2:4])\n",
    "print(my_first_tuple[-1:-4:-2])"
   ]
  },
  {
   "cell_type": "markdown",
   "id": "a2fc45a9",
   "metadata": {},
   "source": [
    "## 예제 15"
   ]
  },
  {
   "cell_type": "code",
   "execution_count": null,
   "id": "6a918e6e",
   "metadata": {},
   "outputs": [],
   "source": [
    "my_tuple = (0, 1, \"2\")\n",
    "my_second_tuple = (3, 4.0)\n",
    "my_tuple = my_tuple.__add__(my_second_tuple)\n",
    "print(my_tuple)"
   ]
  },
  {
   "cell_type": "markdown",
   "id": "faaf139b",
   "metadata": {},
   "source": [
    "## 예제 16"
   ]
  },
  {
   "cell_type": "code",
   "execution_count": null,
   "id": "8b91823e",
   "metadata": {},
   "outputs": [],
   "source": [
    "my_first_tuple = (0, 1, 2, 3, 4, 5)\n",
    "del my_first_tuple[0] # 자료형 오류"
   ]
  },
  {
   "cell_type": "markdown",
   "id": "331d48aa",
   "metadata": {},
   "source": [
    "## 예제 17"
   ]
  },
  {
   "cell_type": "code",
   "execution_count": null,
   "id": "9ba1bcbc",
   "metadata": {},
   "outputs": [],
   "source": [
    "my_first_tuple = (0, 1, 2, 3, 4, 5)\n",
    "my_first_tuple[0] = -1 # 자료형 오류"
   ]
  },
  {
   "cell_type": "markdown",
   "id": "5b7637b6",
   "metadata": {},
   "source": [
    "## 예제 18"
   ]
  },
  {
   "cell_type": "code",
   "execution_count": null,
   "id": "ca847466",
   "metadata": {},
   "outputs": [],
   "source": [
    "my_tuple = (0, 1, \"2\")\n",
    "print(my_tuple.count(0))\n",
    "print(my_tuple.index(\"2\"))\n",
    "print(my_tuple.index(2)) # 값 오류"
   ]
  },
  {
   "cell_type": "markdown",
   "id": "c2077d99",
   "metadata": {},
   "source": [
    "## 예제 19"
   ]
  },
  {
   "cell_type": "code",
   "execution_count": null,
   "id": "d4abbb3e",
   "metadata": {},
   "outputs": [],
   "source": [
    "my_first_tuple = (0, 1, 2, 3, 4, 5)\n",
    "print(len(my_first_tuple))\n",
    "print(max(my_first_tuple))\n",
    "print(min(my_first_tuple))"
   ]
  },
  {
   "cell_type": "markdown",
   "id": "4d12e1e0",
   "metadata": {},
   "source": [
    "## 예제 20"
   ]
  },
  {
   "cell_type": "code",
   "execution_count": null,
   "id": "e436ae94",
   "metadata": {},
   "outputs": [],
   "source": [
    "tuple_A = (1, 2, 1, 3)\n",
    "tuple_B = (\"a\", \"B\", 10.0)\n",
    "print(tuple_A + tuple_B)\n",
    "print(tuple_A * 3)\n",
    "print((tuple_A * 3).count(1))"
   ]
  },
  {
   "cell_type": "markdown",
   "id": "22009899",
   "metadata": {},
   "source": [
    "# 미션"
   ]
  },
  {
   "cell_type": "markdown",
   "id": "0f6a598e",
   "metadata": {},
   "source": [
    "## 미션 1. \n",
    "문제 | 주어진 리스트에서 짝수만을 오름차순으로 출력하는 print_even 함수를 작성하세요.\n",
    "예시 입력\n",
    "3 12 9 6 15\n",
    "\n",
    "예시 출력\n",
    "6 12\n",
    "\n",
    "힌트\n",
    "- 입력과 출력 형식을 잘 확인하세요\n",
    "- map 함수의 역할을 무엇일까요?"
   ]
  },
  {
   "cell_type": "code",
   "execution_count": null,
   "id": "6af0066f",
   "metadata": {},
   "outputs": [],
   "source": [
    "### 주어진 스켈레톤 코드를 활용해서 나머지 코드를 작성해보세요.\n",
    "\n",
    "def print_even(num_list):\n",
    "    pass\n",
    "    \n",
    "\n",
    "print(print_even(list(map(int,input().split(\" \")))))"
   ]
  },
  {
   "cell_type": "markdown",
   "id": "6e79fec1",
   "metadata": {},
   "source": [
    "## 미션 2.\n",
    "문제 | 사용자 입력으로 받을 문장 개수와 문장을 받고, 이후 각 문장마다 단어들을 사전 순 정렬하여 보여주세요.\n",
    "문장의 구분은 줄 바꿈(엔터 키)을 기준으로 합니다.\n",
    "\n",
    "예시 입력\n",
    "3\n",
    "안녕하세요. 파이썬은 참으로 재밌고 유익한 프로그래밍 언어입니다.\n",
    "프로그래밍을 배우는 것은 참으로 멋진 것 같아요.\n",
    "앞으로도 열심히 학업에 정진하도록 하겠습니다.\n",
    "\n",
    "예시 출력\n",
    "안녕하세요. 언어입니다. 유익한 재밌고 참으로 파이썬은 프로그래밍\n",
    "같아요. 것 것은 멋진 배우는 참으로 프로그래밍을\n",
    "앞으로도 열심히 정진하도록 하겠습니다. 학업에\n",
    "\n",
    "힌트\n",
    "- 입력받는 문자열을 숫자 혹은 리스트와 같은 자료형으로 변환한 뒤 내장 함수나 메소드를 적절히 활용해보세요\n",
    "- 사용해볼 수 있는 함수와 메소드들: int(), range(), 문자열 split, enumerate(), len(), 리스트 append, 리스트 sort 등"
   ]
  },
  {
   "cell_type": "code",
   "execution_count": null,
   "id": "eb65f0f3",
   "metadata": {},
   "outputs": [],
   "source": [
    "### 아래에 주어진 스켈레톤 코드를 적절히 활용하세요.\n",
    "\n",
    "# 몇 개의 문장을 입력받을 지 사용자로부터 입력을 받음\n",
    "num = int(input()) \n",
    "\n",
    "input_list = [] # 문장 여러개를 담을 리스트\n",
    "\n",
    "# num개만큼 문장들을 입력받고 각 문장의 단어들을 쪼개서 리스트로 담은 다음에 정렬하기\n",
    "for i in range(num):  \n",
    "    pass\n",
    "\n",
    "# 정렬된 리스트를 문장으로 변환한다음 출력하기\n",
    "for i in range(num):\n",
    "    pass"
   ]
  },
  {
   "cell_type": "markdown",
   "id": "62374960",
   "metadata": {},
   "source": [
    "## 미션 3.\n",
    "문제 | 사용자 입력으로 0 이상의 정수들의 시퀀스 문장을 입력받으면 내림차순으로 각 정수의 값만큼 반복한 이중 튜플과 이들의 총합과 평균을 출력하세요.\n",
    "(입력이 0일 때 튜플 결과물로는 빈 튜플을 표시하되, 평균을 구할 때에는 0의 존재를 함께 고려할 것)\n",
    "\n",
    "예시 입력\n",
    "2 6 4 9 0\n",
    "\n",
    "예시 출력\n",
    "결과물: ((9, 9, 9, 9, 9, 9, 9, 9, 9), (6, 6, 6, 6, 6, 6), (4, 4, 4, 4), (2, 2), ())\n",
    "총합: 137, 평균: 6.227\n",
    "\n",
    "힌트\n",
    "- 튜플은 immutable하기에 객체 생성 후 값 변경이 불가능합니다. 그렇다면 다른 자료형을 잠시 사용해보는 것은 어떨까요?\n",
    "- 사용해볼 수 있는 것들: 문자열 split, map(), tuple(), sum(), round(), f-string 등"
   ]
  },
  {
   "cell_type": "code",
   "execution_count": null,
   "id": "51e8ee4a",
   "metadata": {},
   "outputs": [],
   "source": [
    "num_seq = list(map(int, input().split(\" \")))\n",
    "num_seq.sort(reverse=True)\n",
    "### 위의 파트를 남겨둔채 아래부터 코드를 작성해보세요."
   ]
  }
 ],
 "metadata": {
  "kernelspec": {
   "display_name": "Python 3 (ipykernel)",
   "language": "python",
   "name": "python3"
  },
  "language_info": {
   "codemirror_mode": {
    "name": "ipython",
    "version": 3
   },
   "file_extension": ".py",
   "mimetype": "text/x-python",
   "name": "python",
   "nbconvert_exporter": "python",
   "pygments_lexer": "ipython3",
   "version": "3.9.13"
  }
 },
 "nbformat": 4,
 "nbformat_minor": 5
}

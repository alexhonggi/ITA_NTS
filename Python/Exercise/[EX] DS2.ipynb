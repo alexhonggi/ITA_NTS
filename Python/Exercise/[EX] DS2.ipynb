{
 "cells": [
  {
   "cell_type": "markdown",
   "id": "42f3d712",
   "metadata": {},
   "source": [
    "# 사전(Dictionary)"
   ]
  },
  {
   "cell_type": "markdown",
   "id": "91df3cad",
   "metadata": {},
   "source": [
    "## 예제 1"
   ]
  },
  {
   "cell_type": "code",
   "execution_count": null,
   "id": "77e0cf38",
   "metadata": {},
   "outputs": [],
   "source": [
    "my_first_dict = {\"Name\": \"Nubzuki\", \"Birth Year\": 2014, 4.9:{\"Hi\":{\"Hello\"}}, (\"Bonjour\"):[\"안녕\"]}\n",
    "yes_tuple_key = {(0):1} # 튜플 -> immutable\n",
    "no_list_key = {[0]:1} # 리스트 -> mutable "
   ]
  },
  {
   "cell_type": "markdown",
   "id": "0d3b460a",
   "metadata": {},
   "source": [
    "## 예제 2"
   ]
  },
  {
   "cell_type": "code",
   "execution_count": null,
   "id": "d23a8c70",
   "metadata": {},
   "outputs": [],
   "source": [
    "Age_dict = {\"Nubzuki\": 9} # 딕셔너리 객체 생성\n",
    "Age_dict['Yonghyun'] = 25 # 딕셔너리에 key-value 쌍 추가"
   ]
  },
  {
   "cell_type": "code",
   "execution_count": null,
   "id": "23a97d1e",
   "metadata": {},
   "outputs": [],
   "source": [
    "print(Age_dict)"
   ]
  },
  {
   "cell_type": "code",
   "execution_count": null,
   "id": "3a60b0ef",
   "metadata": {},
   "outputs": [],
   "source": [
    "del Age_dict['Yonghyun'] # 특정 key 값에 해당되는 원소 제거"
   ]
  },
  {
   "cell_type": "code",
   "execution_count": null,
   "id": "21befda0",
   "metadata": {},
   "outputs": [],
   "source": [
    "print(Age_dict)"
   ]
  },
  {
   "cell_type": "code",
   "execution_count": null,
   "id": "103ede45",
   "metadata": {},
   "outputs": [],
   "source": [
    "Age_dict['Nubzuki'] = 10 # 이전 value 값인 9가 10으로 수정"
   ]
  },
  {
   "cell_type": "code",
   "execution_count": null,
   "id": "1bd68dec",
   "metadata": {},
   "outputs": [],
   "source": [
    "print(Age_dict)"
   ]
  },
  {
   "cell_type": "code",
   "execution_count": null,
   "id": "703a670f",
   "metadata": {},
   "outputs": [],
   "source": [
    "Age_dict = {\"Nubzuki\": 8, \"Nubzuki\": 9, \"Nubzuki\": 10}"
   ]
  },
  {
   "cell_type": "code",
   "execution_count": null,
   "id": "c790790e",
   "metadata": {},
   "outputs": [],
   "source": [
    "print(Age_dict)"
   ]
  },
  {
   "cell_type": "markdown",
   "id": "b2e85975",
   "metadata": {},
   "source": [
    "## 예제 3"
   ]
  },
  {
   "cell_type": "code",
   "execution_count": null,
   "id": "ddcd7311",
   "metadata": {},
   "outputs": [],
   "source": [
    "Age_dict = {\"Nubzuki\": 9, \"Yonghyun\": 25, \"KAIST\": 52}"
   ]
  },
  {
   "cell_type": "code",
   "execution_count": null,
   "id": "0846084a",
   "metadata": {},
   "outputs": [],
   "source": [
    "print(Age_dict.keys()) # 딕셔너리 객체의 key 값들을 모아 의사 리스트 형태로 만듦 (리스트는 아님)\n",
    "print(Age_dict.values()) # value 값들을 모아 의사 리스트 형태로 만듦\n",
    "print(Age_dict.items()) # 원소(key-value 쌍)들을 모아 의사 리스트 형태로 만듦\n",
    "print(Age_dict.get(\"Yonghyun\", \"No key\"), end=\", \") # 특정 값이 딕셔너리의 key값으로 존재하면 대응되는 value를 출력, 없으면 두번째 파라미터의 값을 내뱉음 (디폴트값은 None)\n",
    "print(Age_dict.get(\"Santa Claus\", \"No key\"), end=\", \")\n",
    "print(\"Yonghyun\" in Age_dict, end=\", \") # 특정 값이 딕셔너리의 key값으로 존재하는가 \n",
    "print(\"Santa Claus\" in Age_dict)"
   ]
  },
  {
   "cell_type": "markdown",
   "id": "04270a13",
   "metadata": {},
   "source": [
    "## 예제 4"
   ]
  },
  {
   "cell_type": "code",
   "execution_count": null,
   "id": "fdee5048",
   "metadata": {},
   "outputs": [],
   "source": [
    "Nubzuki_dict= {\"Name\": \"Nubzuki\", \"Age\": 25}\n",
    "Temp_dict = {\"Trait\": ['cute', 'adorable', 'smart'], \"Phone Num\": None} # 방법 1 (파이썬 3.5 버전 이상부터 지원)"
   ]
  },
  {
   "cell_type": "code",
   "execution_count": null,
   "id": "ab37a15b",
   "metadata": {},
   "outputs": [],
   "source": [
    "print({**Nubzuki_dict, **Temp_dict})\n",
    "print({**Temp_dict, **Nubzuki_dict}) # 파라미터 순서에 따라 달라지는 출력 결과 # 방법 2 - update 메소드 사용\n",
    "print(Nubzuki_dict)"
   ]
  },
  {
   "cell_type": "code",
   "execution_count": null,
   "id": "7aaadd51",
   "metadata": {},
   "outputs": [],
   "source": [
    "Nubzuki_dict.update(Temp_dict)"
   ]
  },
  {
   "cell_type": "code",
   "execution_count": null,
   "id": "db819d1b",
   "metadata": {},
   "outputs": [],
   "source": [
    "print(Nubzuki_dict)"
   ]
  },
  {
   "cell_type": "markdown",
   "id": "26a66993",
   "metadata": {},
   "source": [
    "# 집합(set)"
   ]
  },
  {
   "cell_type": "markdown",
   "id": "ca32150a",
   "metadata": {},
   "source": [
    "## 예제 5"
   ]
  },
  {
   "cell_type": "code",
   "execution_count": null,
   "id": "20e51c44",
   "metadata": {},
   "outputs": [],
   "source": [
    "Nubzuki_dict= {\"Name\": \"Nubzuki\", \"Age\": 25}\n",
    "my_first_set = {\"element1\", \"element2\", \"element3\"}"
   ]
  },
  {
   "cell_type": "code",
   "execution_count": null,
   "id": "67c2e17f",
   "metadata": {},
   "outputs": [],
   "source": [
    "print(Nubzuki_dict)\n",
    "print(my_first_set)\n",
    "print(my_first_set[0])  # Not subscriptable (인덱스 X)"
   ]
  },
  {
   "cell_type": "markdown",
   "id": "51545f7c",
   "metadata": {},
   "source": [
    "## 예제 6"
   ]
  },
  {
   "cell_type": "code",
   "execution_count": null,
   "id": "7bb9a23b",
   "metadata": {},
   "outputs": [],
   "source": [
    "hello_set = {\"Hello\"} # 집합 객체 초기화\n",
    "hello2_set = set(\"Hello\") # 문자열의 각 문자를 집합의 원소로 간주"
   ]
  },
  {
   "cell_type": "code",
   "execution_count": null,
   "id": "97cbe652",
   "metadata": {},
   "outputs": [],
   "source": [
    "print(hello_set)\n",
    "print(hello2_set) # 집합 내 원소의 unordered 특성 "
   ]
  },
  {
   "cell_type": "code",
   "execution_count": null,
   "id": "f0dc140a",
   "metadata": {},
   "outputs": [],
   "source": [
    "hello2_set.add(\"d\") # add: 집합에 원소 한개 추가"
   ]
  },
  {
   "cell_type": "code",
   "execution_count": null,
   "id": "19adb05f",
   "metadata": {},
   "outputs": [],
   "source": [
    "print(hello2_set)"
   ]
  },
  {
   "cell_type": "code",
   "execution_count": null,
   "id": "d318904d",
   "metadata": {},
   "outputs": [],
   "source": [
    "hello2_set.update(\"e\", \"f\") # update: 원소 여러개 추가"
   ]
  },
  {
   "cell_type": "code",
   "execution_count": null,
   "id": "1d8de9f0",
   "metadata": {},
   "outputs": [],
   "source": [
    "print(hello2_set)"
   ]
  },
  {
   "cell_type": "code",
   "execution_count": null,
   "id": "18702eed",
   "metadata": {},
   "outputs": [],
   "source": [
    "hello2_set.remove(\"l\") # remove: 원소 한개 제거"
   ]
  },
  {
   "cell_type": "code",
   "execution_count": null,
   "id": "3a08c591",
   "metadata": {},
   "outputs": [],
   "source": [
    "print(hello2_set)"
   ]
  },
  {
   "cell_type": "markdown",
   "id": "7a025fdc",
   "metadata": {},
   "source": [
    "## 예제 7"
   ]
  },
  {
   "cell_type": "code",
   "execution_count": null,
   "id": "26bb2066",
   "metadata": {},
   "outputs": [],
   "source": [
    "set1 = set([1, 2, 3, 4, 5.0]) # 리스트 객체의 형변환\n",
    "set2 = set([3, 4, 5.0, 5, 6, \"7\"])"
   ]
  },
  {
   "cell_type": "code",
   "execution_count": null,
   "id": "d1cb9f1e",
   "metadata": {},
   "outputs": [],
   "source": [
    "print(set2) # 집합에서는 수학적으로 값이 같으면 동일 원소로 간주\n",
    "print(set1 & set2) # 교집합 - 연산자\n",
    "print(set1.intersection(set2)) # 교집합 - 메소드\n",
    "print(set1 | set2) # 합집합 - 연산자\n",
    "print(set1.union(set2)) # 합집합 - 메소드"
   ]
  },
  {
   "cell_type": "markdown",
   "id": "922112ff",
   "metadata": {},
   "source": [
    "## 예제 8"
   ]
  },
  {
   "cell_type": "code",
   "execution_count": null,
   "id": "255cf0a8",
   "metadata": {},
   "outputs": [],
   "source": [
    "set1 = set([1, 2, 3, 4, 5.0]) # 리스트 객체의 형변환\n",
    "set2 = set([3, 4, 5.0, 5, 6, \"7\"])"
   ]
  },
  {
   "cell_type": "code",
   "execution_count": null,
   "id": "2b12dbd1",
   "metadata": {},
   "outputs": [],
   "source": [
    "print(set1 - set2) # 차집합 - 연산자 (1)\n",
    "print(set2 - set1) # 차집합 - 연산자 (2)\n",
    "print(set1.difference(set2)) # 차집합 - 메소드 (1)\n",
    "print(set2.difference(set1)) # 차집합 - 메소드 (2)\n",
    "print(set1 ^ set2) # 대칭차집합 - 연산자\n",
    "print(set1.symmetric_difference(set2)) # 대칭차집합 - 메소드 \n",
    "print((set1 | set2) - (set1 & set2)) # 위와 동치"
   ]
  },
  {
   "cell_type": "markdown",
   "id": "579b8a87",
   "metadata": {},
   "source": [
    "## 예제 9"
   ]
  },
  {
   "cell_type": "code",
   "execution_count": null,
   "id": "f8be9a52",
   "metadata": {},
   "outputs": [],
   "source": [
    "my_set = {1, (2,), 3.0, \"a\"}\n",
    "my_dict = {1: (2), 3.0: \"a\"}\n",
    "my_tuple = tuple(my_set) # 집합 -> 튜플\n",
    "my_list = list(my_set) # 집합 -> 리스트"
   ]
  },
  {
   "cell_type": "code",
   "execution_count": null,
   "id": "0bf9917b",
   "metadata": {},
   "outputs": [],
   "source": [
    "print(my_tuple)\n",
    "print(my_list)"
   ]
  },
  {
   "cell_type": "code",
   "execution_count": null,
   "id": "f1b7b8c1",
   "metadata": {},
   "outputs": [],
   "source": [
    "my_tuple = tuple(my_dict) # 사전 -> 튜플\n",
    "my_list = list(my_dict) # 사전 -> 리스트"
   ]
  },
  {
   "cell_type": "code",
   "execution_count": null,
   "id": "ec837482",
   "metadata": {},
   "outputs": [],
   "source": [
    "print(my_tuple)\n",
    "print(my_list)"
   ]
  },
  {
   "cell_type": "code",
   "execution_count": null,
   "id": "2d28bf7d",
   "metadata": {},
   "outputs": [],
   "source": [
    "my_set_2 = set(my_tuple) # 튜플 -> 집합"
   ]
  },
  {
   "cell_type": "code",
   "execution_count": null,
   "id": "68f14b22",
   "metadata": {},
   "outputs": [],
   "source": [
    "print(my_set_2)"
   ]
  },
  {
   "cell_type": "code",
   "execution_count": null,
   "id": "5c11992c",
   "metadata": {},
   "outputs": [],
   "source": [
    "my_dict_2 = dict(my_tuple) # 튜플 -> 사전 (불가능)"
   ]
  },
  {
   "cell_type": "markdown",
   "id": "26fc1813",
   "metadata": {},
   "source": [
    "## 미션"
   ]
  },
  {
   "cell_type": "markdown",
   "id": "868838e5",
   "metadata": {},
   "source": [
    "### 미션 1.\n",
    "문제 | 주어진 문장에서 각 단어의 빈도수를 사전으로 저장하고 출력하는 함수 print_freq()를 작성하세요.\n",
    "예시 입력\n",
    "Hello everyone Python is really fun python is exciting\n",
    "\n",
    "예시 출력\n",
    "각 단어의 빈도수:\n",
    "hello: 1회\n",
    "everyone: 1회\n",
    "python: 2회\n",
    "is: 2회\n",
    "really: 1회\n",
    "fun: 1회\n",
    "exciting: 1회\n",
    "\n",
    "힌트\n",
    "- 대소문자를 구별하지 않음을 유의하세요.\n",
    "- 출력 형식을 잘 파악하세요."
   ]
  },
  {
   "cell_type": "code",
   "execution_count": null,
   "id": "0f312ac2",
   "metadata": {},
   "outputs": [],
   "source": [
    "### 주어진 스켈레톤 코드를 활용해서 나머지 코드를 작성하세요.\n",
    "\n",
    "def print_freq(sentence):\n",
    "\n",
    "    word_freq = {} # 빈 사전 객체 생성\n",
    "    words = sentence.split()\n",
    "\n",
    "    # 결과 출력\n",
    "    print(\"각 단어의 빈도수:\")\n",
    "\n",
    "### 아래 파트는 수정하지 마세요!\n",
    "print_freq(input())"
   ]
  },
  {
   "cell_type": "markdown",
   "id": "f4f4c969",
   "metadata": {},
   "source": [
    "### 미션 2.\n",
    "문제 | 간단한 영한사전을 만들어 봅니다.\n",
    "본 영한사전에는 총 세 개의 모드로 이뤄져있습니다. (0, 1, 그리고 2)\n",
    "\n",
    "0이면 사전에 새로운 단어를 추가합니다.\n",
    "(첫 문장으로는 양의 정수를 받고 이는 추가할 단어의 개수를 의미합니다. 그 뒤로는 영단어와 한글 단어가 띄어쓰기로 구분된 문장이 입력되며 이들을 사전에 추가해야 합니다.)\n",
    "\n",
    "1이면 영어를 검색해서 해당되는 한국어 뜻을 출력합니다.\n",
    "(존재하지 않으면 “조회 실패”를 출력합니다.)\n",
    "\n",
    "2이면 사전의 실행을 종료합니다.\n",
    "(“사전 실행 종료”를 출력한 뒤 실행을 종료할 것)\n",
    "\n",
    "\n",
    "예시 입출력 (볼드체: 출력)\n",
    "0\n",
    "3\n",
    "apple 사과\n",
    "banana 바나나\n",
    "carrot 당근\n",
    "1\n",
    "apple\n",
    "사과\n",
    "1\n",
    "nubzuki\n",
    "조회 실패\n",
    "2\n",
    "사전 실행 종료\n",
    "\n",
    "힌트\n",
    "- 반복문과 조건문을 적절히 사용하세요.\n",
    "- 사전(dict) 자료형을 사용하세요."
   ]
  },
  {
   "cell_type": "code",
   "execution_count": null,
   "id": "db6b804d",
   "metadata": {},
   "outputs": [],
   "source": [
    "### 주어진 스켈레톤 코드를 활용해서 나머지 코드를 작성하세요.\n",
    "\n",
    "eng_kor = dict()\n",
    "\n",
    "while True:\n",
    "    mode = int(input())\n",
    "    if mode == 0: \n",
    "        pass\n",
    "    elif mode == 1:\n",
    "        pass\n",
    "    else:\n",
    "        pass"
   ]
  },
  {
   "cell_type": "markdown",
   "id": "4d011316",
   "metadata": {},
   "source": [
    "### 미션 3.\n",
    "문제 | 두개의 집합을 언더바(_)로 구분하여 입력을 하였을 때 두 집합에 대한 각종 연산 결과를 출력하세요. (합집합, 교집합, 대칭차집합)\n",
    "예시 입력\n",
    "{3, 6, 9}_{2, 5, 8, 7, 9}\n",
    "\n",
    "예시 출력\n",
    "합집합: {2, 3, 5, 6, 7, 8, 9}\n",
    "교집합: {9}\n",
    "대칭차집합: {2, 3, 5, 6, 7, 8}\n",
    "\n",
    "힌트\n",
    "- ast 라이브러리의 literal_eval 함수를 사용하면 코드가 간결해질 수 있습니다.\n",
    "- 사용해볼 수 있는 것들: ast.literal_eval, map(), 문자열 split, 집합 연산자 등"
   ]
  },
  {
   "cell_type": "code",
   "execution_count": null,
   "id": "70961b08",
   "metadata": {},
   "outputs": [],
   "source": [
    "### 주어진 스켈레톤 코드를 활용해서 나머지 코드를 작성하세요.\n",
    "\n",
    "# 입력 받기\n",
    "input_str = input()\n",
    "\n",
    "# 문자열을 집합으로 변환\n",
    "set1 = None\n",
    "set2 = None\n",
    "\n",
    "# 각종 연산 결과 계산\n",
    "union_result = set1.union(set2)\n",
    "intersection_result = None\n",
    "symmetric_difference_result = NOne\n",
    "\n",
    "# 결과 출력\n",
    "print(f\"합집합: {union_result}\")\n",
    "print(f\"교집합: {intersection_result}\")\n",
    "print(f\"대칭차집합: {symmetric_difference_result}\")"
   ]
  },
  {
   "cell_type": "code",
   "execution_count": null,
   "id": "97435586",
   "metadata": {},
   "outputs": [],
   "source": []
  }
 ],
 "metadata": {
  "kernelspec": {
   "display_name": "Python 3 (ipykernel)",
   "language": "python",
   "name": "python3"
  },
  "language_info": {
   "codemirror_mode": {
    "name": "ipython",
    "version": 3
   },
   "file_extension": ".py",
   "mimetype": "text/x-python",
   "name": "python",
   "nbconvert_exporter": "python",
   "pygments_lexer": "ipython3",
   "version": "3.9.13"
  }
 },
 "nbformat": 4,
 "nbformat_minor": 5
}

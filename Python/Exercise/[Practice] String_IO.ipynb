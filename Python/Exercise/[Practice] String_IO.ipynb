{
 "cells": [
  {
   "cell_type": "markdown",
   "id": "dee10655",
   "metadata": {
    "id": "dee10655"
   },
   "source": [
    "# Ⅱ. 문자열과 콘솔 입출력"
   ]
  },
  {
   "cell_type": "markdown",
   "id": "05d602d7",
   "metadata": {
    "id": "05d602d7"
   },
   "source": [
    "## 문자열 다루기"
   ]
  },
  {
   "cell_type": "markdown",
   "id": "5ef65eac",
   "metadata": {
    "id": "5ef65eac"
   },
   "source": [
    "1. 다음 결과를 확인 하시오.\n",
    "```\n",
    "s= \"I am Peter. Nice to meet you!\"\n",
    "```\n",
    "1)\n",
    "```\n",
    "s[:10]\n",
    "```\n",
    "2)\n",
    "```\n",
    "s[:10] + s[-10:]\n",
    "```\n",
    "3)\n",
    "```\n",
    "len(s)\n",
    "```\n",
    "4)\n",
    "```\n",
    "s.upper()\n",
    "```\n",
    "5)\n",
    "```\n",
    "s.lower()\n",
    "```\n",
    "6)\n",
    "```\n",
    "s.find(\"Peter\")\n",
    "```"
   ]
  },
  {
   "cell_type": "code",
   "execution_count": null,
   "id": "cdcd4a49",
   "metadata": {
    "id": "cdcd4a49"
   },
   "outputs": [],
   "source": []
  },
  {
   "cell_type": "markdown",
   "id": "9dd66a34",
   "metadata": {
    "id": "9dd66a34"
   },
   "source": [
    "2. 다음 결과가 나오도록 주어진 문장을 문자열 함수를 사용하여 변형하시오.\n",
    "```\n",
    "s = \"   This is a dirty sentence.     \"\n",
    "```\n",
    "\n",
    "output:\n",
    "<br>\n",
    "\"This is a dirty sentence.\"\n"
   ]
  },
  {
   "cell_type": "code",
   "execution_count": null,
   "id": "c5e9e5c0",
   "metadata": {
    "id": "c5e9e5c0"
   },
   "outputs": [],
   "source": []
  },
  {
   "cell_type": "markdown",
   "id": "7f4a7f75",
   "metadata": {
    "id": "7f4a7f75"
   },
   "source": [
    "3. 다음 결과가 나오도록 주어진 문장을 replace() 와  split() 을 사용하여 변형하시오.\n",
    "```\n",
    "s = \"banana, apple,  mango   , orange\"\n",
    "```\n",
    "\n",
    "output:\n",
    "<br>\n",
    "[ 'banana', 'apple', 'mango', 'orange' ]\n"
   ]
  },
  {
   "cell_type": "code",
   "execution_count": null,
   "id": "55387c90",
   "metadata": {
    "id": "55387c90"
   },
   "outputs": [],
   "source": []
  },
  {
   "cell_type": "markdown",
   "id": "46999e88",
   "metadata": {
    "id": "46999e88"
   },
   "source": [
    "## 콘솔 입출력"
   ]
  },
  {
   "cell_type": "markdown",
   "id": "4227871a",
   "metadata": {
    "id": "4227871a"
   },
   "source": [
    "1. 1. 다음 결과를 같도록 2가지 방법으로 출력해 보자.\n",
    "<br><br>\n",
    "**Orange: 5개를 모두 13000 원에 샀다.**\n",
    "<br><br>\n",
    "변수:\n",
    "<br>\n",
    "① 과일 : fruit\n",
    "<br>\n",
    "② 개수 : num\n",
    "<br>\n",
    "③ 가격 : cost  \n",
    "<br><br>\n",
    "1) Old Formatting 으로\n",
    "<br>\n",
    "2) New Formatting 으로"
   ]
  },
  {
   "cell_type": "code",
   "execution_count": null,
   "id": "ce03d08b",
   "metadata": {
    "id": "ce03d08b"
   },
   "outputs": [],
   "source": []
  },
  {
   "cell_type": "markdown",
   "id": "758bafb5",
   "metadata": {
    "id": "758bafb5"
   },
   "source": [
    "2. 주성이 반 키(height)의 통계치를 출력하고자 한다.\n",
    "<br>\n",
    "통계치는 avg(평균)과 max(최대값)이며, 함수를 통해서 계산한다.\n",
    "<br>\n",
    "함수를 호출하여 얻은 avg와 max 값을 print 문에서 출력해 보자.\n",
    "<br>\n",
    "(3가지 방식 중 하나를 선택하여)\n",
    "<br><br>\n",
    "Hint:\n",
    "<br>\n",
    "함수명: calculate_hstat\n",
    "<br>\n",
    "인자: hList\n",
    "<br>\n",
    "리턴: avg, max\n",
    "<br>\n",
    "print(): 리턴 받은 avg, max 를 넣어서 위의 결과를 출력"
   ]
  },
  {
   "cell_type": "code",
   "execution_count": null,
   "id": "2db3b07c",
   "metadata": {
    "id": "2db3b07c"
   },
   "outputs": [],
   "source": []
  },
  {
   "cell_type": "markdown",
   "id": "13ba7723",
   "metadata": {
    "id": "13ba7723"
   },
   "source": [
    "3. 구구단 출력<br><br>\n",
    "① 단을 가로로 출력하기<br>\n",
    "2x1=2,2x2=4,2x3=6,2x4=8,2x5=10,2x6=12,2x7=14,2x8=16,2x9=18<br>\n",
    "3x1=3,3x2=6,3x3=9,3x4=12,3x5=15,3x6=18,3x7=21,3x8=24,3x9=27<br>\n",
    "4x1=4,4x2=8,4x3=12,4x4=16,4x5=20,4x6=24,4x7=28,4x8=32,4x9=36<br>\n",
    "5x1=5,5x2=10,5x3=15,5x4=20,5x5=25,5x6=30,5x7=35,5x8=40,5x9=45<br>\n",
    "6x1=6,6x2=12,6x3=18,6x4=24,6x5=30,6x6=36,6x7=42,6x8=48,6x9=54<br>\n",
    "7x1=7,7x2=14,7x3=21,7x4=28,7x5=35,7x6=42,7x7=49,7x8=56,7x9=63<br>\n",
    "8x1=8,8x2=16,8x3=24,8x4=32,8x5=40,8x6=48,8x7=56,8x8=64,8x9=72<br>\n",
    "9x1=9,9x2=18,9x3=27,9x4=36,9x5=45,9x6=54,9x7=63,9x8=72,9x9=81<br><br>\n",
    "\n",
    "② 단을 세로로 출력하기\n",
    "<br>\n",
    "![gugudan](gugudan.PNG)"
   ]
  },
  {
   "cell_type": "code",
   "execution_count": null,
   "id": "b32ec9ee",
   "metadata": {
    "id": "b32ec9ee"
   },
   "outputs": [],
   "source": []
  },
  {
   "cell_type": "markdown",
   "id": "b8e3fcd9",
   "metadata": {
    "id": "b8e3fcd9"
   },
   "source": [
    "4. input() 함수를 사용해 정수를 입력받고 100과 더한 결과를 print() 함수로 출력해 보자."
   ]
  },
  {
   "cell_type": "code",
   "execution_count": null,
   "id": "c8d27a5e",
   "metadata": {
    "id": "c8d27a5e"
   },
   "outputs": [],
   "source": []
  }
 ],
 "metadata": {
  "colab": {
   "provenance": []
  },
  "kernelspec": {
   "display_name": "Python 3 (ipykernel)",
   "language": "python",
   "name": "python3"
  },
  "language_info": {
   "codemirror_mode": {
    "name": "ipython",
    "version": 3
   },
   "file_extension": ".py",
   "mimetype": "text/x-python",
   "name": "python",
   "nbconvert_exporter": "python",
   "pygments_lexer": "ipython3",
   "version": "3.12.4"
  }
 },
 "nbformat": 4,
 "nbformat_minor": 5
}

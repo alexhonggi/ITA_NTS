{
 "cells": [
  {
   "cell_type": "markdown",
   "id": "503a0f33",
   "metadata": {
    "id": "NwU90Clr9nQT"
   },
   "source": [
    "# Ⅰ. 자료구조  \n",
    "1. List  \n",
    "2. Tuple  \n",
    "3. Dictionary"
   ]
  },
  {
   "cell_type": "markdown",
   "id": "139dc7bf",
   "metadata": {
    "id": "JjXeuEaf9xMi"
   },
   "source": [
    "## 1. List"
   ]
  },
  {
   "cell_type": "markdown",
   "id": "478140b6",
   "metadata": {
    "id": "ZmaeUaSmAnoc"
   },
   "source": [
    "1) 다음과 같은 빈(empty) List 를 정의하고 append 함수를 써서 요소를 하나씩 삽입하자.\n",
    "\n",
    "List 명: aList  \n",
    "요소 : 'Banana', 'Apple', 'Orange', 'Mango'"
   ]
  },
  {
   "cell_type": "code",
   "execution_count": null,
   "id": "a17dfb4e",
   "metadata": {
    "id": "X-zc7vmhAnoc"
   },
   "outputs": [],
   "source": []
  },
  {
   "cell_type": "markdown",
   "id": "c655bb4e",
   "metadata": {
    "id": "v2UqVqHTAnod"
   },
   "source": [
    "2) aList 의 요소의 개수를 len() 함수를 써서 확인해 보자."
   ]
  },
  {
   "cell_type": "code",
   "execution_count": null,
   "id": "b015ecfb",
   "metadata": {
    "id": "AL8d0idRAnod"
   },
   "outputs": [],
   "source": []
  },
  {
   "cell_type": "markdown",
   "id": "9c9e68ab",
   "metadata": {
    "id": "J4CxrsD-Anod"
   },
   "source": [
    "3) aList 의 sort() 함수를 써서 정렬해 보자."
   ]
  },
  {
   "cell_type": "code",
   "execution_count": null,
   "id": "cae55a73",
   "metadata": {
    "id": "hXMoE-kQAnod"
   },
   "outputs": [],
   "source": []
  },
  {
   "cell_type": "markdown",
   "id": "fbb84409",
   "metadata": {
    "id": "qtozHPUDAnod"
   },
   "source": [
    "4) aList 의 인덱스 2 번 요소를 확인해 보자."
   ]
  },
  {
   "cell_type": "code",
   "execution_count": null,
   "id": "634c0903",
   "metadata": {
    "id": "bXwUYO0cAnod"
   },
   "outputs": [],
   "source": []
  },
  {
   "cell_type": "markdown",
   "id": "9c18c199",
   "metadata": {
    "id": "Vnt6UCrF-zwU"
   },
   "source": [
    "5) 리스트 a 는 다음과 같다. 각 번호의 결과가 나오도록 인덱싱 또는 슬라이싱 해 보자.\n",
    "\n",
    "\n",
    "```\n",
    "a = [50, 60, 70, 80, 90, 100, 110]\n",
    "\n",
    "```\n",
    "\n",
    "1) [50, 60, 70]  \n",
    "2) [60, 70]  \n",
    "3) [50, 70, 90, 110]  \n",
    "4) [60, 80]  \n",
    "5) 110  \n",
    "6) [100, 110]  \n",
    "7) [50, 60, 90, 100, 110]  \n",
    "\n",
    "8) a[:3]=[71,72,73]"
   ]
  },
  {
   "cell_type": "code",
   "execution_count": null,
   "id": "69dfceb0",
   "metadata": {
    "id": "1J0iO7s6_05C"
   },
   "outputs": [],
   "source": []
  },
  {
   "cell_type": "markdown",
   "id": "5bd9257e",
   "metadata": {
    "id": "luHiVWvgBg53"
   },
   "source": [
    "6) 다음 영희네 반 학생 명단 리스트를 for 문을 써서 순환(traversing) 하면서 요소들을 다음과 같이 출력하자.\n",
    "\n",
    "\n",
    "\n",
    "```\n",
    ">>> name_list = ['영희','철수','수완','명철','기남','윤희']\n",
    "\n",
    "출력결과 : 영희, 철수, 수완, 명철, 기남, 윤희\n",
    "```\n",
    "\n"
   ]
  },
  {
   "cell_type": "code",
   "execution_count": null,
   "id": "48e3a9b3",
   "metadata": {
    "id": "tLnUQpEkAnoe"
   },
   "outputs": [],
   "source": []
  },
  {
   "cell_type": "markdown",
   "id": "3bd0f501",
   "metadata": {
    "id": "Xyjr1iRE7DDb"
   },
   "source": [
    "**List Comprehension**"
   ]
  },
  {
   "cell_type": "markdown",
   "id": "de97c0d1",
   "metadata": {
    "id": "uLCu566q7Km2"
   },
   "source": [
    "1) 다음 코드를 List Comprehension 으로 변환해 보자.\n",
    "\n",
    "\n",
    "```\n",
    "new_array = []  \n",
    "for i in range(10):  \n",
    "    new_array.append(i**2)\n",
    "```\n",
    "\n",
    "\n"
   ]
  },
  {
   "cell_type": "markdown",
   "id": "03ecfba4",
   "metadata": {},
   "source": [
    "## 2. Tuple"
   ]
  },
  {
   "cell_type": "markdown",
   "id": "90365665",
   "metadata": {},
   "source": [
    "1) 튜플 t 는 다음과 같다. 각 출력에 적합한 코드를 생성하시오.  \n",
    "\n",
    "\n",
    "```\n",
    "t = (10, 20, 30, 40, 50)\n",
    "```"
   ]
  },
  {
   "cell_type": "code",
   "execution_count": null,
   "id": "c423ae10",
   "metadata": {},
   "outputs": [],
   "source": [
    "t = (10, 20, 30, 40, 50)"
   ]
  },
  {
   "cell_type": "code",
   "execution_count": null,
   "id": "db3d8212",
   "metadata": {},
   "outputs": [],
   "source": [
    "#1-1) 20"
   ]
  },
  {
   "cell_type": "code",
   "execution_count": null,
   "id": "90656e45",
   "metadata": {},
   "outputs": [],
   "source": [
    "#1-2) (20, 30, 40)"
   ]
  },
  {
   "cell_type": "markdown",
   "id": "d54db7f3",
   "metadata": {},
   "source": [
    "## 3. Dictionary"
   ]
  },
  {
   "cell_type": "markdown",
   "id": "d80e47d4",
   "metadata": {},
   "source": [
    "1) 다음 딕셔너리 a_dict 에서 결과를 예측하고 실행해 보자.  \n",
    "\n",
    "\n",
    "```\n",
    "a_dict = {}\n",
    "a_dict['A'] = 10\n",
    "a_dict['B'] = 20\n",
    "a_dict['C'] = 30\n",
    "```\n",
    "\n"
   ]
  },
  {
   "cell_type": "code",
   "execution_count": null,
   "id": "07f039fb",
   "metadata": {},
   "outputs": [],
   "source": [
    "a_dict = {}\n",
    "a_dict['A'] = 10\n",
    "a_dict['B'] = 20\n",
    "a_dict['C'] = 30"
   ]
  },
  {
   "cell_type": "code",
   "execution_count": null,
   "id": "01eefb18",
   "metadata": {},
   "outputs": [],
   "source": [
    "# 1-1)a_dict['B']"
   ]
  },
  {
   "cell_type": "code",
   "execution_count": null,
   "id": "a97afbcc",
   "metadata": {},
   "outputs": [],
   "source": [
    "# 1-2)a_dict[0]"
   ]
  },
  {
   "cell_type": "code",
   "execution_count": null,
   "id": "20cfae4d",
   "metadata": {},
   "outputs": [],
   "source": [
    "# 1-3)a_dict['D']=100"
   ]
  },
  {
   "cell_type": "markdown",
   "id": "949c73b4",
   "metadata": {},
   "source": [
    "2) 다음 알파벳을 Key 값으로, 숫자를 Value 로 하는 Dictionary 를 생성하라.  \n",
    "  \n",
    "  \n",
    "'a', 100  \n",
    "'b', 200  \n",
    "'c', 300"
   ]
  },
  {
   "cell_type": "code",
   "execution_count": null,
   "id": "e3d19afa",
   "metadata": {},
   "outputs": [],
   "source": []
  },
  {
   "cell_type": "markdown",
   "id": "454e7202",
   "metadata": {},
   "source": [
    "3) 2)에서 생성한 딕셔너리를 순환(Traversing)하여 다음과 같이 출력(print)해 보자.\n",
    "\n",
    "a, 100  \n",
    "b, 200  \n",
    "c, 300"
   ]
  },
  {
   "cell_type": "code",
   "execution_count": null,
   "id": "4a34d287",
   "metadata": {},
   "outputs": [],
   "source": []
  },
  {
   "cell_type": "markdown",
   "id": "446b3075",
   "metadata": {},
   "source": [
    "4) 다음 이름을 Key값으로 나이를 Value 로 하는 Dictionary 를 생성하라.\n",
    "\n",
    "김예빈, 25  \n",
    "정이슬, 33  \n",
    "박수길, 29  \n",
    "이차돌, 35"
   ]
  },
  {
   "cell_type": "code",
   "execution_count": null,
   "id": "fbe0d7dc",
   "metadata": {},
   "outputs": [],
   "source": []
  },
  {
   "cell_type": "markdown",
   "id": "4fc05acf",
   "metadata": {},
   "source": [
    "5) 위에서 생성한 dictionary 를 순환하여 아래와 같이 출력되도록 프로그래밍하라.\n",
    "\n",
    "1. 김예빈, 정이슬, 박수길, 이차돌  \n",
    "2. 25,33,29,35  \n",
    "3.\n",
    "이름: 김예빈, 나이: 25  \n",
    "이름: 정이슬, 나이: 33  \n",
    "이름: 박수길, 나이: 29  \n",
    "이름: 이차돌, 나이: 35"
   ]
  },
  {
   "cell_type": "code",
   "execution_count": null,
   "id": "807c5b45",
   "metadata": {},
   "outputs": [],
   "source": []
  }
 ],
 "metadata": {
  "kernelspec": {
   "display_name": "Python 3 (ipykernel)",
   "language": "python",
   "name": "python3"
  },
  "language_info": {
   "codemirror_mode": {
    "name": "ipython",
    "version": 3
   },
   "file_extension": ".py",
   "mimetype": "text/x-python",
   "name": "python",
   "nbconvert_exporter": "python",
   "pygments_lexer": "ipython3",
   "version": "3.9.13"
  }
 },
 "nbformat": 4,
 "nbformat_minor": 5
}

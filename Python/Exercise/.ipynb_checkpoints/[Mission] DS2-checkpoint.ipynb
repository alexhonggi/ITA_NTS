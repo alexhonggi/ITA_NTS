{
 "cells": [
  {
   "cell_type": "markdown",
   "id": "26fc1813",
   "metadata": {},
   "source": [
    "## 미션"
   ]
  },
  {
   "cell_type": "markdown",
   "id": "868838e5",
   "metadata": {},
   "source": [
    "### 미션 1.\n",
    "문제 | 주어진 문장에서 각 단어의 빈도수를 사전으로 저장하고 출력하는 함수 print_freq()를 작성하세요.\n",
    "예시 입력\n",
    "Hello everyone Python is really fun python is exciting\n",
    "\n",
    "예시 출력\n",
    "각 단어의 빈도수:\n",
    "hello: 1회\n",
    "everyone: 1회\n",
    "python: 2회\n",
    "is: 2회\n",
    "really: 1회\n",
    "fun: 1회\n",
    "exciting: 1회\n",
    "\n",
    "힌트\n",
    "- 대소문자를 구별하지 않음을 유의하세요.\n",
    "- 출력 형식을 잘 파악하세요."
   ]
  },
  {
   "cell_type": "code",
   "execution_count": null,
   "id": "0f312ac2",
   "metadata": {},
   "outputs": [],
   "source": [
    "### 주어진 스켈레톤 코드를 활용해서 나머지 코드를 작성하세요.\n",
    "\n",
    "def print_freq(sentence):\n",
    "\n",
    "    word_freq = {} # 빈 사전 객체 생성\n",
    "    words = sentence.split()\n",
    "\n",
    "    # 결과 출력\n",
    "    print(\"각 단어의 빈도수:\")\n",
    "\n",
    "### 아래 파트는 수정하지 마세요!\n",
    "print_freq(input())"
   ]
  },
  {
   "cell_type": "markdown",
   "id": "ab836f90",
   "metadata": {},
   "source": [
    "### 답안"
   ]
  },
  {
   "cell_type": "code",
   "execution_count": null,
   "id": "83f93183",
   "metadata": {},
   "outputs": [],
   "source": [
    "def print_freq(sentence):\n",
    "    # 각 단어의 빈도수를 사전으로 저장하는 코드 작성\n",
    "    sentence = sentence.lower()\n",
    "    word_freq = {}\n",
    "    words = sentence.split()\n",
    "\n",
    "    for word in words:\n",
    "        if word in word_freq:\n",
    "            word_freq[word] += 1\n",
    "        else:\n",
    "            word_freq[word] = 1\n",
    "\n",
    "    # 결과 출력\n",
    "    print(\"각 단어의 빈도수:\")\n",
    "    for word, freq in word_freq.items():\n",
    "        print(f\"{word}: {freq}회\")\n",
    "\n",
    "print_freq(input())"
   ]
  },
  {
   "cell_type": "markdown",
   "id": "f4f4c969",
   "metadata": {},
   "source": [
    "### 미션 2.\n",
    "문제 | 간단한 영한사전을 만들어 봅니다.\n",
    "본 영한사전에는 총 세 개의 모드로 이뤄져있습니다. (0, 1, 그리고 2)\n",
    "\n",
    "0이면 사전에 새로운 단어를 추가합니다.\n",
    "(첫 문장으로는 양의 정수를 받고 이는 추가할 단어의 개수를 의미합니다. 그 뒤로는 영단어와 한글 단어가 띄어쓰기로 구분된 문장이 입력되며 이들을 사전에 추가해야 합니다.)\n",
    "\n",
    "1이면 영어를 검색해서 해당되는 한국어 뜻을 출력합니다.\n",
    "(존재하지 않으면 “조회 실패”를 출력합니다.)\n",
    "\n",
    "2이면 사전의 실행을 종료합니다.\n",
    "(“사전 실행 종료”를 출력한 뒤 실행을 종료할 것)\n",
    "\n",
    "\n",
    "예시 입출력 (볼드체: 출력)\n",
    "0\n",
    "3\n",
    "apple 사과\n",
    "banana 바나나\n",
    "carrot 당근\n",
    "1\n",
    "apple\n",
    "사과\n",
    "1\n",
    "nubzuki\n",
    "조회 실패\n",
    "2\n",
    "사전 실행 종료\n",
    "\n",
    "힌트\n",
    "- 반복문과 조건문을 적절히 사용하세요.\n",
    "- 사전(dict) 자료형을 사용하세요."
   ]
  },
  {
   "cell_type": "code",
   "execution_count": null,
   "id": "db6b804d",
   "metadata": {},
   "outputs": [],
   "source": [
    "### 주어진 스켈레톤 코드를 활용해서 나머지 코드를 작성하세요.\n",
    "\n",
    "eng_kor = dict()\n",
    "\n",
    "while True:\n",
    "    mode = int(input())\n",
    "    if mode == 0: \n",
    "        pass\n",
    "    elif mode == 1:\n",
    "        pass\n",
    "    else:\n",
    "        pass"
   ]
  },
  {
   "cell_type": "markdown",
   "id": "b72886bc",
   "metadata": {},
   "source": [
    "### 답안"
   ]
  },
  {
   "cell_type": "code",
   "execution_count": null,
   "id": "6a33574e",
   "metadata": {},
   "outputs": [],
   "source": [
    "eng_kor = dict()\n",
    "\n",
    "while True:\n",
    "    mode = int(input())\n",
    "\n",
    "    if mode == 0: \n",
    "        # 단어 추가 모드\n",
    "        num_words = int(input())  # 추가할 단어 개수 입력\n",
    "        for _ in range(num_words):\n",
    "            eng, kor = input().split()  # 영어와 한글 단어 입력\n",
    "            eng_kor[eng] = kor  # 사전에 추가\n",
    "\n",
    "    elif mode == 1:\n",
    "        # 단어 검색 모드\n",
    "        search_word = input()  # 검색할 단어 입력\n",
    "        if search_word in eng_kor:\n",
    "            print(eng_kor[search_word])  # 해당 단어의 뜻 출력\n",
    "        else:\n",
    "            print(\"조회 실패\")\n",
    "            \n",
    "    else:\n",
    "        # 사전 실행 종료\n",
    "        print(\"사전 실행 종료\")\n",
    "        break"
   ]
  },
  {
   "cell_type": "markdown",
   "id": "4d011316",
   "metadata": {},
   "source": [
    "### 미션 3.\n",
    "문제 | 두개의 집합을 언더바(_)로 구분하여 입력을 하였을 때 두 집합에 대한 각종 연산 결과를 출력하세요. (합집합, 교집합, 대칭차집합)\n",
    "예시 입력\n",
    "{3, 6, 9}_{2, 5, 8, 7, 9}\n",
    "\n",
    "예시 출력\n",
    "합집합: {2, 3, 5, 6, 7, 8, 9}\n",
    "교집합: {9}\n",
    "대칭차집합: {2, 3, 5, 6, 7, 8}\n",
    "\n",
    "힌트\n",
    "- ast 라이브러리의 literal_eval 함수를 사용하면 코드가 간결해질 수 있습니다.\n",
    "- 사용해볼 수 있는 것들: ast.literal_eval, map(), 문자열 split, 집합 연산자 등"
   ]
  },
  {
   "cell_type": "code",
   "execution_count": null,
   "id": "70961b08",
   "metadata": {},
   "outputs": [],
   "source": [
    "### 주어진 스켈레톤 코드를 활용해서 나머지 코드를 작성하세요.\n",
    "\n",
    "# 입력 받기\n",
    "input_str = input()\n",
    "\n",
    "# 문자열을 집합으로 변환\n",
    "set1 = None\n",
    "set2 = None\n",
    "\n",
    "# 각종 연산 결과 계산\n",
    "union_result = set1.union(set2)\n",
    "intersection_result = None\n",
    "symmetric_difference_result = NOne\n",
    "\n",
    "# 결과 출력\n",
    "print(f\"합집합: {union_result}\")\n",
    "print(f\"교집합: {intersection_result}\")\n",
    "print(f\"대칭차집합: {symmetric_difference_result}\")"
   ]
  },
  {
   "cell_type": "markdown",
   "id": "550b1fc0",
   "metadata": {},
   "source": [
    "### 답안 1"
   ]
  },
  {
   "cell_type": "code",
   "execution_count": null,
   "id": "963fa72f",
   "metadata": {},
   "outputs": [],
   "source": [
    "# 입력 받기\n",
    "input_str = input()\n",
    "set1_str, set2_str = input_str.split('_')\n",
    "\n",
    "# 문자열을 집합으로 변환\n",
    "set1 = set(map(int, set1_str[1:-1].split(',')))\n",
    "set2 = set(map(int, set2_str[1:-1].split(',')))\n",
    "\n",
    "# 각종 연산 결과 계산\n",
    "union_result = set1.union(set2)\n",
    "intersection_result = set1.intersection(set2)\n",
    "symmetric_difference_result = set1.symmetric_difference(set2)\n",
    "\n",
    "# 결과 출력\n",
    "print(f\"합집합: {union_result}\")\n",
    "print(f\"교집합: {intersection_result}\")\n",
    "print(f\"대칭차집합: {symmetric_difference_result}\")"
   ]
  },
  {
   "cell_type": "markdown",
   "id": "461322f9",
   "metadata": {},
   "source": [
    "### 답안 2"
   ]
  },
  {
   "cell_type": "code",
   "execution_count": null,
   "id": "e6bb04c2",
   "metadata": {},
   "outputs": [],
   "source": [
    "from ast import literal_eval\n",
    "\n",
    "# 입력 받기\n",
    "input_str = input()\n",
    "set1_str, set2_str = input_str.split('_')\n",
    "\n",
    "# 문자열을 집합으로 변환\n",
    "set1 = literal_eval(set1_str)\n",
    "set2 = literal_eval(set2_str)\n",
    "\n",
    "# 각종 연산 결과 계산\n",
    "union_result = set1.union(set2)\n",
    "intersection_result = set1.intersection(set2)\n",
    "symmetric_difference_result = set1.symmetric_difference(set2)\n",
    "\n",
    "# 결과 출력\n",
    "print(f\"합집합: {union_result}\")\n",
    "print(f\"교집합: {intersection_result}\")\n",
    "print(f\"대칭차집합: {symmetric_difference_result}\")"
   ]
  }
 ],
 "metadata": {
  "kernelspec": {
   "display_name": "Python 3 (ipykernel)",
   "language": "python",
   "name": "python3"
  },
  "language_info": {
   "codemirror_mode": {
    "name": "ipython",
    "version": 3
   },
   "file_extension": ".py",
   "mimetype": "text/x-python",
   "name": "python",
   "nbconvert_exporter": "python",
   "pygments_lexer": "ipython3",
   "version": "3.9.13"
  }
 },
 "nbformat": 4,
 "nbformat_minor": 5
}

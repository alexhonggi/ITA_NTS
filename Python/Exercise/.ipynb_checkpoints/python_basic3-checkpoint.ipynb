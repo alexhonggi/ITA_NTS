{
 "cells": [
  {
   "cell_type": "markdown",
   "metadata": {
    "id": "NwU90Clr9nQT"
   },
   "source": [
    "# Ⅰ. 자료구조  \n",
    "1. List  \n",
    "2. Tuple  \n",
    "3. Dictionary"
   ]
  },
  {
   "cell_type": "markdown",
   "metadata": {
    "id": "JjXeuEaf9xMi"
   },
   "source": [
    "## 1. List"
   ]
  },
  {
   "cell_type": "markdown",
   "metadata": {},
   "source": [
    "1) 다음과 같은 빈(empty) List 를 정의하고 append 함수를 써서 요소를 하나씩 삽입하자.\n",
    "\n",
    "List 명: aList  \n",
    "요소 : 'Banana', 'Apple', 'Orange', 'Mango'"
   ]
  },
  {
   "cell_type": "code",
   "execution_count": null,
   "metadata": {},
   "outputs": [],
   "source": []
  },
  {
   "cell_type": "markdown",
   "metadata": {},
   "source": [
    "2) aList 의 요소의 개수를 len() 함수를 써서 확인해 보자."
   ]
  },
  {
   "cell_type": "code",
   "execution_count": null,
   "metadata": {},
   "outputs": [],
   "source": []
  },
  {
   "cell_type": "markdown",
   "metadata": {},
   "source": [
    "3) aList 의 sort() 함수를 써서 정렬해 보자."
   ]
  },
  {
   "cell_type": "code",
   "execution_count": null,
   "metadata": {},
   "outputs": [],
   "source": []
  },
  {
   "cell_type": "markdown",
   "metadata": {},
   "source": [
    "4) aList 의 인덱스 2 번 요소를 확인해 보자."
   ]
  },
  {
   "cell_type": "code",
   "execution_count": null,
   "metadata": {},
   "outputs": [],
   "source": []
  },
  {
   "cell_type": "markdown",
   "metadata": {
    "id": "Vnt6UCrF-zwU"
   },
   "source": [
    "5) 리스트 a 는 다음과 같다. 각 번호의 결과가 나오도록 인덱싱 또는 슬라이싱 해 보자.\n",
    "\n",
    "\n",
    "```\n",
    "a = [50, 60, 70, 80, 90, 100, 110]\n",
    "\n",
    "```\n",
    "\n",
    "1) [50, 60, 70]  \n",
    "2) [60, 70]  \n",
    "3) [50, 70, 90, 110]  \n",
    "4) [60, 80]  \n",
    "5) 110  \n",
    "6) [100, 110]  \n",
    "7) [50, 60, 90, 100, 110]  \n",
    "\n",
    "8) a[:3]=[71,72,73]"
   ]
  },
  {
   "cell_type": "code",
   "execution_count": null,
   "metadata": {
    "id": "1J0iO7s6_05C"
   },
   "outputs": [],
   "source": []
  },
  {
   "cell_type": "markdown",
   "metadata": {
    "id": "VZqQzz7tEwN4"
   },
   "source": [
    "6) 다음 순서대로 List 자료형을 생성하거나 수정하시오.\n",
    "<br>\n",
    "1. 빈 리스트 자료형 (Empty List) aList 를 생성하시오\n",
    "<br><br>\n",
    "2. aList 에 append 함수를 이용하여 다음과 같이 aList 를 변형하시오.\n",
    "```\n",
    ">>> print(aList)\n",
    "[10, 20, 30]\n",
    "```\n",
    "3. aList 에 insert 함수를 이용하여 다음과 같이 aList 를 변형하시오.\n",
    "```\n",
    ">>> print(aList)\n",
    "[10, 20, 35, 30]\n",
    "```\n",
    "4. aList 에 remove 함수를 이용하여 다음과 같이 aList를 변형하시오.\n",
    "```\n",
    ">>>print(aList)\n",
    "[10, 35, 30]\n",
    "```\n",
    "5. aList 에 append 함수를 이용하여 다음과 같이 aList 를 변형하시오.\n",
    "```\n",
    ">>>print(aList)\n",
    "[10, 35, 30, 25, 20, 40]\n",
    "```\n",
    "\n",
    "6. aList 에 sort 함수를 이용하여 다음과 같이 aList 를 변형하시오.\n",
    "```\n",
    "[10, 20, 25, 30, 35, 40]\n",
    "```"
   ]
  },
  {
   "cell_type": "code",
   "execution_count": null,
   "metadata": {},
   "outputs": [],
   "source": []
  },
  {
   "cell_type": "markdown",
   "metadata": {
    "id": "Xyjr1iRE7DDb"
   },
   "source": [
    "**List Comprehension**"
   ]
  },
  {
   "cell_type": "markdown",
   "metadata": {
    "id": "uLCu566q7Km2"
   },
   "source": [
    "1) 다음 코드를 List Comprehension 으로 변환해 보자.\n",
    "\n",
    "\n",
    "```\n",
    "new_array = []  \n",
    "for i in range(10):  \n",
    "    new_array.append(i**2)\n",
    "```\n",
    "\n",
    "\n"
   ]
  },
  {
   "cell_type": "code",
   "execution_count": null,
   "metadata": {
    "id": "nyhkEfeH_iKp"
   },
   "outputs": [],
   "source": [
    "#TO-DO\n"
   ]
  },
  {
   "cell_type": "markdown",
   "metadata": {
    "id": "K6OJBZUO92Ja"
   },
   "source": [
    "## 2. Tuple"
   ]
  },
  {
   "cell_type": "markdown",
   "metadata": {
    "id": "u4phjlzYAU1p"
   },
   "source": [
    "1) 튜플 t 는 다음과 같다. 각 출력에 적합한 코드를 생성하시오.  \n",
    "\n",
    "\n",
    "```\n",
    "t = (10, 20, 30, 40, 50)\n",
    "```\n",
    "\n"
   ]
  },
  {
   "cell_type": "code",
   "execution_count": null,
   "metadata": {
    "id": "GiHVPAIlBOyP"
   },
   "outputs": [],
   "source": [
    "t = (10, 20, 30, 40, 50)"
   ]
  },
  {
   "cell_type": "code",
   "execution_count": null,
   "metadata": {
    "id": "I_oywEq3Ak-t"
   },
   "outputs": [],
   "source": [
    "#1-1) 20"
   ]
  },
  {
   "cell_type": "code",
   "execution_count": null,
   "metadata": {
    "id": "Wp22ZwWcApV4"
   },
   "outputs": [],
   "source": [
    "#1-2) (20, 30, 40)"
   ]
  },
  {
   "cell_type": "markdown",
   "metadata": {
    "id": "hwXvLdFKBhaU"
   },
   "source": [
    "2) 다음 a와 b의 값을 예측하시오.  \n",
    "\n",
    "\n",
    "\n",
    "```\n",
    "def calc_stat(alist):\n",
    "    sum = 0\n",
    "    for i in alist:\n",
    "        sum = sum + i\n",
    "    avg = sum / len(alist)\n",
    "    return sum, avg\n",
    "\n",
    "a_list = [10, 20, 30, 40, 50]\n",
    "a, b = calc_stat(a_list)\n",
    "```\n",
    "\n"
   ]
  },
  {
   "cell_type": "code",
   "execution_count": null,
   "metadata": {},
   "outputs": [],
   "source": []
  },
  {
   "cell_type": "markdown",
   "metadata": {
    "id": "VHvHBDxI942K"
   },
   "source": [
    "## 3. Dictionary"
   ]
  },
  {
   "cell_type": "markdown",
   "metadata": {
    "id": "GF-pt3lSB7qu"
   },
   "source": [
    "1) 다음 딕셔너리 a_dict 에서 결과를 예측하고 실행해 보자.  \n",
    "\n",
    "\n",
    "```\n",
    "a_dict = {}\n",
    "a_dict['A'] = 10\n",
    "a_dict['B'] = 20\n",
    "a_dict['C'] = 30\n",
    "```\n",
    "\n"
   ]
  },
  {
   "cell_type": "code",
   "execution_count": null,
   "metadata": {
    "id": "JSaWwXn2CRRk"
   },
   "outputs": [],
   "source": [
    "a_dict = {}\n",
    "a_dict['A'] = 10\n",
    "a_dict['B'] = 20\n",
    "a_dict['C'] = 30"
   ]
  },
  {
   "cell_type": "code",
   "execution_count": null,
   "metadata": {
    "id": "-WDILtEWCSiO"
   },
   "outputs": [],
   "source": [
    "# 1-1)a_dict['B']"
   ]
  },
  {
   "cell_type": "code",
   "execution_count": null,
   "metadata": {
    "id": "hEcEOUSeCW3n"
   },
   "outputs": [],
   "source": [
    "# 1-2)a_dict[0]"
   ]
  },
  {
   "cell_type": "code",
   "execution_count": null,
   "metadata": {
    "id": "FDA2Rc6vCa-X"
   },
   "outputs": [],
   "source": [
    "# 1-3)a_dict['D']=100"
   ]
  },
  {
   "cell_type": "markdown",
   "metadata": {
    "id": "7BWnVqIyBe86"
   },
   "source": [
    "2) 다음 알파벳을 Key 값으로, 숫자를 Value 로 하는 Dictionary 를 생성하라.  \n",
    "  \n",
    "  \n",
    "A, 10  \n",
    "B, 20  \n",
    "C, 30"
   ]
  },
  {
   "cell_type": "code",
   "execution_count": null,
   "metadata": {
    "id": "jYTbhZeuBee2"
   },
   "outputs": [],
   "source": []
  },
  {
   "cell_type": "markdown",
   "metadata": {
    "id": "bCSwFKbSCkIO"
   },
   "source": [
    "3) 2)에서 생성한 딕셔너리를 순환(Traversing)하여 다음과 같이 출력(print)해 보자.\n",
    "\n",
    "A, 10  \n",
    "B, 20  \n",
    "C, 30"
   ]
  },
  {
   "cell_type": "code",
   "execution_count": null,
   "metadata": {
    "id": "6zJxHucWC-W2"
   },
   "outputs": [],
   "source": []
  },
  {
   "cell_type": "markdown",
   "metadata": {},
   "source": [
    "4) 다음 이름을 Key값으로 나이를 Value 로 하는 Dictionary 를 생성하라.\n",
    "\n",
    "김예빈, 25  \n",
    "정이슬, 33  \n",
    "박수길, 29  \n",
    "이차돌, 35"
   ]
  },
  {
   "cell_type": "code",
   "execution_count": null,
   "metadata": {},
   "outputs": [],
   "source": []
  },
  {
   "cell_type": "markdown",
   "metadata": {},
   "source": [
    "5) 위에서 생성한 dictionary 를 순환하여 아래와 같이 출력되도록 프로그래밍하라.\n",
    "\n",
    "1. 김예빈, 정이슬, 박수길, 이차돌  \n",
    "2. 25,33,29,35  \n",
    "3. \n",
    "이름: 김예빈, 나이: 25  \n",
    "이름: 정이슬, 나이: 33  \n",
    "이름: 박수길, 나이: 29  \n",
    "이름: 이차돌, 나이: 35"
   ]
  },
  {
   "cell_type": "markdown",
   "metadata": {
    "id": "GsQz0JCM98A3"
   },
   "source": [
    "# Ⅱ. Import & Module"
   ]
  },
  {
   "cell_type": "markdown",
   "metadata": {
    "id": "IqkGPjjYFsMv"
   },
   "source": [
    "앞으로 다룰 주요 모듈들을 Import 해 보고 간단한 함수를 호출하여 결과를 확인해 보자."
   ]
  },
  {
   "cell_type": "code",
   "execution_count": null,
   "metadata": {
    "id": "ITijelRTF14B"
   },
   "outputs": [],
   "source": [
    "import numpy as np"
   ]
  },
  {
   "cell_type": "code",
   "execution_count": null,
   "metadata": {
    "id": "_7WgDvorF4hl"
   },
   "outputs": [],
   "source": [
    "np.random.random()"
   ]
  },
  {
   "cell_type": "code",
   "execution_count": null,
   "metadata": {
    "id": "Z_4JUh6DF-kE"
   },
   "outputs": [],
   "source": [
    "array_1d = np.array([1,2,3])\n",
    "array_1d"
   ]
  },
  {
   "cell_type": "code",
   "execution_count": null,
   "metadata": {
    "id": "a0viilSqF7j1"
   },
   "outputs": [],
   "source": [
    "array_2d = np.array([[1,2], [4,5]])\n",
    "array_2d"
   ]
  },
  {
   "cell_type": "code",
   "execution_count": null,
   "metadata": {
    "id": "xRrV2FSVF2Fy"
   },
   "outputs": [],
   "source": [
    "# Determinant\n",
    "np.linalg.det(array_2d)"
   ]
  },
  {
   "cell_type": "code",
   "execution_count": null,
   "metadata": {
    "id": "hJngdU4-Gzoc"
   },
   "outputs": [],
   "source": [
    "import pandas as pd\n",
    "data = {'col1':[1,3],'col2':[2,4]}\n",
    "df = pd.DataFrame.from_dict(data=data, orient='columns')\n",
    "print(df)"
   ]
  },
  {
   "cell_type": "code",
   "execution_count": null,
   "metadata": {
    "id": "6Yl5gdt9HCws"
   },
   "outputs": [],
   "source": [
    "import matplotlib.pyplot as plt\n",
    "data_x = np.linspace(0, 10)\n",
    "plt.plot(data_x, data_x**2)"
   ]
  }
 ],
 "metadata": {
  "colab": {
   "authorship_tag": "ABX9TyPvI5zkh+8rUCCTTYzTKELy",
   "provenance": []
  },
  "kernelspec": {
   "display_name": "Python 3 (ipykernel)",
   "language": "python",
   "name": "python3"
  },
  "language_info": {
   "codemirror_mode": {
    "name": "ipython",
    "version": 3
   },
   "file_extension": ".py",
   "mimetype": "text/x-python",
   "name": "python",
   "nbconvert_exporter": "python",
   "pygments_lexer": "ipython3",
   "version": "3.12.4"
  }
 },
 "nbformat": 4,
 "nbformat_minor": 1
}

{
 "cells": [
  {
   "cell_type": "markdown",
   "id": "f33875d9",
   "metadata": {},
   "source": [
    "# 미션"
   ]
  },
  {
   "cell_type": "markdown",
   "id": "64b59f14",
   "metadata": {},
   "source": [
    "## 미션 1. \n",
    "문제 | 주어진 리스트에서 짝수만을 오름차순으로 출력하는 print_even 함수를 작성하세요.\n",
    "예시 입력\n",
    "3 12 9 6 15\n",
    "\n",
    "예시 출력\n",
    "6 12\n",
    "\n",
    "힌트\n",
    "- 입력과 출력 형식을 잘 확인하세요\n",
    "- map 함수의 역할을 무엇일까요?"
   ]
  },
  {
   "cell_type": "code",
   "execution_count": null,
   "id": "559792c9",
   "metadata": {},
   "outputs": [],
   "source": [
    "### 주어진 스켈레톤 코드를 활용해서 나머지 코드를 작성해보세요.\n",
    "\n",
    "def print_even(num_list):\n",
    "    pass\n",
    "    \n",
    "\n",
    "print(print_even(list(map(int,input().split(\" \")))))"
   ]
  },
  {
   "cell_type": "markdown",
   "id": "03221258",
   "metadata": {},
   "source": [
    "### 답안"
   ]
  },
  {
   "cell_type": "code",
   "execution_count": null,
   "id": "bf533026",
   "metadata": {},
   "outputs": [],
   "source": [
    "def print_even(num_list):\n",
    "    even_numbers = [num for num in num_list if num % 2 == 0]\n",
    "    even_numbers.sort()\n",
    "    even_numbers = list(map(str, even_numbers))\n",
    "    return \" \".join(even_numbers)\n",
    "    \n",
    "print(print_even(list(map(int,input().split(\" \")))))"
   ]
  },
  {
   "cell_type": "markdown",
   "id": "fce2f901",
   "metadata": {},
   "source": [
    "## 미션 2.\n",
    "문제 | 사용자 입력으로 받을 문장 개수와 문장을 받고, 이후 각 문장마다 단어들을 사전 순 정렬하여 보여주세요.\n",
    "문장의 구분은 줄 바꿈(엔터 키)을 기준으로 합니다.\n",
    "\n",
    "예시 입력\n",
    "3\n",
    "안녕하세요. 파이썬은 참으로 재밌고 유익한 프로그래밍 언어입니다.\n",
    "프로그래밍을 배우는 것은 참으로 멋진 것 같아요.\n",
    "앞으로도 열심히 학업에 정진하도록 하겠습니다.\n",
    "\n",
    "예시 출력\n",
    "안녕하세요. 언어입니다. 유익한 재밌고 참으로 파이썬은 프로그래밍\n",
    "같아요. 것 것은 멋진 배우는 참으로 프로그래밍을\n",
    "앞으로도 열심히 정진하도록 하겠습니다. 학업에\n",
    "\n",
    "힌트\n",
    "- 입력받는 문자열을 숫자 혹은 리스트와 같은 자료형으로 변환한 뒤 내장 함수나 메소드를 적절히 활용해보세요\n",
    "- 사용해볼 수 있는 함수와 메소드들: int(), range(), 문자열 split, enumerate(), len(), 리스트 append, 리스트 sort 등"
   ]
  },
  {
   "cell_type": "code",
   "execution_count": null,
   "id": "8adeba92",
   "metadata": {},
   "outputs": [],
   "source": [
    "### 아래에 주어진 스켈레톤 코드를 적절히 활용하세요.\n",
    "\n",
    "# 몇 개의 문장을 입력받을 지 사용자로부터 입력을 받음\n",
    "num = int(input()) \n",
    "\n",
    "input_list = [] # 문장 여러개를 담을 리스트\n",
    "\n",
    "# num개만큼 문장들을 입력받고 각 문장의 단어들을 쪼개서 리스트로 담은 다음에 정렬하기\n",
    "for i in range(num):  \n",
    "    pass\n",
    "\n",
    "# 정렬된 리스트를 문장으로 변환한다음 출력하기\n",
    "for i in range(num):\n",
    "    pass"
   ]
  },
  {
   "cell_type": "markdown",
   "id": "aa938e21",
   "metadata": {},
   "source": [
    "### 답안 1"
   ]
  },
  {
   "cell_type": "code",
   "execution_count": null,
   "id": "222a0868",
   "metadata": {},
   "outputs": [],
   "source": [
    "num = int(input()) \n",
    "input_list = []\n",
    "\n",
    "for i in range(num):  \n",
    "    tmp_list = input().split(\" \")\n",
    "    tmp_list.sort()\n",
    "    input_list.append(tmp_list)\n",
    "\n",
    "for i in range(num):\n",
    "    print(\" \".join(input_list[i]))"
   ]
  },
  {
   "cell_type": "markdown",
   "id": "11e562e0",
   "metadata": {},
   "source": [
    "### 답안 2"
   ]
  },
  {
   "cell_type": "code",
   "execution_count": null,
   "id": "42002817",
   "metadata": {},
   "outputs": [],
   "source": [
    "input_list = []\n",
    "for i in range(num):  \n",
    "    input_list.append(input().split(\" \"))\n",
    "    input_list[i].sort()\n",
    "\n",
    "for i in range(num):    \n",
    "  for idx, val in enumerate(input_list[i]):\n",
    "    if idx == len(input_list[i])-1: print(val, end=\"\\n\")\n",
    "    else: print(val, end=\" \")"
   ]
  },
  {
   "cell_type": "markdown",
   "id": "691f6956",
   "metadata": {},
   "source": [
    "## 미션 3.\n",
    "문제 | 사용자 입력으로 0 이상의 정수들의 시퀀스 문장을 입력받으면 내림차순으로 각 정수의 값만큼 반복한 이중 튜플과 이들의 총합과 평균을 출력하세요.\n",
    "(입력이 0일 때 튜플 결과물로는 빈 튜플을 표시하되, 평균을 구할 때에는 0의 존재를 함께 고려할 것)\n",
    "\n",
    "예시 입력\n",
    "2 6 4 9 0\n",
    "\n",
    "예시 출력\n",
    "결과물: ((9, 9, 9, 9, 9, 9, 9, 9, 9), (6, 6, 6, 6, 6, 6), (4, 4, 4, 4), (2, 2), ())\n",
    "총합: 137, 평균: 6.227\n",
    "\n",
    "힌트\n",
    "- 튜플은 immutable하기에 객체 생성 후 값 변경이 불가능합니다. 그렇다면 다른 자료형을 잠시 사용해보는 것은 어떨까요?\n",
    "- 사용해볼 수 있는 것들: 문자열 split, map(), tuple(), sum(), round(), f-string 등"
   ]
  },
  {
   "cell_type": "code",
   "execution_count": null,
   "id": "0fc5e769",
   "metadata": {},
   "outputs": [],
   "source": [
    "num_seq = list(map(int, input().split(\" \")))\n",
    "num_seq.sort(reverse=True)\n",
    "### 위의 파트를 남겨둔채 아래부터 코드를 작성해보세요."
   ]
  },
  {
   "cell_type": "markdown",
   "id": "5f1202e8",
   "metadata": {},
   "source": [
    "### 답안"
   ]
  },
  {
   "cell_type": "code",
   "execution_count": null,
   "id": "642c5b02",
   "metadata": {},
   "outputs": [],
   "source": [
    "num_seq = list(map(int, input().split(\" \")))\n",
    "num_seq.sort(reverse=True)\n",
    "\n",
    "temp_list = []\n",
    "zero_count = 0\n",
    "\n",
    "for val in num_seq:\n",
    "    if val == 0: zero_count += 1\n",
    "    temp_list.append(tuple([val]*val))\n",
    "        \n",
    "result = tuple(temp_list)\n",
    "print(f\"결과물: {result}\")\n",
    "print(f\"총합: {sum([sum(temp) for temp in result])}, 평균: {sum([sum(temp) for temp in result])/(zero_count+sum(num_seq)):.3f}\")"
   ]
  }
 ],
 "metadata": {
  "kernelspec": {
   "display_name": "Python 3 (ipykernel)",
   "language": "python",
   "name": "python3"
  },
  "language_info": {
   "codemirror_mode": {
    "name": "ipython",
    "version": 3
   },
   "file_extension": ".py",
   "mimetype": "text/x-python",
   "name": "python",
   "nbconvert_exporter": "python",
   "pygments_lexer": "ipython3",
   "version": "3.9.13"
  }
 },
 "nbformat": 4,
 "nbformat_minor": 5
}

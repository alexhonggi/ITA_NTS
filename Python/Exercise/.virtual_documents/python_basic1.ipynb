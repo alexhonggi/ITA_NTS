








a = 100
b = 200
c = 123.45
d = 'TEST'


print(a)


print(c)


print('문자열 입니다.')


print('a의 값은 ', a)


print('a의 값은 ', a, ' 입니다.')


print('a의 값은 {} 입니다.'.format(a))


print(f'a의 값은 {a} 입니다.')











10 // 2


20/3


10%3


4*3


2**3


3/0





20.0 /5


12.5*4


int(123.45)


3.4e2 + 1.6e2








"Hello" + " World!"


int("152")


float("123.45")


str(2) + "+" + str(4) + "=" + str(2+4)





1==1


1+1 == 3


True or False


False and False





[0,1,2,3,4] + [5]


("banana", "apple", "orange") + ("mango")











10>20


15*2.0!=30


(10*5 < 20) or (2**4 == 4**2)





h = 92
# TO-DO























a = 1

while a < 10:
  print(a)

  if a%2 == 0:
    print('짝수')
  else:
    print('홀수')

  a = a+1








a_list = [ 50, 40, 30, 20, 10]





a_list = [ 1,2,3,4,5,6,7,8,9,10]




































































def avg_weight(w_list):
  sum = 0
  for weight in w_list:
    #to do
    pass # pass 에 알맞은 코드를 넣어라.
  avg = sum/len(w_list) # 평균 = 합계/리스트 개수(len() 함수)
  return avg

weight_list = [56.5, 49.5, 48.7, 52.3, 60.2]
#to do : avg_weight 를 호출하는 코드를 작성하고 결과를 확인해 보자.



















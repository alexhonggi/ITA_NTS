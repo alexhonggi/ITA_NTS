{
 "cells": [
  {
   "cell_type": "markdown",
   "id": "f64e3631",
   "metadata": {},
   "source": [
    "# 함수"
   ]
  },
  {
   "cell_type": "markdown",
   "id": "9f5df416",
   "metadata": {},
   "source": [
    "## 기초적인 함수 정의 및 호출"
   ]
  },
  {
   "cell_type": "code",
   "execution_count": null,
   "id": "eb41101c",
   "metadata": {
    "scrolled": true
   },
   "outputs": [],
   "source": [
    "# 기초적인 함수 정의 및 호출\n",
    "def say_hello():\n",
    "    print(\"Hello!\")"
   ]
  },
  {
   "cell_type": "code",
   "execution_count": null,
   "id": "abe53b37",
   "metadata": {},
   "outputs": [],
   "source": [
    "say_hello()"
   ]
  },
  {
   "cell_type": "code",
   "execution_count": null,
   "id": "4fabbe8b",
   "metadata": {},
   "outputs": [],
   "source": [
    "for i in range(5):\n",
    "    say_hello()"
   ]
  },
  {
   "cell_type": "markdown",
   "id": "8901234a",
   "metadata": {},
   "source": [
    "## 매개변수와 반환"
   ]
  },
  {
   "cell_type": "code",
   "execution_count": null,
   "id": "53d24aef",
   "metadata": {},
   "outputs": [],
   "source": [
    "# 매개변수와 반환\n",
    "\n",
    "def function_name(parameter1, parameter2, parameter3):\n",
    "    print(f\"parameter 1 : {parameter1}\")\n",
    "    print(f\"parameter 2 : {parameter2}\")\n",
    "    print(f\"parameter 3 : {parameter3}\")\n",
    "    return parameter1 + parameter2 + parameter3\n"
   ]
  },
  {
   "cell_type": "code",
   "execution_count": null,
   "id": "6daaf7c2",
   "metadata": {},
   "outputs": [],
   "source": [
    "sum = function_name(5, 6, 7) # positional\n",
    "print(sum)"
   ]
  },
  {
   "cell_type": "code",
   "execution_count": null,
   "id": "01d5be6d",
   "metadata": {},
   "outputs": [],
   "source": [
    "sum = function_name(parameter3 = 7, parameter1 = 5, parameter2 = 6) # keyword\n",
    "print(sum)"
   ]
  },
  {
   "cell_type": "code",
   "execution_count": null,
   "id": "051b71f0",
   "metadata": {},
   "outputs": [],
   "source": [
    "# sum = function_name(5, parameter3 = 7, 6) # error\n",
    "sum = function_name(5, parameter3 = 7, parameter2 = 6) # both\n",
    "print(sum)"
   ]
  },
  {
   "cell_type": "markdown",
   "id": "2700f375",
   "metadata": {},
   "source": [
    "## 매개변수 초기값"
   ]
  },
  {
   "cell_type": "code",
   "execution_count": null,
   "id": "3b725a58",
   "metadata": {},
   "outputs": [],
   "source": [
    "# 초기값\n",
    "\n",
    "# def function_name(parameter1, parameter2 = 2, parameter3): # error\n",
    "\n",
    "def function_name(parameter1, parameter2 = 2, parameter3 = 3):\n",
    "    print(f\"parameter 1 : {parameter1}\")\n",
    "    print(f\"parameter 2 : {parameter2}\")\n",
    "    print(f\"parameter 3 : {parameter3}\")\n",
    "\n",
    "\n",
    "function_name(5)\n",
    "print(\"#########\")\n",
    "function_name(parameter2 = 4, parameter1 = 5)\n",
    "print(\"#########\")\n",
    "function_name(5, 6, 7)\n",
    "print(\"#########\")\n",
    "# function_name() # error"
   ]
  },
  {
   "cell_type": "markdown",
   "id": "d7dfcec5",
   "metadata": {},
   "source": [
    "## import / from / as"
   ]
  },
  {
   "cell_type": "code",
   "execution_count": null,
   "id": "57e96d13",
   "metadata": {},
   "outputs": [],
   "source": [
    "# import\n",
    "import math, random, time\n",
    "print(math.pi) # 3.1415...\n",
    "time.sleep(3)\n",
    "print(random.randint(0, 10)) # 0부터 10까지 무작위 \n",
    "time.sleep(3)\n",
    "\n",
    "\n",
    "# from ... import\n",
    "from math import pi, sin, cos\n",
    "from random import randint\n",
    "from time import sleep\n",
    "print(sin(pi)) \n",
    "sleep(3)\n",
    "print(cos(pi))\n",
    "sleep(3)\n",
    "\n",
    "\n",
    "# as\n",
    "from math import pi as p, sin as s\n",
    "import random as r\n",
    "print(s(0))\n",
    "print(p)\n",
    "print(r.randint(0, 10))"
   ]
  },
  {
   "cell_type": "markdown",
   "id": "7fdf9511",
   "metadata": {},
   "source": [
    "## 지역 / 전역변수"
   ]
  },
  {
   "cell_type": "code",
   "execution_count": null,
   "id": "e028be5e",
   "metadata": {},
   "outputs": [],
   "source": [
    "# 지역/전역변수\n",
    "def func1():\n",
    "    a = 3\n",
    "func1()\n",
    "# print(a) # error\n",
    "\n",
    "b = 3\n",
    "def func2():\n",
    "    a = 3\n",
    "print(b)\n",
    "\n",
    "a = 10\n",
    "def func3():\n",
    "    print(a)\n",
    "func3()"
   ]
  },
  {
   "cell_type": "markdown",
   "id": "cbc229b3",
   "metadata": {},
   "source": [
    "## global"
   ]
  },
  {
   "cell_type": "code",
   "execution_count": null,
   "id": "9d09f2db",
   "metadata": {},
   "outputs": [],
   "source": [
    "# global\n",
    "\n",
    "\"\"\"\n",
    "a = 10\n",
    "def func1():\n",
    "    a += 1 # error\n",
    "    print(a)\n",
    "func1()\n",
    "\"\"\"\n",
    "\n",
    "a = 10\n",
    "def func1():\n",
    "    global a\n",
    "    a += 1 \n",
    "    print(a - 5)\n",
    "func1()  \n",
    "print(a)\n",
    "\n"
   ]
  },
  {
   "cell_type": "markdown",
   "id": "66e7f700",
   "metadata": {},
   "source": [
    "## 함수 call stack"
   ]
  },
  {
   "cell_type": "code",
   "execution_count": null,
   "id": "87a5fb01",
   "metadata": {},
   "outputs": [],
   "source": [
    "# call stack\n",
    "\n",
    "def f1():\n",
    "    f2()\n",
    "    print(\"Hello in f1!\")\n",
    "\n",
    "def f2():\n",
    "    f3()\n",
    "    print(\"Hello in f2!\")\n",
    "\n",
    "def f3():\n",
    "    print(\"Hello in f3!\")\n",
    "    # import traceback\n",
    "    # traceback.print_stack()\n",
    "\n",
    "f1()"
   ]
  },
  {
   "cell_type": "markdown",
   "id": "9893e399",
   "metadata": {},
   "source": [
    "## 재귀함수"
   ]
  },
  {
   "cell_type": "code",
   "execution_count": null,
   "id": "12f61a63",
   "metadata": {},
   "outputs": [],
   "source": [
    "def print_nums(n):\n",
    "    if n > 0:\n",
    "        print_nums(n - 1)\n",
    "        print(n-1)\n",
    "\n",
    "print_nums(5)"
   ]
  },
  {
   "cell_type": "markdown",
   "id": "de696a87",
   "metadata": {},
   "source": [
    "# 미션"
   ]
  },
  {
   "cell_type": "markdown",
   "id": "a560ecee",
   "metadata": {},
   "source": [
    "## 미션 1.\n",
    "문제 | 사용자의 입력을 받아서 The text you gave me is ‘<입력값>’.를 출력하는 print_input() 함수를 정의하세요.\n",
    "예시 입력\n",
    "I like Python\n",
    "\n",
    "예시 출력\n",
    "The text you gave me is 'I like Python'.\n",
    "\n",
    "힌트\n",
    "- input함수와 print함수를 적절히 사용하세요.\n",
    "- 출력에 오탈자가 없는지 재검토하세요."
   ]
  },
  {
   "cell_type": "code",
   "execution_count": null,
   "id": "16357799",
   "metadata": {},
   "outputs": [],
   "source": [
    "def print_input():\n",
    "    pass\n",
    "\n",
    "### 아래 파트는 남겨둔 채 위의 함수 내용을 작성하세요.\n",
    "print_input()"
   ]
  },
  {
   "cell_type": "markdown",
   "id": "15e4f06a",
   "metadata": {},
   "source": [
    "## 미션 2\n",
    "문제 | 다음의 연산을 수행하는 계산기 함수를 정의하고 호출하세요.\n",
    "두 개의 숫자를 입력으로 받아 더한 결과를 반환하는 함수 add를 만드세요.\n",
    "\n",
    "두 개의 숫자를 입력으로 받아 뺀 결과를 반환하는 함수 subtract를 만드세요.\n",
    "\n",
    "두 개의 숫자를 입력으로 받아 곱한 결과를 반환하는 함수 multiply를 만드세요.\n",
    "\n",
    "두 개의 숫자를 입력으로 받아 나눈 결과를 반환하는 함수 divide를 만드세요.\n",
    "\n",
    "이후, 사용자로부터 두 개의 숫자를 입력 받고 각 함수들을 호출하여 결과를 출력하세요.\n",
    "\n",
    "예시 입력 (볼드체: 입력 프롬프트)\n",
    "첫번째 숫자를 입력하세요: 10\n",
    "두번째 숫자를 입력하세요: 5\n",
    "\n",
    "예시 출력\n",
    "더하기 결과: 15\n",
    "빼기 결과: 5\n",
    "곱하기 결과: 50\n",
    "나누기 결과: 2.0\n",
    "Copy\n",
    "힌트\n",
    "- 함수의 정의와 호출 문법을 잘 복기하세요.\n",
    "- 오타가 없는지 잘 살펴보세요."
   ]
  },
  {
   "cell_type": "code",
   "execution_count": null,
   "id": "ac8286c3",
   "metadata": {},
   "outputs": [],
   "source": [
    "def add(n1, n2):\n",
    "    print(f\"더하기 결과: {n1+n2}\")\n",
    "\n",
    "def subtract(n1, n2):\n",
    "    print(f\"빼기 결과: {n1-n2}\")\n",
    "    \n",
    "def multiply(n1, n2):\n",
    "    print(f\"곱하기 결과: {n1*n2}\")\n",
    "\n",
    "def divide(n1, n2):\n",
    "    print(f\"나누기 결과: {n1/n2}\")\n",
    "\n",
    "num1 = int(input(\"첫번째 숫자를 입력하세요: \"))\n",
    "num2 = int(input(\"두번째 숫자를 입력하세요: \"))\n",
    "\n",
    "add(num1, num2)\n",
    "subtract(num1, num2)\n",
    "multiply(num1, num2)\n",
    "divide(num1, num2)"
   ]
  },
  {
   "cell_type": "markdown",
   "id": "a6e31555",
   "metadata": {},
   "source": [
    "## 미션 3\n",
    "문제 | 계산기 역할을 하는 calculate 함수를 구현하세요.\n",
    "calculate 함수는 매개변수가 3개입니다: operand1, operator, operand2\n",
    "\n",
    "\n",
    "operand1, operand2는 피연산자, operator은 문자열형인 연산자를 의미합니다.\n",
    "\n",
    "operator에 들어가는 인수는 \"+\", \"-\", \"*\", \"/\"입니다.\n",
    "피연산자는 정수 혹은 실수형을 받을 수 있지만, 계산하기 전에는 float로 형변환 하십시오.\n",
    "\n",
    "계산 후 float의 메소드 is_integer()로 결과값을 확인하고, True면 int로 형변환해서 출력, False일 경우 그대로 출력합니다. 최종적으로 calculate 함수는 is_integer 함수의 결과(True/False)를 반환합니다.\n",
    "\n",
    "실행 및 출력 (볼드체: 출력값)\n",
    "print(calculate(10, \"/\", 6))\n",
    "1.6666666666666667\n",
    "False\n",
    "print(calculate(10.2, \"/\", 5.1))\n",
    "2\n",
    "True"
   ]
  },
  {
   "cell_type": "code",
   "execution_count": null,
   "id": "a2ace431",
   "metadata": {},
   "outputs": [],
   "source": [
    "def calculate():\n",
    "    pass\n",
    "\n",
    "### 아래 파트를 남겨둔 채 위의 코드를 작성하세요.\n",
    "print(calculate(10, \"/\", 6))\n",
    "print(calculate(10.2, \"/\", 5.1))"
   ]
  },
  {
   "cell_type": "markdown",
   "id": "b253b4f2",
   "metadata": {},
   "source": [
    "## 미션 4\n",
    "문제 | alphabet_counter 함수를 정의하세요.\n",
    "alphabet_counter는 한 문자열을 인수로 받습니다.\n",
    "\n",
    "alphabet_counter는 문자열에 있는 영문자를 세는 함수입니다.\n",
    "\n",
    "문자열에 있는 대문자가 몇 개 있는지, 소문자가 몇 개 있는지 출력한 뒤, 대문자 수와 소문자 수의 합을 반환합니다.\n",
    "\n",
    "실행 코드\n",
    "print(alphabet_counter(\"Thank God It Is Friday\"))\n",
    "\n",
    "출력\n",
    "Number of uppercase letters: 5\n",
    "Number of lowercase letters: 13\n",
    "18\n",
    "Copy\n",
    "힌트\n",
    "- 문자열의 isupper와 islower 메소드를 사용하세요."
   ]
  },
  {
   "cell_type": "code",
   "execution_count": null,
   "id": "f142b9ee",
   "metadata": {},
   "outputs": [],
   "source": [
    "def alphabet_counter():\n",
    "    pass\n",
    "    \n",
    "### 아래 파트는 남겨둔채 위의 코드를 작성하세요.\n",
    "print(alphabet_counter(\"Thank God It Is Friday\"))"
   ]
  },
  {
   "cell_type": "markdown",
   "id": "b87a8dcd",
   "metadata": {},
   "source": [
    "### 답안"
   ]
  },
  {
   "cell_type": "markdown",
   "id": "f3fbfd21",
   "metadata": {},
   "source": [
    "## 미션 5\n",
    "문제 | deposit(), withdrawal(), atm() 세 개의 함수로 코드가 ATM 역할을 하도록 구현하세요.\n",
    "우선 전역변수 balance(잔고)에 0을 대입시키세요.\n",
    "\n",
    "deposit()은 입금 함수입니다:\n",
    "deposit 함수 안에서 “How much? “ - 얼마를 입금하고 싶은지 물어본 후 balance 변수를 업데이트하고, “Your deposit has been approved.” 문자열을 출력하면 됩니다.\n",
    "\n",
    "withdrawal()은 출금 함수입니다:\n",
    "함수 안에서 먼저 “How much? “ - 얼마를 출금하고 싶은지 물어본 후 금액을 확인해야 합니다.\n",
    "사용자가 출금하고 싶은 금액이 잔액보다 크면 “You have insufficient funds.” 를 출력만 하면 됩니다.\n",
    "출금이 가능하다면 balance 변수를 업데이트한 후 “Your withdrawal has been approved.” 문자열을 출력하면 됩니다.\n",
    "\n",
    "atm()은 메인 ATM 역할을 합니다:\n",
    "무한 반복문을 만든 후 안에 다음의 코드를 작성하세요.\n",
    "input 함수로 유저의 입력값을 확인한 후,\n",
    "빈 문자열이면 반복문을 종료시키고,\n",
    "“w” 면 출금을 진행하고,\n",
    "“d” 면 입금을 진행하고,\n",
    "“c” 면 사용자한테 “Your current balance is #####.” 을 출력해서 잔액을 보여주고,\n",
    "다른 문자열이면 “Unknown command.” 문자열을 출력하세요. 만약 엔터키를 입력하면 반복문을 빠져나와서 atm() 실행을 종료시키도록 하세요.\n",
    "\n",
    "입출력 예시 (볼드체: 프롬프트 및 출력)\n",
    "Deposit(d), withdrawal(w), or balance check(c)? d\n",
    "How much? 10000\n",
    "Your deposit has been approved.\n",
    "Deposit(d), withdrawal(w), or balance check(c)? c\n",
    "Your current balance is 10000.\n",
    "Deposit(d), withdrawal(w), or balance check(c)? w\n",
    "How much? 20000\n",
    "You have insufficient funds.\n",
    "Deposit(d), withdrawal(w), or balance check(c)? c\n",
    "Your current balance is 10000.\n",
    "Deposit(d), withdrawal(w), or balance check(c)? asd\n",
    "Unknown command.\n",
    "Deposit(d), withdrawal(w), or balance check(c)?\n",
    "\n",
    "(종료)\n",
    "힌트\n",
    "- 전역 변수를 함수 내에서 사용하려면 어떻게 해야할 까요?\n",
    "- 출력물에 오타가 없는지 꼼꼼히 살펴보세요."
   ]
  },
  {
   "cell_type": "code",
   "execution_count": null,
   "id": "d947ecfe",
   "metadata": {},
   "outputs": [],
   "source": [
    "def deposit():\n",
    "    pass\n",
    "\n",
    "def withdrawal():\n",
    "    pass\n",
    "\n",
    "def atm():\n",
    "    pass\n",
    "\n",
    "atm()"
   ]
  },
  {
   "cell_type": "markdown",
   "id": "56d0755c",
   "metadata": {},
   "source": [
    "## 미션 6\n",
    "문제 | 자연수 n의 계승을 반환하는 두 함수를 정의하세요.\n",
    "factorial_iterative(n) -> 반복문을 사용해서 계산\n",
    "factorial_recursive(n) -> 재귀로 계산\n",
    "\n",
    "n의 계승을 n!으로도 표현하며, n!의 값은 다음과 똑같습니다.\n",
    "\n",
    "n\n",
    "!\n",
    "=\n",
    "n\n",
    "×\n",
    "(\n",
    "n\n",
    "−\n",
    "1\n",
    ")\n",
    "×\n",
    "(\n",
    "n\n",
    "−\n",
    "2\n",
    ")\n",
    "×\n",
    ".\n",
    ".\n",
    ".\n",
    "×\n",
    "1"
   ]
  },
  {
   "cell_type": "code",
   "execution_count": null,
   "id": "497f1ada",
   "metadata": {},
   "outputs": [],
   "source": [
    "def factorial_iterative():\n",
    "    pass\n",
    "\n",
    "def factorial_recursive(): \n",
    "    pass\n",
    "\n",
    "### 아래 파트는 남겨둔채 위의 코드를 작성하세요.\n",
    "print(factorial_iterative(6))\n",
    "print(factorial_recursive(6))"
   ]
  },
  {
   "cell_type": "markdown",
   "id": "275537ec",
   "metadata": {},
   "source": [
    "## 미션7\n",
    "문제 | 0번째, 1번째 항이 0, 1인 피보나치 수열의 n번째 항을 반환하는 두 함수를 정의하세요.\n",
    "fibonacci_iterative(n) -> 반복문을 사용해서 수열 계산\n",
    "fibonacci_recursive(n) -> 재귀로 수열 계산\n",
    "\n",
    "피보나치 수열의 항은 다음 공식으로 구할 수 있습니다:\n",
    "F\n",
    "(\n",
    "n\n",
    ")\n",
    "=\n",
    "F\n",
    "(\n",
    "n\n",
    "−\n",
    "1\n",
    ")\n",
    "+\n",
    "F\n",
    "(\n",
    "n\n",
    "−\n",
    "2\n",
    ")\n",
    "F\n",
    "(\n",
    "2\n",
    ")\n",
    "=\n",
    "F\n",
    "(\n",
    "1\n",
    ")\n",
    "+\n",
    "F\n",
    "(\n",
    "0\n",
    ")\n",
    "=\n",
    "1\n",
    "+\n",
    "0\n",
    "=\n",
    "1\n",
    "F\n",
    "(\n",
    "3\n",
    ")\n",
    "=\n",
    "F\n",
    "(\n",
    "2\n",
    ")\n",
    "+\n",
    "F\n",
    "(\n",
    "1\n",
    ")\n",
    "=\n",
    "1\n",
    "+\n",
    "1\n",
    "=\n",
    "2\n",
    ".\n",
    ".\n",
    "."
   ]
  },
  {
   "cell_type": "code",
   "execution_count": null,
   "id": "28d2eeea",
   "metadata": {},
   "outputs": [],
   "source": [
    "def fibonacci_iterative(n):\n",
    "    pass\n",
    "\n",
    "def fibonacci_recursive(n):\n",
    "    pass\n",
    "\n",
    "### 아래의 파트는 남겨둔채 위의 코드를 작성하세요.\n",
    "print(fibonacci_iterative(8))\n",
    "print(fibonacci_recursive(8))"
   ]
  }
 ],
 "metadata": {
  "kernelspec": {
   "display_name": "Python 3 (ipykernel)",
   "language": "python",
   "name": "python3"
  },
  "language_info": {
   "codemirror_mode": {
    "name": "ipython",
    "version": 3
   },
   "file_extension": ".py",
   "mimetype": "text/x-python",
   "name": "python",
   "nbconvert_exporter": "python",
   "pygments_lexer": "ipython3",
   "version": "3.9.13"
  }
 },
 "nbformat": 4,
 "nbformat_minor": 5
}

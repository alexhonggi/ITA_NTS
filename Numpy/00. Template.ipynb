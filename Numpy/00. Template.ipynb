{
 "cells": [
  {
   "cell_type": "markdown",
   "id": "a9b0e5ef",
   "metadata": {},
   "source": [
    "- reference :// https://pabloinsente.github.io/intro-numpy-fundamentals"
   ]
  },
  {
   "cell_type": "code",
   "execution_count": 1,
   "id": "32111451",
   "metadata": {},
   "outputs": [],
   "source": [
    "import numpy as np"
   ]
  },
  {
   "cell_type": "markdown",
   "id": "03f4292b",
   "metadata": {},
   "source": [
    "# 2. Array creation alternatives\n",
    "- Numpy array 를 생성하는 다른 3가지 방법을 확인해 보자.\n",
    "\n",
    "1) 다른 파이썬 데이터 구조로부터 생성\n",
    "2) Numpy 자체 생성 메서드\n",
    "3) 특수 라이브러리 함수"
   ]
  },
  {
   "cell_type": "markdown",
   "id": "430972de",
   "metadata": {},
   "source": [
    "## 1. 다른 파이썬 데이터 구조로부터 생성"
   ]
  },
  {
   "cell_type": "code",
   "execution_count": 2,
   "id": "49567598",
   "metadata": {},
   "outputs": [],
   "source": [
    "array_list = np.array([1, 2, 3])\n",
    "array_tuple = np.array(((1, 2, 3), (4, 5, 6)))\n",
    "array_set = np.array({\"pikachu\", \"snorlax\", \"charizard\"})"
   ]
  },
  {
   "cell_type": "markdown",
   "id": "3754d4f9",
   "metadata": {},
   "source": [
    "## 2. Numpy 자체 생성 메서드"
   ]
  },
  {
   "cell_type": "code",
   "execution_count": null,
   "id": "7d04d221",
   "metadata": {},
   "outputs": [],
   "source": []
  },
  {
   "cell_type": "markdown",
   "id": "f8036eaa",
   "metadata": {},
   "source": [
    "## 3. 특수 라이브러리 함수"
   ]
  },
  {
   "cell_type": "code",
   "execution_count": null,
   "id": "34f04dbe",
   "metadata": {},
   "outputs": [],
   "source": []
  },
  {
   "cell_type": "markdown",
   "id": "f6c02582",
   "metadata": {},
   "source": [
    "## 실습해 보기"
   ]
  },
  {
   "cell_type": "markdown",
   "id": "8d6bc133",
   "metadata": {},
   "source": [
    "#### 1. 다음 조건을 만족하는 ndarray 를 생성하라.\n",
    "- 모두 0이고 형태는 (2,3)\n",
    "- 모두 1이고 형태는 (10,)\n",
    "- 모두 3.0 이고 형태는 (3,2,3)\n",
    "- 0부터 1사이의 100개의 원소를 갖음"
   ]
  },
  {
   "cell_type": "code",
   "execution_count": null,
   "id": "ce9a28ba",
   "metadata": {
    "scrolled": true
   },
   "outputs": [],
   "source": []
  }
 ],
 "metadata": {
  "kernelspec": {
   "display_name": "Python 3 (ipykernel)",
   "language": "python",
   "name": "python3"
  },
  "language_info": {
   "codemirror_mode": {
    "name": "ipython",
    "version": 3
   },
   "file_extension": ".py",
   "mimetype": "text/x-python",
   "name": "python",
   "nbconvert_exporter": "python",
   "pygments_lexer": "ipython3",
   "version": "3.10.9"
  }
 },
 "nbformat": 4,
 "nbformat_minor": 5
}

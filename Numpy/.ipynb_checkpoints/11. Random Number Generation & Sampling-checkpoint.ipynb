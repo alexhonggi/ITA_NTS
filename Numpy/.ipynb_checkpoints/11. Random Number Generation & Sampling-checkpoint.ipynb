{
 "cells": [
  {
   "cell_type": "markdown",
   "metadata": {},
   "source": [
    "- reference :// https://pabloinsente.github.io/intro-numpy-fundamentals"
   ]
  },
  {
   "cell_type": "code",
   "execution_count": 5,
   "metadata": {},
   "outputs": [],
   "source": [
    "import numpy as np"
   ]
  },
  {
   "cell_type": "markdown",
   "metadata": {},
   "source": [
    "# 11. Random Number Generation & Sampling\n",
    "- Random Sampling 방법을 알아보자.\n",
    "\n",
    "1) Random Sampling updated  \n",
    "2) Basic Random Sampling  \n",
    "3) Seed for reproducibility  \n",
    "4) Histogram"
   ]
  },
  {
   "cell_type": "markdown",
   "metadata": {},
   "source": [
    "## 1. Random Sampling updated\n",
    "- Numpy 1.17.0 부터 새로운 Random Generator 사용 권고\n",
    "- 하지만, 우리는 익숙한 np.random 으로 실습"
   ]
  },
  {
   "cell_type": "code",
   "execution_count": 2,
   "metadata": {},
   "outputs": [],
   "source": [
    "from numpy import random\n",
    "random_numbers = random.standard_normal(10)"
   ]
  },
  {
   "cell_type": "code",
   "execution_count": 3,
   "metadata": {},
   "outputs": [
    {
     "name": "stdout",
     "output_type": "stream",
     "text": [
      "Random numbers sequence sampled from a normal distributon:\n",
      "[ 0.75728664  0.93120275 -0.27273094 -0.29903819  1.50452812]\n"
     ]
    }
   ],
   "source": [
    "from numpy.random import default_rng\n",
    "rng = default_rng()\n",
    "random_numbers = rng.standard_normal(5)\n",
    "print(f'Random numbers sequence sampled from a normal distributon:\\n{random_numbers}')"
   ]
  },
  {
   "cell_type": "markdown",
   "metadata": {},
   "source": [
    "## 2. Basic Random Sampling\n",
    "- 1) random.randint : 정수를 추출\n",
    "- 2) random.random : (0, 1) 사이의 난수를 추출\n",
    "- 3) random.choice : 지정한 1D-array 에서 추출"
   ]
  },
  {
   "cell_type": "markdown",
   "metadata": {},
   "source": [
    "**random.integers**"
   ]
  },
  {
   "cell_type": "code",
   "execution_count": 12,
   "metadata": {
    "scrolled": false
   },
   "outputs": [
    {
     "name": "stdout",
     "output_type": "stream",
     "text": [
      "A random integer between [1, 10) (10 non-inclusive): \n",
      "5\n",
      "\n",
      "5 random integers between [1, 10) (10 non-inclusive): \n",
      "[6 9 6 4 0]\n",
      "\n",
      "\n"
     ]
    }
   ],
   "source": [
    "print(f'A random integer between [1, 10) (10 non-inclusive): \\n{random.randint(10)}\\n')\n",
    "print(f'5 random integers between [1, 10) (10 non-inclusive): \\n{random.randint(10, size=5)}\\n\\n')"
   ]
  },
  {
   "cell_type": "markdown",
   "metadata": {},
   "source": [
    "**random.random**"
   ]
  },
  {
   "cell_type": "code",
   "execution_count": 13,
   "metadata": {
    "scrolled": false
   },
   "outputs": [
    {
     "name": "stdout",
     "output_type": "stream",
     "text": [
      "A random float between [0.0, 1.0) (1.0 non-inclusive): \n",
      "0.1378563627534981\n",
      "\n",
      "3 random floats between [0.0, 1.0) (1.0 non-inclusive): \n",
      "[0.16634083 0.62605792 0.34907512]\n",
      "\n",
      "3,3 random floats between [0.0, 1.0) (1.0 non-inclusive): \n",
      "[[0.02873724 0.49355953 0.34679287]\n",
      " [0.77693087 0.72148605 0.71322907]\n",
      " [0.12153098 0.50833999 0.80341745]]\n",
      "\n",
      "3,3,3 random floats between [0.0, 1.0) (1.0 non-inclusive): \n",
      "[[[0.09324753 0.31962024 0.83498726]\n",
      "  [0.43701823 0.37714193 0.47378762]\n",
      "  [0.63738869 0.15150737 0.88031174]]\n",
      "\n",
      " [[0.05750416 0.7367558  0.2696688 ]\n",
      "  [0.06630556 0.23923458 0.62738935]\n",
      "  [0.88682245 0.20725957 0.82942964]]\n",
      "\n",
      " [[0.28807834 0.59052019 0.84608679]\n",
      "  [0.7923193  0.36264591 0.71616654]\n",
      "  [0.70812785 0.31029015 0.64858334]]]\n",
      "\n"
     ]
    }
   ],
   "source": [
    "print(f'A random float between [0.0, 1.0) (1.0 non-inclusive): \\n{random.random()}\\n')\n",
    "print(f'3 random floats between [0.0, 1.0) (1.0 non-inclusive): \\n{random.random((3,))}\\n')\n",
    "print(f'3,3 random floats between [0.0, 1.0) (1.0 non-inclusive): \\n{random.random((3,3))}\\n')\n",
    "print(f'3,3,3 random floats between [0.0, 1.0) (1.0 non-inclusive): \\n{random.random((3,3,3))}\\n')"
   ]
  },
  {
   "cell_type": "markdown",
   "metadata": {},
   "source": [
    "**random.choice**"
   ]
  },
  {
   "cell_type": "code",
   "execution_count": 14,
   "metadata": {},
   "outputs": [
    {
     "name": "stdout",
     "output_type": "stream",
     "text": [
      "A random number from an array [1, 10] (inclusive): \n",
      "3\n",
      "\n",
      "5 random numbers from an array [1, 10] (inclusive): \n",
      "[2 3 5 5 6]\n",
      "\n",
      "\n"
     ]
    }
   ],
   "source": [
    "print(f'A random number from an array [1, 10] (inclusive): \\n{random.choice(np.arange(10))}\\n')\n",
    "print(f'5 random numbers from an array [1, 10] (inclusive): \\n{random.choice(np.arange(10), 5)}\\n\\n')"
   ]
  },
  {
   "cell_type": "code",
   "execution_count": 7,
   "metadata": {},
   "outputs": [
    {
     "name": "stdout",
     "output_type": "stream",
     "text": [
      "p인자로 각 원소에 추출 확률을 지정할 수도 있다. ex) 불공정한 주사위\n",
      "random.choice(np.arange(10), 5, p=[0.1, 0, 0, 0.1, 0, 0.1, 0.2, 0, 0, 0.5]): \n",
      "[3 9 0 9 9]\n",
      "\n",
      "\n",
      "이전 예제는 복원추출. 비복원추출로 할 수도 있다.:\n",
      "random.choice(np.arange(10), 5, replace=False): \n",
      "[4 5 6 1 0]\n",
      "\n",
      "\n"
     ]
    }
   ],
   "source": [
    "print(\"p인자로 각 원소에 추출 확률을 지정할 수도 있다. ex) 불공정한 주사위\")\n",
    "print(f'random.choice(np.arange(10), 5, p=[0.1, 0, 0, 0.1, 0, 0.1, 0.2, 0, 0, 0.5]): \\n{random.choice(np.arange(10), 5, p=[0.1, 0, 0, 0.1, 0, 0.1, 0.2, 0, 0, 0.5])}\\n\\n')\n",
    "\n",
    "print(\"이전 예제는 복원추출. 비복원추출로 할 수도 있다.:\")\n",
    "print(f'random.choice(np.arange(10), 5, replace=False): \\n{random.choice(np.arange(10), 5, replace=False)}\\n\\n')"
   ]
  },
  {
   "cell_type": "markdown",
   "metadata": {},
   "source": [
    "## 3. Seed for reproducibility"
   ]
  },
  {
   "cell_type": "code",
   "execution_count": 18,
   "metadata": {},
   "outputs": [
    {
     "name": "stdout",
     "output_type": "stream",
     "text": [
      "[1 1 4 4 3]\n",
      "[4 1 2 4 1]\n",
      "[3 3 1 1 1]\n"
     ]
    }
   ],
   "source": [
    "random.seed(9320) \n",
    "\n",
    "print(f'{random.randint(5, size=5)}')\n",
    "print(f'{random.randint(5, size=5)}')\n",
    "print(f'{random.randint(5, size=5)}')"
   ]
  },
  {
   "cell_type": "code",
   "execution_count": 20,
   "metadata": {},
   "outputs": [
    {
     "name": "stdout",
     "output_type": "stream",
     "text": [
      "Numbers are the same as in the example above:\n",
      "[1 1 4 4 3]\n",
      "[4 1 2 4 1]\n",
      "[3 3 1 1 1]\n"
     ]
    }
   ],
   "source": [
    "random.seed(9320)\n",
    "\n",
    "print(\"Numbers are the same as in the example above:\")\n",
    "print(f'{random.randint(5, size=5)}')\n",
    "print(f'{random.randint(5, size=5)}')\n",
    "print(f'{random.randint(5, size=5)}')"
   ]
  },
  {
   "cell_type": "code",
   "execution_count": 21,
   "metadata": {
    "scrolled": true
   },
   "outputs": [
    {
     "name": "stdout",
     "output_type": "stream",
     "text": [
      "Numbers are the same as in the example above:\n",
      "[0 0 3 0 2]\n",
      "[4 2 2 2 2]\n",
      "[1 0 0 4 3]\n"
     ]
    }
   ],
   "source": [
    "random.seed(100)\n",
    "\n",
    "print(\"Numbers are the same as in the example above:\")\n",
    "print(f'{random.randint(5, size=5)}')\n",
    "print(f'{random.randint(5, size=5)}')\n",
    "print(f'{random.randint(5, size=5)}')"
   ]
  },
  {
   "cell_type": "markdown",
   "metadata": {},
   "source": [
    "## 4. Histogram"
   ]
  },
  {
   "cell_type": "code",
   "execution_count": 16,
   "metadata": {},
   "outputs": [],
   "source": [
    "array = np.arange(10)\n",
    "data = np.random.choice(10, size=100)\n",
    "hist_1 = np.histogram(data)\n",
    "hist_2 = np.histogram(data, bins=np.arange(10))"
   ]
  },
  {
   "cell_type": "markdown",
   "metadata": {},
   "source": [
    "## 실습해 보기"
   ]
  },
  {
   "cell_type": "markdown",
   "metadata": {},
   "source": [
    "#### 1. random.randint 를 사용하여 1~45 사이의 6개 숫자를 생성하라."
   ]
  },
  {
   "cell_type": "code",
   "execution_count": null,
   "metadata": {},
   "outputs": [],
   "source": []
  },
  {
   "cell_type": "markdown",
   "metadata": {},
   "source": [
    "#### 2. random.choice 를 사용하여 1~45 사이의 6개의 숫자를 생성하라."
   ]
  },
  {
   "cell_type": "code",
   "execution_count": null,
   "metadata": {},
   "outputs": [],
   "source": []
  },
  {
   "cell_type": "markdown",
   "metadata": {},
   "source": [
    "#### 3. random.random 를 사용하여 2x3 매트릭스를 생성하라."
   ]
  },
  {
   "cell_type": "code",
   "execution_count": null,
   "metadata": {},
   "outputs": [],
   "source": []
  }
 ],
 "metadata": {
  "kernelspec": {
   "display_name": "Python 3",
   "language": "python",
   "name": "python3"
  },
  "language_info": {
   "codemirror_mode": {
    "name": "ipython",
    "version": 3
   },
   "file_extension": ".py",
   "mimetype": "text/x-python",
   "name": "python",
   "nbconvert_exporter": "python",
   "pygments_lexer": "ipython3",
   "version": "3.8.5"
  }
 },
 "nbformat": 4,
 "nbformat_minor": 5
}

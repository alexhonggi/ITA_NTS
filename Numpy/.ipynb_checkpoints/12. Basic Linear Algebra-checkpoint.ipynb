{
 "cells": [
  {
   "cell_type": "markdown",
   "metadata": {},
   "source": [
    "- reference :// https://pabloinsente.github.io/intro-numpy-fundamentals"
   ]
  },
  {
   "cell_type": "code",
   "execution_count": 1,
   "metadata": {},
   "outputs": [],
   "source": [
    "import numpy as np"
   ]
  },
  {
   "cell_type": "markdown",
   "metadata": {},
   "source": [
    "# 11. Basic Linear Algebra\n",
    "- Numpy array 를 생성하는 다른 3가지 방법을 확인해 보자.\n",
    "\n",
    "1) Basic Vector operations  \n",
    "2) Basic Matrix operations  \n",
    "3) Eigendecomposition  \n",
    "4) Singular Value Decomposition"
   ]
  },
  {
   "cell_type": "markdown",
   "metadata": {},
   "source": [
    "## 1. Basic Vector operations"
   ]
  },
  {
   "cell_type": "code",
   "execution_count": 2,
   "metadata": {},
   "outputs": [
    {
     "name": "stdout",
     "output_type": "stream",
     "text": [
      "Vector x: [0 1 2], vector y: [4 5 6]\n",
      "\n",
      "Vector addition: [4 6 8]\n",
      "\n",
      "Vector scalar-multiplication: [0 2 4]\n",
      "\n",
      "Linear combinations of vectors: [12 17 22]\n",
      "\n",
      "Vector-vector multiplication: dot product: 17\n",
      "\n"
     ]
    }
   ],
   "source": [
    "x, y = np.arange(3), np.arange(4,7)\n",
    "alpha, beta = 2, 3\n",
    "\n",
    "print(f\"Vector x: {x}, vector y: {y}\\n\")\n",
    "print(f\"Vector addition: {x + y}\\n\")\n",
    "print(f\"Vector scalar-multiplication: {x * alpha}\\n\")\n",
    "print(f\"Linear combinations of vectors: {x*alpha + y*beta}\\n\")\n",
    "print(f\"Vector-vector multiplication: dot product: {x @ y}\\n\")"
   ]
  },
  {
   "cell_type": "markdown",
   "metadata": {},
   "source": [
    "## 2. Basic Matrix operations"
   ]
  },
  {
   "cell_type": "code",
   "execution_count": 3,
   "metadata": {},
   "outputs": [
    {
     "name": "stdout",
     "output_type": "stream",
     "text": [
      "Matrix A:\n",
      "[[1 2 3]\n",
      " [4 5 6]\n",
      " [7 8 9]]\n",
      "\n",
      "Matrix B:\n",
      "[[11 12 13]\n",
      " [14 15 16]\n",
      " [17 18 19]]\n",
      "\n",
      "Matrix-matrix addition:\n",
      "[[12 14 16]\n",
      " [18 20 22]\n",
      " [24 26 28]]\n",
      "\n",
      "Matrix-scalar multiplication:\n",
      "[[ 2  4  6]\n",
      " [ 8 10 12]\n",
      " [14 16 18]]\n",
      "\n",
      "Matrix-vector multiplication: dot product:\n",
      "[ 8 17 26]\n",
      "\n",
      "Matrix-matrix multiplication: dot product:\n",
      "[[ 90  96 102]\n",
      " [216 231 246]\n",
      " [342 366 390]]\n",
      "\n",
      "Matrix inverse:\n",
      "[[-2.68656530e-03 -2.69082213e-01  2.75239610e+00]\n",
      " [ 1.27967199e+00  5.17421138e-02 -1.39812051e+00]\n",
      " [-4.38859126e-01  1.29311766e+00 -1.58681274e+00]]\n",
      "\n",
      "Matrix transpose:\n",
      "[[1 4 7]\n",
      " [2 5 8]\n",
      " [3 6 9]]\n",
      "\n",
      "Hadamard product: \n",
      "[[ 11  24  39]\n",
      " [ 56  75  96]\n",
      " [119 144 171]]\n"
     ]
    }
   ],
   "source": [
    "A, B, C = np.arange(1, 10).reshape(3,3), np.arange(11, 20).reshape(3,3), np.random.rand(3,3)\n",
    "\n",
    "print(f\"Matrix A:\\n{A}\\n\")\n",
    "print(f\"Matrix B:\\n{B}\\n\")\n",
    "print(f\"Matrix-matrix addition:\\n{A+B}\\n\")\n",
    "print(f\"Matrix-scalar multiplication:\\n{A*alpha}\\n\")\n",
    "print(f\"Matrix-vector multiplication: dot product:\\n{A @ x}\\n\")\n",
    "print(f\"Matrix-matrix multiplication: dot product:\\n{A @ B}\\n\")\n",
    "print(f\"Matrix inverse:\\n{np.linalg.inv(C)}\\n\")\n",
    "print(f\"Matrix transpose:\\n{A.T}\\n\")\n",
    "print(f\"Hadamard product: \\n{A * B}\")"
   ]
  },
  {
   "cell_type": "markdown",
   "metadata": {},
   "source": [
    "## 3. Eigendecomposition"
   ]
  },
  {
   "cell_type": "code",
   "execution_count": 4,
   "metadata": {},
   "outputs": [
    {
     "name": "stdout",
     "output_type": "stream",
     "text": [
      "Matrix eigenvalues:\n",
      "[ 1.29748412+0.j         -0.22804747+0.38153387j -0.22804747-0.38153387j]\n",
      "\n",
      "Matrix eigenvectors:\n",
      "[[ 0.67111337+0.j         -0.62251672+0.j         -0.62251672-0.j        ]\n",
      " [ 0.69553932+0.j          0.49674585-0.32602643j  0.49674585+0.32602643j]\n",
      " [ 0.25657728+0.j          0.30901315+0.40488781j  0.30901315-0.40488781j]]\n"
     ]
    }
   ],
   "source": [
    "eigen_values, eigen_vectors = np.linalg.eig(C)\n",
    "print(f\"Matrix eigenvalues:\\n{eigen_values}\\n\\nMatrix eigenvectors:\\n{eigen_vectors}\")"
   ]
  },
  {
   "cell_type": "markdown",
   "metadata": {},
   "source": [
    "## 4. Singular Value Decomposition"
   ]
  },
  {
   "cell_type": "code",
   "execution_count": 5,
   "metadata": {},
   "outputs": [
    {
     "name": "stdout",
     "output_type": "stream",
     "text": [
      "Left orthogonal matrix C:\n",
      "[[-0.53 -0.85  0.09]\n",
      " [-0.81  0.53  0.24]\n",
      " [-0.25  0.06 -0.97]]\n",
      "\n",
      "Singular values diagonal matrix C:\n",
      "[1.37 0.67 0.28]\n",
      "\n",
      "Right orthogonal matrix C:\n",
      "[[-0.65 -0.5  -0.57]\n",
      " [ 0.02 -0.76  0.65]\n",
      " [-0.76  0.41  0.51]]\n"
     ]
    }
   ],
   "source": [
    "U, S, T = np.linalg.svd(C)\n",
    "\n",
    "print(f'Left orthogonal matrix C:\\n{np.round(U, 2)}\\n')\n",
    "print(f'Singular values diagonal matrix C:\\n{np.round(S, 2)}\\n')\n",
    "print(f'Right orthogonal matrix C:\\n{np.round(T, 2)}')"
   ]
  },
  {
   "cell_type": "markdown",
   "metadata": {},
   "source": [
    "## 실습해 보기"
   ]
  },
  {
   "cell_type": "markdown",
   "metadata": {},
   "source": [
    "#### 1. 다음 2개 array 의 dot_product 를 구해보자.\n",
    "- a = np.ones((3,4))\n",
    "- b = np.arange(1,9).reshape(4,2)\n",
    "- c = a 와 b 의 dot product"
   ]
  },
  {
   "cell_type": "code",
   "execution_count": null,
   "metadata": {},
   "outputs": [],
   "source": []
  }
 ],
 "metadata": {
  "kernelspec": {
   "display_name": "Python 3",
   "language": "python",
   "name": "python3"
  },
  "language_info": {
   "codemirror_mode": {
    "name": "ipython",
    "version": 3
   },
   "file_extension": ".py",
   "mimetype": "text/x-python",
   "name": "python",
   "nbconvert_exporter": "python",
   "pygments_lexer": "ipython3",
   "version": "3.8.5"
  }
 },
 "nbformat": 4,
 "nbformat_minor": 5
}

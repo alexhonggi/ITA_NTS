{
 "cells": [
  {
   "cell_type": "markdown",
   "metadata": {},
   "source": [
    "- reference :// https://pabloinsente.github.io/intro-numpy-fundamentals"
   ]
  },
  {
   "cell_type": "code",
   "execution_count": 1,
   "metadata": {},
   "outputs": [],
   "source": [
    "import numpy as np"
   ]
  },
  {
   "cell_type": "markdown",
   "metadata": {},
   "source": [
    "# 1. Numpy array 기본"
   ]
  },
  {
   "cell_type": "markdown",
   "metadata": {},
   "source": [
    "- '[', ']' 에 유의하여 차원에 맞는 ndarray 생성하기"
   ]
  },
  {
   "cell_type": "code",
   "execution_count": 2,
   "metadata": {},
   "outputs": [],
   "source": [
    "# 1 axis/dimensions array\n",
    "one_dim=  np.array([1, 2, 3]) \n",
    "\n",
    "# 2 axis/dimensions array\n",
    "two_dim_1=  np.array([[1, 2, 3]]) \n",
    "\n",
    "# 2 axis/dimensions array\n",
    "two_dim_2= np.array([[1, 2, 3],\n",
    "                     [4, 5, 6]])\n",
    " \n",
    "# 3 axis/dimensions array\n",
    "three_dim =  np.array([[[1, 2, 3], \n",
    "                        [4, 5, 6]],\n",
    "                       [[1, 2, 3],\n",
    "                        [4, 5, 6]]]) "
   ]
  },
  {
   "cell_type": "code",
   "execution_count": 3,
   "metadata": {
    "scrolled": true
   },
   "outputs": [
    {
     "name": "stdout",
     "output_type": "stream",
     "text": [
      "3개의 원소를 갖는 1차원 array:\n",
      "[1 2 3]\n",
      "\n",
      "1개 행과 3개 열을 갖는 2차원 array:\n",
      "[[1 2 3]]\n",
      "\n",
      "2개 행과 3개 열을 갖는 3차원 array:\n",
      "[[1 2 3]\n",
      " [4 5 6]]\n",
      "\n",
      "3차원 array:\n",
      "[[[1 2 3]\n",
      "  [4 5 6]]\n",
      "\n",
      " [[1 2 3]\n",
      "  [4 5 6]]]\n"
     ]
    }
   ],
   "source": [
    "print(f'3개의 원소를 갖는 1차원 array:\\n{one_dim}\\n')\n",
    "print(f'1개 행과 3개 열을 갖는 2차원 array:\\n{two_dim_1}\\n')\n",
    "print(f'2개 행과 3개 열을 갖는 3차원 array:\\n{two_dim_2}\\n')\n",
    "print(f'3차원 array:\\n{three_dim}')"
   ]
  },
  {
   "cell_type": "markdown",
   "metadata": {},
   "source": [
    "- 차원 확인 : ndim"
   ]
  },
  {
   "cell_type": "code",
   "execution_count": 4,
   "metadata": {
    "scrolled": true
   },
   "outputs": [
    {
     "name": "stdout",
     "output_type": "stream",
     "text": [
      "Number of dimensions array one: 1\n",
      "Number of dimensions array two-1: 2\n",
      "Number of dimensions array two-2: 2\n",
      "Number of dimensions array three: 3\n"
     ]
    }
   ],
   "source": [
    "print(f'Number of dimensions array one: {one_dim.ndim}')\n",
    "print(f'Number of dimensions array two-1: {two_dim_1.ndim}')\n",
    "print(f'Number of dimensions array two-2: {two_dim_2.ndim}')\n",
    "print(f'Number of dimensions array three: {three_dim.ndim}')"
   ]
  },
  {
   "cell_type": "markdown",
   "metadata": {},
   "source": [
    "- 차원별 원소의 개수 확인 : shape"
   ]
  },
  {
   "cell_type": "code",
   "execution_count": 5,
   "metadata": {
    "scrolled": true
   },
   "outputs": [
    {
     "name": "stdout",
     "output_type": "stream",
     "text": [
      "Shape array one: (3,)\n",
      "Shape array two-1: (1, 3)\n",
      "Shape array two-2: (2, 3)\n",
      "Shape array three: (2, 2, 3)\n"
     ]
    }
   ],
   "source": [
    "print(f'Shape array one: {one_dim.shape}')\n",
    "print(f'Shape array two-1: {two_dim_1.shape}')\n",
    "print(f'Shape array two-2: {two_dim_2.shape}')\n",
    "print(f'Shape array three: {three_dim.shape}')"
   ]
  },
  {
   "cell_type": "markdown",
   "metadata": {},
   "source": [
    "- 각 array 의 전체 원소의 개수 확인하기 : size"
   ]
  },
  {
   "cell_type": "code",
   "execution_count": 6,
   "metadata": {},
   "outputs": [
    {
     "name": "stdout",
     "output_type": "stream",
     "text": [
      "Number of elements array one:3\n",
      "Number of elements array two-1:3\n",
      "Number of elements array two-2:6\n",
      "Number of elements array three:12\n"
     ]
    }
   ],
   "source": [
    "print(f'Number of elements array one:{one_dim.size}')\n",
    "print(f'Number of elements array two-1:{two_dim_1.size}')\n",
    "print(f'Number of elements array two-2:{two_dim_2.size}')\n",
    "print(f'Number of elements array three:{three_dim.size}')"
   ]
  },
  {
   "cell_type": "code",
   "execution_count": null,
   "metadata": {},
   "outputs": [],
   "source": []
  },
  {
   "cell_type": "markdown",
   "metadata": {},
   "source": [
    "## 실습해 보기"
   ]
  },
  {
   "cell_type": "markdown",
   "metadata": {},
   "source": [
    "#### 1. 다음과 같은 ndarray 를 array 메서드를 통해 생성해 보자.\n",
    "\n",
    "1차원 :   \n",
    "[1 1 2]\n",
    "\n",
    "2차원:  \n",
    "[[1 1 2]  \n",
    " [1 1 4]]\n",
    "\n",
    "3차원:  \n",
    "[[[1 1 2]  \n",
    "  [1 1 4]]  \n",
    " [[0 0 1]  \n",
    "  [0 0 1]]]"
   ]
  },
  {
   "cell_type": "code",
   "execution_count": null,
   "metadata": {},
   "outputs": [],
   "source": []
  },
  {
   "cell_type": "markdown",
   "metadata": {},
   "source": [
    "#### 2. 다음 a array 의 차원, 형태, 사이즈를 확인해 보자.\n",
    "- 코드로 확인하기 전에 머리속에 답을 먼저 생각해 보자.\n",
    "\n",
    "a = np.array([[[1,2],[3,4]],[[5,6],[7,8]],[[9,10],[11,12]]])"
   ]
  },
  {
   "cell_type": "code",
   "execution_count": null,
   "metadata": {},
   "outputs": [],
   "source": []
  }
 ],
 "metadata": {
  "kernelspec": {
   "display_name": "Python 3",
   "language": "python",
   "name": "python3"
  },
  "language_info": {
   "codemirror_mode": {
    "name": "ipython",
    "version": 3
   },
   "file_extension": ".py",
   "mimetype": "text/x-python",
   "name": "python",
   "nbconvert_exporter": "python",
   "pygments_lexer": "ipython3",
   "version": "3.8.5"
  }
 },
 "nbformat": 4,
 "nbformat_minor": 5
}

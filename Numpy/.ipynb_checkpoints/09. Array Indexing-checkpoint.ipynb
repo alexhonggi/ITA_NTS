{
 "cells": [
  {
   "cell_type": "markdown",
   "metadata": {},
   "source": [
    "- reference :// https://pabloinsente.github.io/intro-numpy-fundamentals"
   ]
  },
  {
   "cell_type": "code",
   "execution_count": 1,
   "metadata": {},
   "outputs": [],
   "source": [
    "import numpy as np"
   ]
  },
  {
   "cell_type": "markdown",
   "metadata": {},
   "source": [
    "# 9. Array Indexing\n",
    "- Numpy array 를 Indexing 하는 다양한 방법을 알아보자.\n",
    "\n",
    "1) 1차원 array Indexing  \n",
    "2) 2차원 array Indexing  \n",
    "3) Indexing and Assignment  \n",
    "4) Boolean(Masking) Indexing"
   ]
  },
  {
   "cell_type": "markdown",
   "metadata": {},
   "source": [
    "## 1. 1차원 array Indexing"
   ]
  },
  {
   "cell_type": "code",
   "execution_count": 22,
   "metadata": {},
   "outputs": [
    {
     "name": "stdout",
     "output_type": "stream",
     "text": [
      "array_one: [ 1  2  3  4  5  6  7  8  9 10]\n",
      "array_one.ndim:1,array_one.shape:(10,)\n"
     ]
    }
   ],
   "source": [
    "array_one = np.arange(1,11)\n",
    "\n",
    "print(f'array_one: {array_one}')\n",
    "print(f'array_one.ndim:{array_one.ndim},array_one.shape:{array_one.shape}')"
   ]
  },
  {
   "cell_type": "code",
   "execution_count": 3,
   "metadata": {
    "scrolled": true
   },
   "outputs": [
    {
     "name": "stdout",
     "output_type": "stream",
     "text": [
      "array_one[0]: 1\n",
      "array_one[5]: 6\n",
      "array_one[9]: 10\n",
      "array_one[-5]: 6\n",
      "array_one[-1]: 10\n"
     ]
    }
   ],
   "source": [
    "print(f'array_one[0]: {array_one[0]}')\n",
    "print(f'array_one[5]: {array_one[5]}')\n",
    "print(f'array_one[9]: {array_one[9]}')\n",
    "print(f'array_one[-5]: {array_one[-5]}')\n",
    "print(f'array_one[-1]: {array_one[-1]}')"
   ]
  },
  {
   "cell_type": "markdown",
   "metadata": {},
   "source": [
    "**Slicing 1D-array**\n",
    "- [included:not-included)"
   ]
  },
  {
   "cell_type": "code",
   "execution_count": 4,
   "metadata": {
    "scrolled": true
   },
   "outputs": [
    {
     "name": "stdout",
     "output_type": "stream",
     "text": [
      "array_one[0:3]: [1 2 3]\n",
      "array_one[5:9]: [6 7 8 9]\n",
      "array_one[-9:-5]: [2 3 4 5]\n",
      "array_one[-3:-1]: [8 9]\n",
      "array_one[3:-1]: [4 5 6 7 8 9]\n"
     ]
    }
   ],
   "source": [
    "print(f'array_one[0:3]: {array_one[0:3]}')\n",
    "print(f'array_one[5:9]: {array_one[5:9]}')\n",
    "print(f'array_one[-9:-5]: {array_one[-9:-5]}')\n",
    "print(f'array_one[-3:-1]: {array_one[-3:-1]}')\n",
    "print(f'array_one[3:-1]: {array_one[3:-1]}')"
   ]
  },
  {
   "cell_type": "markdown",
   "metadata": {},
   "source": [
    "**Slicing 1D-array**\n",
    "- with stride"
   ]
  },
  {
   "cell_type": "code",
   "execution_count": 5,
   "metadata": {},
   "outputs": [
    {
     "name": "stdout",
     "output_type": "stream",
     "text": [
      "array_one[0:6:1]: [1 2 3 4 5 6]\n",
      "array_one[0:6:2]: [1 3 5]\n",
      "array_one[-6:-1:3]: [5 8]\n"
     ]
    }
   ],
   "source": [
    "print(f'array_one[0:6:1]: {array_one[0:6:1]}')\n",
    "print(f'array_one[0:6:2]: {array_one[0:6:2]}')\n",
    "print(f'array_one[-6:-1:3]: {array_one[-6:-1:3]}')"
   ]
  },
  {
   "cell_type": "markdown",
   "metadata": {},
   "source": [
    "## 2. 2차원 array Indexing\n",
    "- 1) [,] 방식 -> view\n",
    "- 2) [][] 방식 -> copy"
   ]
  },
  {
   "cell_type": "code",
   "execution_count": 25,
   "metadata": {
    "scrolled": false
   },
   "outputs": [
    {
     "name": "stdout",
     "output_type": "stream",
     "text": [
      "array_two: \n",
      "[[1 2 3]\n",
      " [4 5 6]\n",
      " [7 8 9]]\n",
      "\n",
      "array_two.ndim:2,array_two.shape:(3, 3)\n",
      "\n",
      "\n",
      "\n",
      "array_three: \n",
      "[[[1 2]\n",
      "  [3 4]]\n",
      "\n",
      " [[5 6]\n",
      "  [7 8]]]\n",
      "\n",
      "array_three.ndim:3,array_three.shape:(2, 2, 2)\n"
     ]
    }
   ],
   "source": [
    "array_two = np.arange(1,10).reshape((3,3))\n",
    "array_three = np.arange(1,9).reshape((2,2,2))\n",
    "\n",
    "print(f'array_two: \\n{array_two}\\n')\n",
    "print(f'array_two.ndim:{array_two.ndim},array_two.shape:{array_two.shape}')\n",
    "print(\"\\n\\n\")\n",
    "print(f'array_three: \\n{array_three}\\n')\n",
    "print(f'array_three.ndim:{array_three.ndim},array_three.shape:{array_three.shape}')"
   ]
  },
  {
   "cell_type": "markdown",
   "metadata": {},
   "source": [
    "**1) [,] 방식 -> view**"
   ]
  },
  {
   "cell_type": "code",
   "execution_count": 7,
   "metadata": {},
   "outputs": [
    {
     "name": "stdout",
     "output_type": "stream",
     "text": [
      "array_two[1,1]: 5\n",
      "array_two[0,2]: 3\n",
      "array_two[-1,-3]: 7\n"
     ]
    }
   ],
   "source": [
    "print(f'array_two[1,1]: {array_two[1,1]}')\n",
    "print(f'array_two[0,2]: {array_two[0,2]}')\n",
    "print(f'array_two[-1,-3]: {array_two[-1,-3]}')"
   ]
  },
  {
   "cell_type": "markdown",
   "metadata": {},
   "source": [
    "**2) [][] 방식 -> copy**"
   ]
  },
  {
   "cell_type": "code",
   "execution_count": 8,
   "metadata": {
    "scrolled": true
   },
   "outputs": [
    {
     "name": "stdout",
     "output_type": "stream",
     "text": [
      "array_two[1][1]: 5\n",
      "array_two[0][2]: 3\n",
      "array_two[-1][-3]: 7\n"
     ]
    }
   ],
   "source": [
    "print(f'array_two[1][1]: {array_two[1][1]}')\n",
    "print(f'array_two[0][2]: {array_two[0][2]}')\n",
    "print(f'array_two[-1][-3]: {array_two[-1][-3]}')"
   ]
  },
  {
   "cell_type": "markdown",
   "metadata": {},
   "source": [
    "**Slicing 2D arrays**\n",
    "- row-wise"
   ]
  },
  {
   "cell_type": "code",
   "execution_count": 9,
   "metadata": {
    "scrolled": false
   },
   "outputs": [
    {
     "name": "stdout",
     "output_type": "stream",
     "text": [
      "array_two: \n",
      "[[1 2 3]\n",
      " [4 5 6]\n",
      " [7 8 9]]\n",
      "\n",
      "array_two[0,:]: \n",
      "[1 2 3]\n",
      "\n",
      "array_two[1,:]: \n",
      "[4 5 6]\n",
      "\n",
      "array_two[2,:]: \n",
      "[7 8 9]\n",
      "\n"
     ]
    }
   ],
   "source": [
    "print(f'array_two: \\n{array_two}\\n')\n",
    "\n",
    "print(f'array_two[0,:]: \\n{array_two[0,:]}\\n')\n",
    "print(f'array_two[1,:]: \\n{array_two[1,:]}\\n')\n",
    "print(f'array_two[2,:]: \\n{array_two[2,:]}\\n')"
   ]
  },
  {
   "cell_type": "markdown",
   "metadata": {},
   "source": [
    "**Slicing 2D arrays**\n",
    "- column-wise"
   ]
  },
  {
   "cell_type": "code",
   "execution_count": 10,
   "metadata": {
    "scrolled": false
   },
   "outputs": [
    {
     "name": "stdout",
     "output_type": "stream",
     "text": [
      "Array two as reference: \n",
      "[[1 2 3]\n",
      " [4 5 6]\n",
      " [7 8 9]]\n",
      "\n",
      "array_two[:,0]: \n",
      "[1 4 7]\n",
      "\n",
      "array_two[:,1]: \n",
      "[2 5 8]\n",
      "\n",
      "array_two[:,2]: \n",
      "[3 6 9]\n",
      "\n"
     ]
    }
   ],
   "source": [
    "print(f'Array two as reference: \\n{array_two}\\n')\n",
    "\n",
    "print(f'array_two[:,0]: \\n{array_two[:,0]}\\n')\n",
    "print(f'array_two[:,1]: \\n{array_two[:,1]}\\n')\n",
    "print(f'array_two[:,2]: \\n{array_two[:,2]}\\n')"
   ]
  },
  {
   "cell_type": "markdown",
   "metadata": {},
   "source": [
    "**Slicing 2D array**\n",
    "- both axis"
   ]
  },
  {
   "cell_type": "code",
   "execution_count": 11,
   "metadata": {
    "scrolled": true
   },
   "outputs": [
    {
     "name": "stdout",
     "output_type": "stream",
     "text": [
      "array_two[0:2,0]: \n",
      "[1 4]\n",
      "\n",
      "array_two[0:2,0:2]: \n",
      "[[1 2]\n",
      " [4 5]]\n",
      "\n",
      "array_two[1:3,1:3]: \n",
      "[[5 6]\n",
      " [8 9]]\n",
      "\n"
     ]
    }
   ],
   "source": [
    "print(f'array_two[0:2,0]: \\n{array_two[0:2,0]}\\n')\n",
    "print(f'array_two[0:2,0:2]: \\n{array_two[0:2,0:2]}\\n')\n",
    "print(f'array_two[1:3,1:3]: \\n{array_two[1:3,1:3]}\\n')"
   ]
  },
  {
   "cell_type": "markdown",
   "metadata": {},
   "source": [
    "**Slicing 2D arrays**\n",
    "- with stride"
   ]
  },
  {
   "cell_type": "code",
   "execution_count": 12,
   "metadata": {
    "scrolled": true
   },
   "outputs": [
    {
     "name": "stdout",
     "output_type": "stream",
     "text": [
      "array_two[0,::1]: \n",
      "[1 2 3]\n",
      "\n",
      "array_two[0,::2]: \n",
      "[1 3]\n",
      "\n",
      "array_two[::1,0]: \n",
      "[1 4 7]\n",
      "\n",
      "array_two[::2,0]: \n",
      "[1 7]\n",
      "\n"
     ]
    }
   ],
   "source": [
    "print(f'array_two[0,::1]: \\n{array_two[0,::1]}\\n')\n",
    "print(f'array_two[0,::2]: \\n{array_two[0,::2]}\\n')\n",
    "\n",
    "print(f'array_two[::1,0]: \\n{array_two[::1,0]}\\n')\n",
    "print(f'array_two[::2,0]: \\n{array_two[::2,0]}\\n')"
   ]
  },
  {
   "cell_type": "markdown",
   "metadata": {},
   "source": [
    "**Slicing 3D arrays**"
   ]
  },
  {
   "cell_type": "code",
   "execution_count": 26,
   "metadata": {
    "scrolled": true
   },
   "outputs": [
    {
     "name": "stdout",
     "output_type": "stream",
     "text": [
      "array_three: \n",
      "[[[1 2]\n",
      "  [3 4]]\n",
      "\n",
      " [[5 6]\n",
      "  [7 8]]]\n",
      "\n",
      "array_three[0]:\n",
      "[[1 2]\n",
      " [3 4]]\n",
      "\n",
      "array_three[1]:\n",
      "[[5 6]\n",
      " [7 8]]\n",
      "\n"
     ]
    }
   ],
   "source": [
    "print(f'array_three: \\n{array_three}\\n')\n",
    "\n",
    "print(f'array_three[0]:\\n{array_three[0]}\\n')\n",
    "print(f'array_three[1]:\\n{array_three[1]}\\n')"
   ]
  },
  {
   "cell_type": "code",
   "execution_count": 27,
   "metadata": {},
   "outputs": [
    {
     "name": "stdout",
     "output_type": "stream",
     "text": [
      "array_three[0][0,:]:\n",
      "[1 2]\n",
      "\n",
      "array_three[1][1,:]:\n",
      "[7 8]\n",
      "\n"
     ]
    }
   ],
   "source": [
    "print(f'array_three[0][0,:]:\\n{array_three[0][0,:]}\\n')\n",
    "print(f'array_three[1][1,:]:\\n{array_three[1][1,:]}\\n')"
   ]
  },
  {
   "cell_type": "markdown",
   "metadata": {},
   "source": [
    "## 3. Indexing and Assignment"
   ]
  },
  {
   "cell_type": "code",
   "execution_count": 14,
   "metadata": {
    "scrolled": true
   },
   "outputs": [
    {
     "name": "stdout",
     "output_type": "stream",
     "text": [
      "Array x:[0 1 2 3 4 5 6 7 8 9]\n",
      "\n",
      "x[2] = 33: [ 0  1 33  3  4  5  6  7  8  9]\n",
      "\n",
      "x[6:-1] = 728: [  0   1  33   3   4   5 728 728 728   9]\n"
     ]
    }
   ],
   "source": [
    "x = np.arange(10)\n",
    "print(f'Array x:{x}\\n')\n",
    "\n",
    "x[2] = 33\n",
    "print(f'x[2] = 33: {x}\\n')\n",
    "\n",
    "x[6:-1] = 728\n",
    "print(f'x[6:-1] = 728: {x}')"
   ]
  },
  {
   "cell_type": "code",
   "execution_count": 15,
   "metadata": {
    "scrolled": true
   },
   "outputs": [
    {
     "name": "stdout",
     "output_type": "stream",
     "text": [
      "y[-6:-1] = np.arange(100,105):\n",
      "\n",
      "[  0   1   2   3 100 101 102 103 104   9]\n"
     ]
    }
   ],
   "source": [
    "y = np.arange(10)\n",
    "y[-6:-1] = np.arange(100,105)\n",
    "print(f'y[-6:-1] = np.arange(100,105):\\n\\n{y}')"
   ]
  },
  {
   "cell_type": "code",
   "execution_count": 16,
   "metadata": {},
   "outputs": [
    {
     "name": "stdout",
     "output_type": "stream",
     "text": [
      "z[2:5] = z[2:5]*27:\n",
      "\n",
      "[  0   1  54  81 108   5   6   7   8   9]\n"
     ]
    }
   ],
   "source": [
    "z = np.arange(10)\n",
    "z[2:5] = z[2:5]*27\n",
    "print(f'z[2:5] = z[2:5]*27:\\n\\n{z}')"
   ]
  },
  {
   "cell_type": "markdown",
   "metadata": {},
   "source": [
    "## 4. Boolean(Masking) Indexing"
   ]
  },
  {
   "cell_type": "code",
   "execution_count": 17,
   "metadata": {
    "scrolled": true
   },
   "outputs": [
    {
     "name": "stdout",
     "output_type": "stream",
     "text": [
      "array: \n",
      "[ 0  1  2  3  4  5  6  7  8  9 10 11]\n",
      "\n",
      "mask: \n",
      "[False False False False False False False  True  True  True  True  True]\n",
      "\n",
      "array[mask]: \n",
      "[ 7  8  9 10 11]\n",
      "\n"
     ]
    }
   ],
   "source": [
    "array = np.arange(12) \n",
    "mask = array > 6\n",
    "\n",
    "print(f'array: \\n{array}\\n')\n",
    "print(f'mask: \\n{mask}\\n')\n",
    "print(f'array[mask]: \\n{array[mask]}\\n')"
   ]
  },
  {
   "cell_type": "code",
   "execution_count": 18,
   "metadata": {
    "scrolled": true
   },
   "outputs": [
    {
     "name": "stdout",
     "output_type": "stream",
     "text": [
      "[(1 < array) & (array < 5)]:\n",
      "[array([False, False,  True,  True,  True, False, False, False, False,\n",
      "       False, False, False])]\n",
      "\n",
      "array[(1 < array) & (array < 5)]:\n",
      "[2 3 4]\n"
     ]
    }
   ],
   "source": [
    "print(f'[(1 < array) & (array < 5)]:\\n{[(1 < array) & (array < 5)]}\\n')\n",
    "print(f'array[(1 < array) & (array < 5)]:\\n{array[(1 < array) & (array < 5)]}')"
   ]
  },
  {
   "cell_type": "code",
   "execution_count": 19,
   "metadata": {
    "scrolled": false
   },
   "outputs": [
    {
     "name": "stdout",
     "output_type": "stream",
     "text": [
      "array[(2 == array) | (array > 9)]:\n",
      "[ 2 10 11]\n",
      "\n",
      "array[((array % 2) == 0) | (array > 9)]:\n",
      "[ 0  2  4  6  8 10 11]\n",
      "\n",
      "array[(2 != array) & (array != 7) & (array != 10)]:\n",
      "[ 0  1  3  4  5  6  8  9 11] \n"
     ]
    }
   ],
   "source": [
    "print(f'array[(2 == array) | (array > 9)]:\\n{array[(2 == array) | (array > 9)]}\\n')\n",
    "print(f'array[((array % 2) == 0) | (array > 9)]:\\n{array[((array % 2) == 0) | (array > 9)]}\\n')\n",
    "print(f'array[(2 != array) & (array != 7) & (array != 10)]:\\n{array[(2 != array) & (array != 7) & (array != 10)]} ')"
   ]
  },
  {
   "cell_type": "markdown",
   "metadata": {},
   "source": [
    "**2D array masking**\n",
    "- mask 를 적용하고 난 후의 결과는?"
   ]
  },
  {
   "cell_type": "code",
   "execution_count": 20,
   "metadata": {},
   "outputs": [
    {
     "name": "stdout",
     "output_type": "stream",
     "text": [
      "array_two: \n",
      "[[ 1  2  3  4]\n",
      " [ 5  6  7  8]\n",
      " [ 9 10 11 12]\n",
      " [13 14 15 16]]\n",
      "\n",
      "mask_two: \n",
      "[[False False False False]\n",
      " [False False False False]\n",
      " [ True  True  True  True]\n",
      " [ True  True  True  True]]\n",
      "\n",
      "array_two[mask_two]: \n",
      "[ 9 10 11 12 13 14 15 16]\n",
      "\n",
      "array_two[mask_two].shape: (8,)\n"
     ]
    }
   ],
   "source": [
    "array_two = np.arange(1,17).reshape((4,4))\n",
    "mask_two =  array_two > 8\n",
    "\n",
    "print(f'array_two: \\n{array_two}\\n')\n",
    "print(f'mask_two: \\n{mask_two}\\n')\n",
    "print(f'array_two[mask_two]: \\n{array_two[mask_two]}\\n')\n",
    "print(f'array_two[mask_two].shape: {array_two[mask_two].shape}')"
   ]
  },
  {
   "cell_type": "markdown",
   "metadata": {},
   "source": [
    "## 실습해 보기"
   ]
  },
  {
   "cell_type": "markdown",
   "metadata": {},
   "source": [
    "#### 1. 다음 array 'a' 에 대해 원하는 결과를 얻도록 Indexing 해 보자.\n",
    "- a = np.arange(10, 20)\n",
    "\n",
    "1) 10  \n",
    "2) 13  \n",
    "3) 19  \n",
    "4) array([10, 11])  \n",
    "5) array([14, 15, 16])  \n",
    "6) array([18, 19])  \n",
    "7) array([10, 12, 14, 16, 18])  \n",
    "8) array([11, 13, 15])"
   ]
  },
  {
   "cell_type": "code",
   "execution_count": null,
   "metadata": {},
   "outputs": [],
   "source": []
  },
  {
   "cell_type": "markdown",
   "metadata": {},
   "source": [
    "#### 2. 다음 array 'a' 에 대해 원하는 결과를 얻도록 Indexing 해 보자.\n",
    "- a = np.arange(1,13).reshape(3,4)\n",
    "\n",
    "1) 1  \n",
    "2) 6  \n",
    "3) 12  \n",
    "4) array([1, 2, 3, 4])  \n",
    "5) array([5, 6, 7, 8])  \n",
    "6) array([ 9, 10, 11, 12])  \n",
    "7) array([ 2,  6, 10])  \n",
    "8) array([[1, 2],[5, 6]])  \n",
    "9) array([5, 6])  \n",
    "10) array([5, 7])"
   ]
  },
  {
   "cell_type": "code",
   "execution_count": null,
   "metadata": {},
   "outputs": [],
   "source": []
  },
  {
   "cell_type": "markdown",
   "metadata": {},
   "source": [
    "#### 3. 다음 array 'a' 를 변경해서 원하는 결과를 얻어보자.\n",
    "- a = np.arange(10)\n",
    "\n",
    "1) array([ 0,  1,  2,  3, 40, 50, 60,  7,  8,  9])"
   ]
  },
  {
   "cell_type": "code",
   "execution_count": null,
   "metadata": {},
   "outputs": [],
   "source": []
  },
  {
   "cell_type": "markdown",
   "metadata": {},
   "source": [
    "#### 4. 다음 array 'a' 를 변경해서 원하는 결과를 얻어보자.\n",
    "- a = np.arange(1,10).reshape(3,3)\n",
    "\n",
    "1) array([[  1,   2,   3],  \n",
    "       [  4, 100, 101],  \n",
    "       [  7, 102, 103]])"
   ]
  },
  {
   "cell_type": "code",
   "execution_count": null,
   "metadata": {},
   "outputs": [],
   "source": []
  },
  {
   "cell_type": "markdown",
   "metadata": {},
   "source": [
    "#### 4. 다음 array 'a' 가 아래 결과를 만족하도록 mask 를 만들고 boolean indexing 을 수행하라.\n",
    "<br>\n",
    "a = np.arange(1,11)\n",
    "\n",
    "- [1,2,3,4,5]\n",
    "- [2,4,6,,8,10]\n",
    "- [1,2,3,4,6,8,10]"
   ]
  },
  {
   "cell_type": "code",
   "execution_count": null,
   "metadata": {},
   "outputs": [],
   "source": []
  }
 ],
 "metadata": {
  "kernelspec": {
   "display_name": "Python 3",
   "language": "python",
   "name": "python3"
  },
  "language_info": {
   "codemirror_mode": {
    "name": "ipython",
    "version": 3
   },
   "file_extension": ".py",
   "mimetype": "text/x-python",
   "name": "python",
   "nbconvert_exporter": "python",
   "pygments_lexer": "ipython3",
   "version": "3.8.5"
  }
 },
 "nbformat": 4,
 "nbformat_minor": 5
}

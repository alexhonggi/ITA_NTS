{
 "cells": [
  {
   "cell_type": "code",
   "execution_count": 63,
   "metadata": {},
   "outputs": [],
   "source": [
    "import numpy as np\n",
    "import matplotlib.pyplot as plt\n",
    "from matplotlib import cm\n",
    "from matplotlib.colors import ListedColormap, LinearSegmentedColormap"
   ]
  },
  {
   "cell_type": "code",
   "execution_count": 64,
   "metadata": {},
   "outputs": [],
   "source": [
    "def draw_example(cmap):\n",
    "    fig, ax = plt.subplots(figsize=(5,0.5))\n",
    "    gradient = np.linspace(0, 1, 256)\n",
    "    gradient = np.vstack((gradient, gradient))\n",
    "    ax.imshow(gradient, aspect='auto', cmap=cmap)"
   ]
  },
  {
   "cell_type": "code",
   "execution_count": 65,
   "metadata": {},
   "outputs": [],
   "source": [
    "def f(x,y):\n",
    "    return x**2 + y**2\n",
    "\n",
    "def draw_contour(cmap):\n",
    "    xrange = np.linspace(-10,10,100)\n",
    "    yrange = np.linspace(-10,10,100)\n",
    "    xmesh, ymesh = np.meshgrid(xrange, yrange)\n",
    "    zmesh = f(xmesh, ymesh)\n",
    "\n",
    "    fig, ax = plt.subplots()\n",
    "    contour_map = ax.contourf(xmesh, ymesh, zmesh, levels=15, cmap=cmap)\n",
    "    fig.colorbar(contour_map)"
   ]
  },
  {
   "cell_type": "code",
   "execution_count": 66,
   "metadata": {},
   "outputs": [],
   "source": [
    "mycmap = ListedColormap([\"red\", \"magenta\", \"purple\", \"orange\", \"dodgerblue\"])"
   ]
  },
  {
   "cell_type": "code",
   "execution_count": 67,
   "metadata": {},
   "outputs": [
    {
     "data": {
      "text/plain": [
       "['red', 'magenta', 'purple', 'orange', 'dodgerblue']"
      ]
     },
     "execution_count": 67,
     "metadata": {},
     "output_type": "execute_result"
    }
   ],
   "source": [
    "mycmap.colors"
   ]
  },
  {
   "cell_type": "code",
   "execution_count": 68,
   "metadata": {},
   "outputs": [
    {
     "data": {
      "image/png": "[encoded data removed]",
      "text/plain": [
       "<Figure size 360x36 with 1 Axes>"
      ]
     },
     "metadata": {
      "needs_background": "light"
     },
     "output_type": "display_data"
    }
   ],
   "source": [
    "draw_example(mycmap)"
   ]
  },
  {
   "cell_type": "markdown",
   "metadata": {},
   "source": [
    "### How to convert mycamp look like continuous?"
   ]
  },
  {
   "cell_type": "code",
   "execution_count": 69,
   "metadata": {},
   "outputs": [
    {
     "data": {
      "text/plain": [
       "array([[1.        , 0.        , 0.        , 1.        ],\n",
       "       [1.        , 0.        , 0.        , 1.        ],\n",
       "       [1.        , 0.        , 0.        , 1.        ],\n",
       "       [1.        , 0.        , 0.        , 1.        ],\n",
       "       [1.        , 0.        , 0.        , 1.        ],\n",
       "       [1.        , 0.        , 0.        , 1.        ],\n",
       "       [1.        , 0.        , 0.        , 1.        ],\n",
       "       [1.        , 0.        , 0.        , 1.        ],\n",
       "       [1.        , 0.        , 0.        , 1.        ],\n",
       "       [1.        , 0.        , 0.        , 1.        ],\n",
       "       [1.        , 0.        , 0.        , 1.        ],\n",
       "       [1.        , 0.        , 0.        , 1.        ],\n",
       "       [1.        , 0.        , 0.        , 1.        ],\n",
       "       [1.        , 0.        , 0.        , 1.        ],\n",
       "       [1.        , 0.        , 0.        , 1.        ],\n",
       "       [1.        , 0.        , 0.        , 1.        ],\n",
       "       [1.        , 0.        , 0.        , 1.        ],\n",
       "       [1.        , 0.        , 0.        , 1.        ],\n",
       "       [1.        , 0.        , 0.        , 1.        ],\n",
       "       [1.        , 0.        , 0.        , 1.        ],\n",
       "       [1.        , 0.        , 1.        , 1.        ],\n",
       "       [1.        , 0.        , 1.        , 1.        ],\n",
       "       [1.        , 0.        , 1.        , 1.        ],\n",
       "       [1.        , 0.        , 1.        , 1.        ],\n",
       "       [1.        , 0.        , 1.        , 1.        ],\n",
       "       [1.        , 0.        , 1.        , 1.        ],\n",
       "       [1.        , 0.        , 1.        , 1.        ],\n",
       "       [1.        , 0.        , 1.        , 1.        ],\n",
       "       [1.        , 0.        , 1.        , 1.        ],\n",
       "       [1.        , 0.        , 1.        , 1.        ],\n",
       "       [1.        , 0.        , 1.        , 1.        ],\n",
       "       [1.        , 0.        , 1.        , 1.        ],\n",
       "       [1.        , 0.        , 1.        , 1.        ],\n",
       "       [1.        , 0.        , 1.        , 1.        ],\n",
       "       [1.        , 0.        , 1.        , 1.        ],\n",
       "       [1.        , 0.        , 1.        , 1.        ],\n",
       "       [1.        , 0.        , 1.        , 1.        ],\n",
       "       [1.        , 0.        , 1.        , 1.        ],\n",
       "       [1.        , 0.        , 1.        , 1.        ],\n",
       "       [1.        , 0.        , 1.        , 1.        ],\n",
       "       [0.50196078, 0.        , 0.50196078, 1.        ],\n",
       "       [0.50196078, 0.        , 0.50196078, 1.        ],\n",
       "       [0.50196078, 0.        , 0.50196078, 1.        ],\n",
       "       [0.50196078, 0.        , 0.50196078, 1.        ],\n",
       "       [0.50196078, 0.        , 0.50196078, 1.        ],\n",
       "       [0.50196078, 0.        , 0.50196078, 1.        ],\n",
       "       [0.50196078, 0.        , 0.50196078, 1.        ],\n",
       "       [0.50196078, 0.        , 0.50196078, 1.        ],\n",
       "       [0.50196078, 0.        , 0.50196078, 1.        ],\n",
       "       [0.50196078, 0.        , 0.50196078, 1.        ],\n",
       "       [0.50196078, 0.        , 0.50196078, 1.        ],\n",
       "       [0.50196078, 0.        , 0.50196078, 1.        ],\n",
       "       [0.50196078, 0.        , 0.50196078, 1.        ],\n",
       "       [0.50196078, 0.        , 0.50196078, 1.        ],\n",
       "       [0.50196078, 0.        , 0.50196078, 1.        ],\n",
       "       [0.50196078, 0.        , 0.50196078, 1.        ],\n",
       "       [0.50196078, 0.        , 0.50196078, 1.        ],\n",
       "       [0.50196078, 0.        , 0.50196078, 1.        ],\n",
       "       [0.50196078, 0.        , 0.50196078, 1.        ],\n",
       "       [0.50196078, 0.        , 0.50196078, 1.        ],\n",
       "       [1.        , 0.64705882, 0.        , 1.        ],\n",
       "       [1.        , 0.64705882, 0.        , 1.        ],\n",
       "       [1.        , 0.64705882, 0.        , 1.        ],\n",
       "       [1.        , 0.64705882, 0.        , 1.        ],\n",
       "       [1.        , 0.64705882, 0.        , 1.        ],\n",
       "       [1.        , 0.64705882, 0.        , 1.        ],\n",
       "       [1.        , 0.64705882, 0.        , 1.        ],\n",
       "       [1.        , 0.64705882, 0.        , 1.        ],\n",
       "       [1.        , 0.64705882, 0.        , 1.        ],\n",
       "       [1.        , 0.64705882, 0.        , 1.        ],\n",
       "       [1.        , 0.64705882, 0.        , 1.        ],\n",
       "       [1.        , 0.64705882, 0.        , 1.        ],\n",
       "       [1.        , 0.64705882, 0.        , 1.        ],\n",
       "       [1.        , 0.64705882, 0.        , 1.        ],\n",
       "       [1.        , 0.64705882, 0.        , 1.        ],\n",
       "       [1.        , 0.64705882, 0.        , 1.        ],\n",
       "       [1.        , 0.64705882, 0.        , 1.        ],\n",
       "       [1.        , 0.64705882, 0.        , 1.        ],\n",
       "       [1.        , 0.64705882, 0.        , 1.        ],\n",
       "       [1.        , 0.64705882, 0.        , 1.        ],\n",
       "       [0.11764706, 0.56470588, 1.        , 1.        ],\n",
       "       [0.11764706, 0.56470588, 1.        , 1.        ],\n",
       "       [0.11764706, 0.56470588, 1.        , 1.        ],\n",
       "       [0.11764706, 0.56470588, 1.        , 1.        ],\n",
       "       [0.11764706, 0.56470588, 1.        , 1.        ],\n",
       "       [0.11764706, 0.56470588, 1.        , 1.        ],\n",
       "       [0.11764706, 0.56470588, 1.        , 1.        ],\n",
       "       [0.11764706, 0.56470588, 1.        , 1.        ],\n",
       "       [0.11764706, 0.56470588, 1.        , 1.        ],\n",
       "       [0.11764706, 0.56470588, 1.        , 1.        ],\n",
       "       [0.11764706, 0.56470588, 1.        , 1.        ],\n",
       "       [0.11764706, 0.56470588, 1.        , 1.        ],\n",
       "       [0.11764706, 0.56470588, 1.        , 1.        ],\n",
       "       [0.11764706, 0.56470588, 1.        , 1.        ],\n",
       "       [0.11764706, 0.56470588, 1.        , 1.        ],\n",
       "       [0.11764706, 0.56470588, 1.        , 1.        ],\n",
       "       [0.11764706, 0.56470588, 1.        , 1.        ],\n",
       "       [0.11764706, 0.56470588, 1.        , 1.        ],\n",
       "       [0.11764706, 0.56470588, 1.        , 1.        ],\n",
       "       [0.11764706, 0.56470588, 1.        , 1.        ],\n",
       "       [0.11764706, 0.56470588, 1.        , 1.        ]])"
      ]
     },
     "execution_count": 69,
     "metadata": {},
     "output_type": "execute_result"
    }
   ],
   "source": [
    "my_detailed_cmap = mycmap(np.linspace(0, 1, 101))\n",
    "my_detailed_cmap"
   ]
  },
  {
   "cell_type": "code",
   "execution_count": 70,
   "metadata": {},
   "outputs": [
    {
     "data": {
      "text/plain": [
       "<matplotlib.colors.LinearSegmentedColormap at 0x7fed1cc7d6d0>"
      ]
     },
     "execution_count": 70,
     "metadata": {},
     "output_type": "execute_result"
    }
   ],
   "source": [
    "colors = [\"red\", \"magenta\", \"purple\", \"orange\", \"dodgerblue\"]\n",
    "nodes = [0.0,0.25,0.5,0.75,1.0]\n",
    "\n",
    "my_detailed_cmap = LinearSegmentedColormap.from_list(\"mycmap\", list(zip(nodes, colors)))\n",
    "my_detailed_cmap"
   ]
  },
  {
   "cell_type": "code",
   "execution_count": 71,
   "metadata": {},
   "outputs": [
    {
     "data": {
      "image/png": "[encoded data removed]",
      "text/plain": [
       "<Figure size 360x36 with 1 Axes>"
      ]
     },
     "metadata": {
      "needs_background": "light"
     },
     "output_type": "display_data"
    }
   ],
   "source": [
    "draw_example(my_detailed_cmap)"
   ]
  },
  {
   "cell_type": "markdown",
   "metadata": {},
   "source": [
    "#### using only two simple colors"
   ]
  },
  {
   "cell_type": "code",
   "execution_count": 72,
   "metadata": {},
   "outputs": [
    {
     "data": {
      "text/plain": [
       "<matplotlib.colors.LinearSegmentedColormap at 0x7fed1cc7d670>"
      ]
     },
     "execution_count": 72,
     "metadata": {},
     "output_type": "execute_result"
    }
   ],
   "source": [
    "colors = [\"white\", \"dodgerblue\"]\n",
    "nodes = [0.0, 1.0]\n",
    "\n",
    "my_detailed_cmap = LinearSegmentedColormap.from_list(\"mycmap\", list(zip(nodes, colors)))\n",
    "my_detailed_cmap"
   ]
  },
  {
   "cell_type": "code",
   "execution_count": 73,
   "metadata": {},
   "outputs": [
    {
     "data": {
      "image/png": "[encoded data removed]",
      "text/plain": [
       "<Figure size 360x36 with 1 Axes>"
      ]
     },
     "metadata": {
      "needs_background": "light"
     },
     "output_type": "display_data"
    }
   ],
   "source": [
    "draw_example(my_detailed_cmap)"
   ]
  },
  {
   "cell_type": "code",
   "execution_count": 74,
   "metadata": {},
   "outputs": [
    {
     "data": {
      "text/plain": [
       "<matplotlib.colors.LinearSegmentedColormap at 0x7fed447c0580>"
      ]
     },
     "execution_count": 74,
     "metadata": {},
     "output_type": "execute_result"
    }
   ],
   "source": [
    "colors = [\"crimson\", \"cyan\"]\n",
    "nodes = [0.0, 1.0]\n",
    "\n",
    "my_detailed_cmap = LinearSegmentedColormap.from_list(\"mycmap\", list(zip(nodes, colors)))\n",
    "my_detailed_cmap"
   ]
  },
  {
   "cell_type": "code",
   "execution_count": 75,
   "metadata": {},
   "outputs": [
    {
     "data": {
      "image/png": "[encoded data removed]",
      "text/plain": [
       "<Figure size 360x36 with 1 Axes>"
      ]
     },
     "metadata": {
      "needs_background": "light"
     },
     "output_type": "display_data"
    }
   ],
   "source": [
    "draw_example(my_detailed_cmap)"
   ]
  },
  {
   "cell_type": "markdown",
   "metadata": {},
   "source": [
    "### Get the color values from named color\n",
    "- Get the single value\n",
    "- Get the interpolated values from more than two, (ListedColormap vs LinearSegmentedColormap)"
   ]
  },
  {
   "cell_type": "markdown",
   "metadata": {},
   "source": [
    "#### Get the single value"
   ]
  },
  {
   "cell_type": "code",
   "execution_count": 76,
   "metadata": {},
   "outputs": [],
   "source": [
    "import matplotlib.colors as mcolors"
   ]
  },
  {
   "cell_type": "code",
   "execution_count": 77,
   "metadata": {},
   "outputs": [
    {
     "name": "stdout",
     "output_type": "stream",
     "text": [
      "using mcolors.cnames: (crimson=>#DC143C)\n",
      "using mcolors.get_named_colors_mapping(): (crimson=>#DC143C)\n"
     ]
    }
   ],
   "source": [
    "cname = 'crimson'\n",
    "color_hex = mcolors.cnames[cname]\n",
    "print('using mcolors.cnames: ({}=>{})'.format(cname, color_hex))\n",
    "\n",
    "color_hex = mcolors.get_named_colors_mapping()[cname]\n",
    "print('using mcolors.get_named_colors_mapping(): ({}=>{})'.format(cname, color_hex))"
   ]
  },
  {
   "cell_type": "code",
   "execution_count": 78,
   "metadata": {},
   "outputs": [
    {
     "name": "stdout",
     "output_type": "stream",
     "text": [
      "color_hex:#DC143C\n",
      "color_rgb:(0.8627450980392157, 0.0784313725490196, 0.23529411764705882)\n",
      "color_rgba:(0.8627450980392157, 0.0784313725490196, 0.23529411764705882, 1.0)\n"
     ]
    }
   ],
   "source": [
    "color_rgb = mcolors.to_rgb(color_hex)\n",
    "color_rgba = mcolors.to_rgba(color_hex)\n",
    "\n",
    "print(\"color_hex:{}\\ncolor_rgb:{}\\ncolor_rgba:{}\".format(color_hex, color_rgb, color_rgba))"
   ]
  },
  {
   "cell_type": "markdown",
   "metadata": {},
   "source": [
    "#### Get the interpolated values, ListedColormap vs LinearSegmentedColormap"
   ]
  },
  {
   "cell_type": "code",
   "execution_count": 79,
   "metadata": {},
   "outputs": [],
   "source": [
    "colors = [\"crimson\", \"cyan\"]\n",
    "nodes = [0.0, 1.0]"
   ]
  },
  {
   "cell_type": "code",
   "execution_count": 80,
   "metadata": {},
   "outputs": [
    {
     "name": "stdout",
     "output_type": "stream",
     "text": [
      "newcmap_listed(np.linspace(0,1,2))\n",
      "[[0.8627451  0.07843137 0.23529412 1.        ]\n",
      " [0.         1.         1.         1.        ]]\n",
      "\n",
      "newcmap_listed(np.linspace(0,1,8))\n",
      "[[0.8627451  0.07843137 0.23529412 1.        ]\n",
      " [0.8627451  0.07843137 0.23529412 1.        ]\n",
      " [0.8627451  0.07843137 0.23529412 1.        ]\n",
      " [0.8627451  0.07843137 0.23529412 1.        ]\n",
      " [0.         1.         1.         1.        ]\n",
      " [0.         1.         1.         1.        ]\n",
      " [0.         1.         1.         1.        ]\n",
      " [0.         1.         1.         1.        ]]\n"
     ]
    }
   ],
   "source": [
    "newcmap_listed = ListedColormap(colors)\n",
    "\n",
    "print('newcmap_listed(np.linspace(0,1,2))')\n",
    "print(newcmap_listed(np.linspace(0,1,2)))\n",
    "print('\\nnewcmap_listed(np.linspace(0,1,8))')\n",
    "print(newcmap_listed(np.linspace(0,1,8)))"
   ]
  },
  {
   "cell_type": "code",
   "execution_count": 81,
   "metadata": {},
   "outputs": [
    {
     "name": "stdout",
     "output_type": "stream",
     "text": [
      "newcmap_listed(np.linspace(0,1,2))\n",
      "[[0.8627451  0.07843137 0.23529412 1.        ]\n",
      " [0.         1.         1.         1.        ]]\n",
      "\n",
      "newcmap_listed(np.linspace(0,1,8))\n",
      "[[0.8627451  0.07843137 0.23529412 1.        ]\n",
      " [0.74094579 0.20853518 0.3432526  1.        ]\n",
      " [0.61576317 0.34225298 0.45420992 1.        ]\n",
      " [0.49396386 0.47235679 0.5621684  1.        ]\n",
      " [0.36878124 0.60607459 0.67312572 1.        ]\n",
      " [0.24698193 0.73617839 0.7810842  1.        ]\n",
      " [0.12179931 0.86989619 0.89204152 1.        ]\n",
      " [0.         1.         1.         1.        ]]\n"
     ]
    }
   ],
   "source": [
    "newcmap_linseg = LinearSegmentedColormap.from_list(\"mycmap\", list(zip(nodes, colors)))\n",
    "\n",
    "print('newcmap_listed(np.linspace(0,1,2))')\n",
    "print(newcmap_linseg(np.linspace(0,1,2)))\n",
    "print('\\nnewcmap_listed(np.linspace(0,1,8))')\n",
    "print(newcmap_linseg(np.linspace(0,1,8)))"
   ]
  },
  {
   "cell_type": "code",
   "execution_count": null,
   "metadata": {},
   "outputs": [],
   "source": []
  }
 ],
 "metadata": {
  "kernelspec": {
   "display_name": "Python 3",
   "language": "python",
   "name": "python3"
  },
  "language_info": {
   "codemirror_mode": {
    "name": "ipython",
    "version": 3
   },
   "file_extension": ".py",
   "mimetype": "text/x-python",
   "name": "python",
   "nbconvert_exporter": "python",
   "pygments_lexer": "ipython3",
   "version": "3.8.5"
  }
 },
 "nbformat": 4,
 "nbformat_minor": 4
}
